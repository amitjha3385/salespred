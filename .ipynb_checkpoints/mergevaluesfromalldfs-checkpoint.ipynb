{
 "cells": [
  {
   "cell_type": "markdown",
   "metadata": {},
   "source": [
    "# Prepare data for random forest"
   ]
  },
  {
   "cell_type": "code",
   "execution_count": 1,
   "metadata": {},
   "outputs": [],
   "source": [
    "import pandas as pd\n",
    "import numpy as np"
   ]
  },
  {
   "cell_type": "code",
   "execution_count": 2,
   "metadata": {},
   "outputs": [],
   "source": [
    "base = pd.read_csv('./input/basestructuredf.csv')\n",
    "st = pd.read_csv('./input/cleanedmonthly.csv')\n",
    "# shops_em = pd.read_csv('./input/shop_embeddings.csv')\n",
    "# items_em = pd.read_csv('./input/item_embeddings.csv')\n",
    "shops_meta = pd.read_csv('./input/shops_meta.csv')\n",
    "items_meta = pd.read_csv('./input/items_meta.csv')"
   ]
  },
  {
   "cell_type": "code",
   "execution_count": 3,
   "metadata": {},
   "outputs": [
    {
     "name": "stdout",
     "output_type": "stream",
     "text": [
      "<class 'pandas.core.frame.DataFrame'>\n",
      "RangeIndex: 12368580 entries, 0 to 12368579\n",
      "Data columns (total 5 columns):\n",
      " #   Column          Dtype\n",
      "---  ------          -----\n",
      " 0   shop_id         int64\n",
      " 1   item_id         int64\n",
      " 2   date_block_num  int64\n",
      " 3   month           int64\n",
      " 4   year            int64\n",
      "dtypes: int64(5)\n",
      "memory usage: 471.8 MB\n"
     ]
    }
   ],
   "source": [
    "base.info()"
   ]
  },
  {
   "cell_type": "code",
   "execution_count": 4,
   "metadata": {},
   "outputs": [
    {
     "name": "stdout",
     "output_type": "stream",
     "text": [
      "<class 'pandas.core.frame.DataFrame'>\n",
      "RangeIndex: 853499 entries, 0 to 853498\n",
      "Data columns (total 7 columns):\n",
      " #   Column                Non-Null Count   Dtype  \n",
      "---  ------                --------------   -----  \n",
      " 0   year                  853499 non-null  int64  \n",
      " 1   month                 853499 non-null  int64  \n",
      " 2   shop_id               853499 non-null  int64  \n",
      " 3   item_id               853499 non-null  int64  \n",
      " 4   date_block_num        853499 non-null  int64  \n",
      " 5   item_cnt_month        853499 non-null  float64\n",
      " 6   median_monthly_price  853499 non-null  float64\n",
      "dtypes: float64(2), int64(5)\n",
      "memory usage: 45.6 MB\n"
     ]
    }
   ],
   "source": [
    "st.info()"
   ]
  },
  {
   "cell_type": "markdown",
   "metadata": {},
   "source": [
    "### Drop shops_id_month column from shops_em"
   ]
  },
  {
   "cell_type": "code",
   "execution_count": 102,
   "metadata": {},
   "outputs": [],
   "source": [
    "shops_em.drop(columns='shop_id_month', axis=1, inplace=True)"
   ]
  },
  {
   "cell_type": "code",
   "execution_count": 103,
   "metadata": {},
   "outputs": [
    {
     "name": "stdout",
     "output_type": "stream",
     "text": [
      "<class 'pandas.core.frame.DataFrame'>\n",
      "RangeIndex: 624 entries, 0 to 623\n",
      "Data columns (total 12 columns):\n",
      " #   Column   Non-Null Count  Dtype  \n",
      "---  ------   --------------  -----  \n",
      " 0   se_1     624 non-null    float64\n",
      " 1   se_2     624 non-null    float64\n",
      " 2   se_3     624 non-null    float64\n",
      " 3   se_4     624 non-null    float64\n",
      " 4   se_5     624 non-null    float64\n",
      " 5   se_6     624 non-null    float64\n",
      " 6   se_7     624 non-null    float64\n",
      " 7   se_8     624 non-null    float64\n",
      " 8   se_9     624 non-null    float64\n",
      " 9   se_10    624 non-null    float64\n",
      " 10  shop_id  624 non-null    float64\n",
      " 11  month    624 non-null    float64\n",
      "dtypes: float64(12)\n",
      "memory usage: 58.6 KB\n"
     ]
    }
   ],
   "source": [
    "shops_em.info()"
   ]
  },
  {
   "cell_type": "markdown",
   "metadata": {},
   "source": [
    "## Merge sales data onto base, save value as sales"
   ]
  },
  {
   "cell_type": "code",
   "execution_count": 5,
   "metadata": {},
   "outputs": [],
   "source": [
    "sales = base.merge(st, 'outer', on=['year', 'date_block_num','month','shop_id', 'item_id'])"
   ]
  },
  {
   "cell_type": "code",
   "execution_count": 6,
   "metadata": {},
   "outputs": [
    {
     "name": "stdout",
     "output_type": "stream",
     "text": [
      "<class 'pandas.core.frame.DataFrame'>\n",
      "Int64Index: 12368580 entries, 0 to 12368579\n",
      "Data columns (total 7 columns):\n",
      " #   Column                Dtype  \n",
      "---  ------                -----  \n",
      " 0   shop_id               int64  \n",
      " 1   item_id               int64  \n",
      " 2   date_block_num        int64  \n",
      " 3   month                 int64  \n",
      " 4   year                  int64  \n",
      " 5   item_cnt_month        float64\n",
      " 6   median_monthly_price  float64\n",
      "dtypes: float64(2), int64(5)\n",
      "memory usage: 754.9 MB\n"
     ]
    }
   ],
   "source": [
    "sales.info()"
   ]
  },
  {
   "cell_type": "code",
   "execution_count": 7,
   "metadata": {},
   "outputs": [],
   "source": [
    "sales.fillna(value=0, inplace=True)"
   ]
  },
  {
   "cell_type": "code",
   "execution_count": 8,
   "metadata": {},
   "outputs": [
    {
     "name": "stdout",
     "output_type": "stream",
     "text": [
      "<class 'pandas.core.frame.DataFrame'>\n",
      "Int64Index: 12368580 entries, 0 to 12368579\n",
      "Data columns (total 7 columns):\n",
      " #   Column                Dtype  \n",
      "---  ------                -----  \n",
      " 0   shop_id               int64  \n",
      " 1   item_id               int64  \n",
      " 2   date_block_num        int64  \n",
      " 3   month                 int64  \n",
      " 4   year                  int64  \n",
      " 5   item_cnt_month        float64\n",
      " 6   median_monthly_price  float64\n",
      "dtypes: float64(2), int64(5)\n",
      "memory usage: 754.9 MB\n"
     ]
    }
   ],
   "source": [
    "sales.info()"
   ]
  },
  {
   "cell_type": "markdown",
   "metadata": {},
   "source": [
    "## Add lagging values onto the dataframe"
   ]
  },
  {
   "cell_type": "markdown",
   "metadata": {},
   "source": [
    "### Lagging values for item count"
   ]
  },
  {
   "cell_type": "code",
   "execution_count": 9,
   "metadata": {},
   "outputs": [],
   "source": [
    "for i in range(3):\n",
    "    sales[f'item_cnt_minus_{i+1}'] = sales.groupby(['shop_id', 'item_id']).item_cnt_month.shift(i+1)"
   ]
  },
  {
   "cell_type": "markdown",
   "metadata": {},
   "source": [
    "### Lagging median price value"
   ]
  },
  {
   "cell_type": "code",
   "execution_count": 10,
   "metadata": {},
   "outputs": [],
   "source": [
    "for i in range(1):\n",
    "    sales[f'mnth_med_price_minus_{i+1}'] = sales.groupby(['shop_id', 'item_id']).median_monthly_price.shift(i+1)"
   ]
  },
  {
   "cell_type": "markdown",
   "metadata": {},
   "source": [
    "### Drop Monthly median price column since it will not be available on test"
   ]
  },
  {
   "cell_type": "code",
   "execution_count": 11,
   "metadata": {},
   "outputs": [],
   "source": [
    "sales.drop(columns='median_monthly_price', inplace=True)"
   ]
  },
  {
   "cell_type": "markdown",
   "metadata": {},
   "source": [
    "### Remove dateblocknums 0, 1 & 2 as they have nan values"
   ]
  },
  {
   "cell_type": "code",
   "execution_count": 12,
   "metadata": {},
   "outputs": [],
   "source": [
    "mask = sales.date_block_num.isin([0,1,2])"
   ]
  },
  {
   "cell_type": "code",
   "execution_count": 13,
   "metadata": {},
   "outputs": [],
   "source": [
    "sales.drop(np.where(mask)[0], inplace=True)"
   ]
  },
  {
   "cell_type": "code",
   "execution_count": 14,
   "metadata": {},
   "outputs": [
    {
     "data": {
      "text/html": [
       "<div>\n",
       "<style scoped>\n",
       "    .dataframe tbody tr th:only-of-type {\n",
       "        vertical-align: middle;\n",
       "    }\n",
       "\n",
       "    .dataframe tbody tr th {\n",
       "        vertical-align: top;\n",
       "    }\n",
       "\n",
       "    .dataframe thead th {\n",
       "        text-align: right;\n",
       "    }\n",
       "</style>\n",
       "<table border=\"1\" class=\"dataframe\">\n",
       "  <thead>\n",
       "    <tr style=\"text-align: right;\">\n",
       "      <th></th>\n",
       "      <th>shop_id</th>\n",
       "      <th>item_id</th>\n",
       "      <th>date_block_num</th>\n",
       "      <th>month</th>\n",
       "      <th>year</th>\n",
       "      <th>item_cnt_month</th>\n",
       "      <th>item_cnt_minus_1</th>\n",
       "      <th>item_cnt_minus_2</th>\n",
       "      <th>item_cnt_minus_3</th>\n",
       "      <th>mnth_med_price_minus_1</th>\n",
       "    </tr>\n",
       "  </thead>\n",
       "  <tbody>\n",
       "    <tr>\n",
       "      <th>3</th>\n",
       "      <td>2</td>\n",
       "      <td>30</td>\n",
       "      <td>3</td>\n",
       "      <td>4</td>\n",
       "      <td>2013</td>\n",
       "      <td>0.0</td>\n",
       "      <td>1.0</td>\n",
       "      <td>0.0</td>\n",
       "      <td>0.0</td>\n",
       "      <td>359.0</td>\n",
       "    </tr>\n",
       "    <tr>\n",
       "      <th>4</th>\n",
       "      <td>2</td>\n",
       "      <td>30</td>\n",
       "      <td>4</td>\n",
       "      <td>5</td>\n",
       "      <td>2013</td>\n",
       "      <td>0.0</td>\n",
       "      <td>0.0</td>\n",
       "      <td>1.0</td>\n",
       "      <td>0.0</td>\n",
       "      <td>0.0</td>\n",
       "    </tr>\n",
       "    <tr>\n",
       "      <th>5</th>\n",
       "      <td>2</td>\n",
       "      <td>30</td>\n",
       "      <td>5</td>\n",
       "      <td>6</td>\n",
       "      <td>2013</td>\n",
       "      <td>1.0</td>\n",
       "      <td>0.0</td>\n",
       "      <td>0.0</td>\n",
       "      <td>1.0</td>\n",
       "      <td>0.0</td>\n",
       "    </tr>\n",
       "    <tr>\n",
       "      <th>6</th>\n",
       "      <td>2</td>\n",
       "      <td>30</td>\n",
       "      <td>6</td>\n",
       "      <td>7</td>\n",
       "      <td>2013</td>\n",
       "      <td>0.0</td>\n",
       "      <td>1.0</td>\n",
       "      <td>0.0</td>\n",
       "      <td>0.0</td>\n",
       "      <td>399.0</td>\n",
       "    </tr>\n",
       "    <tr>\n",
       "      <th>7</th>\n",
       "      <td>2</td>\n",
       "      <td>30</td>\n",
       "      <td>7</td>\n",
       "      <td>8</td>\n",
       "      <td>2013</td>\n",
       "      <td>0.0</td>\n",
       "      <td>0.0</td>\n",
       "      <td>1.0</td>\n",
       "      <td>0.0</td>\n",
       "      <td>0.0</td>\n",
       "    </tr>\n",
       "    <tr>\n",
       "      <th>...</th>\n",
       "      <td>...</td>\n",
       "      <td>...</td>\n",
       "      <td>...</td>\n",
       "      <td>...</td>\n",
       "      <td>...</td>\n",
       "      <td>...</td>\n",
       "      <td>...</td>\n",
       "      <td>...</td>\n",
       "      <td>...</td>\n",
       "      <td>...</td>\n",
       "    </tr>\n",
       "    <tr>\n",
       "      <th>12368575</th>\n",
       "      <td>59</td>\n",
       "      <td>22167</td>\n",
       "      <td>30</td>\n",
       "      <td>7</td>\n",
       "      <td>2015</td>\n",
       "      <td>0.0</td>\n",
       "      <td>0.0</td>\n",
       "      <td>0.0</td>\n",
       "      <td>0.0</td>\n",
       "      <td>0.0</td>\n",
       "    </tr>\n",
       "    <tr>\n",
       "      <th>12368576</th>\n",
       "      <td>59</td>\n",
       "      <td>22167</td>\n",
       "      <td>31</td>\n",
       "      <td>8</td>\n",
       "      <td>2015</td>\n",
       "      <td>0.0</td>\n",
       "      <td>0.0</td>\n",
       "      <td>0.0</td>\n",
       "      <td>0.0</td>\n",
       "      <td>0.0</td>\n",
       "    </tr>\n",
       "    <tr>\n",
       "      <th>12368577</th>\n",
       "      <td>59</td>\n",
       "      <td>22167</td>\n",
       "      <td>32</td>\n",
       "      <td>9</td>\n",
       "      <td>2015</td>\n",
       "      <td>0.0</td>\n",
       "      <td>0.0</td>\n",
       "      <td>0.0</td>\n",
       "      <td>0.0</td>\n",
       "      <td>0.0</td>\n",
       "    </tr>\n",
       "    <tr>\n",
       "      <th>12368578</th>\n",
       "      <td>59</td>\n",
       "      <td>22167</td>\n",
       "      <td>33</td>\n",
       "      <td>10</td>\n",
       "      <td>2015</td>\n",
       "      <td>0.0</td>\n",
       "      <td>0.0</td>\n",
       "      <td>0.0</td>\n",
       "      <td>0.0</td>\n",
       "      <td>0.0</td>\n",
       "    </tr>\n",
       "    <tr>\n",
       "      <th>12368579</th>\n",
       "      <td>59</td>\n",
       "      <td>22167</td>\n",
       "      <td>34</td>\n",
       "      <td>11</td>\n",
       "      <td>2015</td>\n",
       "      <td>0.0</td>\n",
       "      <td>0.0</td>\n",
       "      <td>0.0</td>\n",
       "      <td>0.0</td>\n",
       "      <td>0.0</td>\n",
       "    </tr>\n",
       "  </tbody>\n",
       "</table>\n",
       "<p>11308416 rows × 10 columns</p>\n",
       "</div>"
      ],
      "text/plain": [
       "          shop_id  item_id  date_block_num  month  year  item_cnt_month  \\\n",
       "3               2       30               3      4  2013             0.0   \n",
       "4               2       30               4      5  2013             0.0   \n",
       "5               2       30               5      6  2013             1.0   \n",
       "6               2       30               6      7  2013             0.0   \n",
       "7               2       30               7      8  2013             0.0   \n",
       "...           ...      ...             ...    ...   ...             ...   \n",
       "12368575       59    22167              30      7  2015             0.0   \n",
       "12368576       59    22167              31      8  2015             0.0   \n",
       "12368577       59    22167              32      9  2015             0.0   \n",
       "12368578       59    22167              33     10  2015             0.0   \n",
       "12368579       59    22167              34     11  2015             0.0   \n",
       "\n",
       "          item_cnt_minus_1  item_cnt_minus_2  item_cnt_minus_3  \\\n",
       "3                      1.0               0.0               0.0   \n",
       "4                      0.0               1.0               0.0   \n",
       "5                      0.0               0.0               1.0   \n",
       "6                      1.0               0.0               0.0   \n",
       "7                      0.0               1.0               0.0   \n",
       "...                    ...               ...               ...   \n",
       "12368575               0.0               0.0               0.0   \n",
       "12368576               0.0               0.0               0.0   \n",
       "12368577               0.0               0.0               0.0   \n",
       "12368578               0.0               0.0               0.0   \n",
       "12368579               0.0               0.0               0.0   \n",
       "\n",
       "          mnth_med_price_minus_1  \n",
       "3                          359.0  \n",
       "4                            0.0  \n",
       "5                            0.0  \n",
       "6                          399.0  \n",
       "7                            0.0  \n",
       "...                          ...  \n",
       "12368575                     0.0  \n",
       "12368576                     0.0  \n",
       "12368577                     0.0  \n",
       "12368578                     0.0  \n",
       "12368579                     0.0  \n",
       "\n",
       "[11308416 rows x 10 columns]"
      ]
     },
     "execution_count": 14,
     "metadata": {},
     "output_type": "execute_result"
    }
   ],
   "source": [
    "sales"
   ]
  },
  {
   "cell_type": "code",
   "execution_count": 15,
   "metadata": {},
   "outputs": [
    {
     "name": "stdout",
     "output_type": "stream",
     "text": [
      "<class 'pandas.core.frame.DataFrame'>\n",
      "Int64Index: 11308416 entries, 3 to 12368579\n",
      "Data columns (total 10 columns):\n",
      " #   Column                  Dtype  \n",
      "---  ------                  -----  \n",
      " 0   shop_id                 int64  \n",
      " 1   item_id                 int64  \n",
      " 2   date_block_num          int64  \n",
      " 3   month                   int64  \n",
      " 4   year                    int64  \n",
      " 5   item_cnt_month          float64\n",
      " 6   item_cnt_minus_1        float64\n",
      " 7   item_cnt_minus_2        float64\n",
      " 8   item_cnt_minus_3        float64\n",
      " 9   mnth_med_price_minus_1  float64\n",
      "dtypes: float64(5), int64(5)\n",
      "memory usage: 949.0 MB\n"
     ]
    }
   ],
   "source": [
    "sales.info()"
   ]
  },
  {
   "cell_type": "markdown",
   "metadata": {},
   "source": [
    "## Merge meta deta for shops and items_sale with st"
   ]
  },
  {
   "cell_type": "code",
   "execution_count": 17,
   "metadata": {},
   "outputs": [],
   "source": [
    "sales = pd.merge(left=sales, right=shops_meta, how='left', left_on='shop_id', right_on='shop_id')"
   ]
  },
  {
   "cell_type": "code",
   "execution_count": 18,
   "metadata": {},
   "outputs": [
    {
     "data": {
      "text/plain": [
       "shop_id                   0\n",
       "item_id                   0\n",
       "date_block_num            0\n",
       "month                     0\n",
       "year                      0\n",
       "item_cnt_month            0\n",
       "item_cnt_minus_1          0\n",
       "item_cnt_minus_2          0\n",
       "item_cnt_minus_3          0\n",
       "mnth_med_price_minus_1    0\n",
       "Unnamed: 0                0\n",
       "months_since_open         0\n",
       "dtype: int64"
      ]
     },
     "execution_count": 18,
     "metadata": {},
     "output_type": "execute_result"
    }
   ],
   "source": [
    "sales.isna().sum()"
   ]
  },
  {
   "cell_type": "code",
   "execution_count": 19,
   "metadata": {},
   "outputs": [],
   "source": [
    "items_meta.drop(columns=['num_months','first_month', 'last_month', 'item_trend' ], inplace=True)"
   ]
  },
  {
   "cell_type": "code",
   "execution_count": 20,
   "metadata": {},
   "outputs": [],
   "source": [
    "sales = pd.merge(left=sales, right=items_meta, how='left', left_on='item_id', right_on='item_id')"
   ]
  },
  {
   "cell_type": "code",
   "execution_count": 22,
   "metadata": {},
   "outputs": [
    {
     "name": "stdout",
     "output_type": "stream",
     "text": [
      "<class 'pandas.core.frame.DataFrame'>\n",
      "Int64Index: 11308416 entries, 0 to 11308415\n",
      "Data columns (total 16 columns):\n",
      " #   Column                  Dtype  \n",
      "---  ------                  -----  \n",
      " 0   shop_id                 int64  \n",
      " 1   item_id                 int64  \n",
      " 2   date_block_num          int64  \n",
      " 3   month                   int64  \n",
      " 4   year                    int64  \n",
      " 5   item_cnt_month          float64\n",
      " 6   item_cnt_minus_1        float64\n",
      " 7   item_cnt_minus_2        float64\n",
      " 8   item_cnt_minus_3        float64\n",
      " 9   mnth_med_price_minus_1  float64\n",
      " 10  Unnamed: 0_x            int64  \n",
      " 11  months_since_open       int64  \n",
      " 12  Unnamed: 0_y            float64\n",
      " 13  months_since_last       float64\n",
      " 14  months_since_on         float64\n",
      " 15  item_category_id        float64\n",
      "dtypes: float64(9), int64(7)\n",
      "memory usage: 1.4 GB\n"
     ]
    }
   ],
   "source": [
    "sales.info()"
   ]
  },
  {
   "cell_type": "code",
   "execution_count": 23,
   "metadata": {},
   "outputs": [],
   "source": [
    "sales.rename(columns={'months_since_open':'s_months_since_open', \n",
    "                   'months_since_last': 'i_months_since_last', \n",
    "                   'months_since_on': 'i_months_since_on', \n",
    "                    'Unnamed: 0_x': 'd1', 'Unnamed: 0_y': 'd2'}, inplace=True)"
   ]
  },
  {
   "cell_type": "code",
   "execution_count": 24,
   "metadata": {},
   "outputs": [],
   "source": [
    "sales.drop(columns=['d1', 'd2'], inplace=True)"
   ]
  },
  {
   "cell_type": "code",
   "execution_count": 25,
   "metadata": {},
   "outputs": [
    {
     "name": "stdout",
     "output_type": "stream",
     "text": [
      "<class 'pandas.core.frame.DataFrame'>\n",
      "Int64Index: 11308416 entries, 0 to 11308415\n",
      "Data columns (total 14 columns):\n",
      " #   Column                  Dtype  \n",
      "---  ------                  -----  \n",
      " 0   shop_id                 int64  \n",
      " 1   item_id                 int64  \n",
      " 2   date_block_num          int64  \n",
      " 3   month                   int64  \n",
      " 4   year                    int64  \n",
      " 5   item_cnt_month          float64\n",
      " 6   item_cnt_minus_1        float64\n",
      " 7   item_cnt_minus_2        float64\n",
      " 8   item_cnt_minus_3        float64\n",
      " 9   mnth_med_price_minus_1  float64\n",
      " 10  s_months_since_open     int64  \n",
      " 11  i_months_since_last     float64\n",
      " 12  i_months_since_on       float64\n",
      " 13  item_category_id        float64\n",
      "dtypes: float64(8), int64(6)\n",
      "memory usage: 1.3 GB\n"
     ]
    }
   ],
   "source": [
    "sales.info()"
   ]
  },
  {
   "cell_type": "code",
   "execution_count": 26,
   "metadata": {},
   "outputs": [
    {
     "data": {
      "text/plain": [
       "shop_id                        0\n",
       "item_id                        0\n",
       "date_block_num                 0\n",
       "month                          0\n",
       "year                           0\n",
       "item_cnt_month                 0\n",
       "item_cnt_minus_1               0\n",
       "item_cnt_minus_2               0\n",
       "item_cnt_minus_3               0\n",
       "mnth_med_price_minus_1         0\n",
       "s_months_since_open            0\n",
       "i_months_since_last       516096\n",
       "i_months_since_on         516096\n",
       "item_category_id          516096\n",
       "dtype: int64"
      ]
     },
     "execution_count": 26,
     "metadata": {},
     "output_type": "execute_result"
    }
   ],
   "source": [
    "sales.isnull().sum()"
   ]
  },
  {
   "cell_type": "code",
   "execution_count": 28,
   "metadata": {},
   "outputs": [
    {
     "data": {
      "text/plain": [
       "384"
      ]
     },
     "execution_count": 28,
     "metadata": {},
     "output_type": "execute_result"
    }
   ],
   "source": [
    "sales.loc[sales.i_months_since_last.isnull()].item_id.nunique()"
   ]
  },
  {
   "cell_type": "code",
   "execution_count": null,
   "metadata": {},
   "outputs": [],
   "source": []
  },
  {
   "cell_type": "code",
   "execution_count": null,
   "metadata": {},
   "outputs": [],
   "source": []
  },
  {
   "cell_type": "markdown",
   "metadata": {},
   "source": [
    "## Merge embeddings"
   ]
  },
  {
   "cell_type": "markdown",
   "metadata": {},
   "source": [
    "### Merge items_em onto sales, save as sales"
   ]
  },
  {
   "cell_type": "code",
   "execution_count": 114,
   "metadata": {},
   "outputs": [],
   "source": [
    "sales = pd.merge(left=sales, right=items_em, how='left', left_on='item_id', right_on='item_id')"
   ]
  },
  {
   "cell_type": "markdown",
   "metadata": {},
   "source": [
    "### Merge sales_em onto sales, save as sales"
   ]
  },
  {
   "cell_type": "code",
   "execution_count": 115,
   "metadata": {},
   "outputs": [],
   "source": [
    "sales = pd.merge(left=sales, right=shops_em, how='left', left_on=['shop_id', 'month'], right_on=['shop_id', 'month'])"
   ]
  },
  {
   "cell_type": "code",
   "execution_count": 116,
   "metadata": {},
   "outputs": [
    {
     "name": "stdout",
     "output_type": "stream",
     "text": [
      "<class 'pandas.core.frame.DataFrame'>\n",
      "Int64Index: 39720532 entries, 0 to 39720531\n",
      "Data columns (total 30 columns):\n",
      " #   Column                  Dtype  \n",
      "---  ------                  -----  \n",
      " 0   shop_id                 int64  \n",
      " 1   item_id                 int64  \n",
      " 2   date_block_num          int64  \n",
      " 3   month                   int64  \n",
      " 4   year                    int64  \n",
      " 5   item_cnt_month          float64\n",
      " 6   item_cnt_minus_1        float64\n",
      " 7   item_cnt_minus_2        float64\n",
      " 8   item_cnt_minus_3        float64\n",
      " 9   mnth_med_price_minus_1  float64\n",
      " 10  ie_1                    float64\n",
      " 11  ie_2                    float64\n",
      " 12  ie_3                    float64\n",
      " 13  ie_4                    float64\n",
      " 14  ie_5                    float64\n",
      " 15  ie_6                    float64\n",
      " 16  ie_7                    float64\n",
      " 17  ie_8                    float64\n",
      " 18  ie_9                    float64\n",
      " 19  ie_10                   float64\n",
      " 20  se_1                    float64\n",
      " 21  se_2                    float64\n",
      " 22  se_3                    float64\n",
      " 23  se_4                    float64\n",
      " 24  se_5                    float64\n",
      " 25  se_6                    float64\n",
      " 26  se_7                    float64\n",
      " 27  se_8                    float64\n",
      " 28  se_9                    float64\n",
      " 29  se_10                   float64\n",
      "dtypes: float64(25), int64(5)\n",
      "memory usage: 9.2 GB\n"
     ]
    }
   ],
   "source": [
    "sales.info()"
   ]
  },
  {
   "cell_type": "code",
   "execution_count": 117,
   "metadata": {},
   "outputs": [],
   "source": [
    "sales = sales.fillna(value=0)"
   ]
  },
  {
   "cell_type": "markdown",
   "metadata": {},
   "source": [
    "## Reduce size for training convert all columns to float32 "
   ]
  },
  {
   "cell_type": "code",
   "execution_count": 118,
   "metadata": {},
   "outputs": [],
   "source": [
    "sales = sales.astype(np.float32)"
   ]
  },
  {
   "cell_type": "code",
   "execution_count": 119,
   "metadata": {},
   "outputs": [
    {
     "name": "stdout",
     "output_type": "stream",
     "text": [
      "<class 'pandas.core.frame.DataFrame'>\n",
      "Int64Index: 39720532 entries, 0 to 39720531\n",
      "Data columns (total 30 columns):\n",
      " #   Column                  Dtype  \n",
      "---  ------                  -----  \n",
      " 0   shop_id                 float32\n",
      " 1   item_id                 float32\n",
      " 2   date_block_num          float32\n",
      " 3   month                   float32\n",
      " 4   year                    float32\n",
      " 5   item_cnt_month          float32\n",
      " 6   item_cnt_minus_1        float32\n",
      " 7   item_cnt_minus_2        float32\n",
      " 8   item_cnt_minus_3        float32\n",
      " 9   mnth_med_price_minus_1  float32\n",
      " 10  ie_1                    float32\n",
      " 11  ie_2                    float32\n",
      " 12  ie_3                    float32\n",
      " 13  ie_4                    float32\n",
      " 14  ie_5                    float32\n",
      " 15  ie_6                    float32\n",
      " 16  ie_7                    float32\n",
      " 17  ie_8                    float32\n",
      " 18  ie_9                    float32\n",
      " 19  ie_10                   float32\n",
      " 20  se_1                    float32\n",
      " 21  se_2                    float32\n",
      " 22  se_3                    float32\n",
      " 23  se_4                    float32\n",
      " 24  se_5                    float32\n",
      " 25  se_6                    float32\n",
      " 26  se_7                    float32\n",
      " 27  se_8                    float32\n",
      " 28  se_9                    float32\n",
      " 29  se_10                   float32\n",
      "dtypes: float32(30)\n",
      "memory usage: 4.7 GB\n"
     ]
    }
   ],
   "source": [
    "sales.info()"
   ]
  },
  {
   "cell_type": "code",
   "execution_count": null,
   "metadata": {
    "scrolled": true
   },
   "outputs": [],
   "source": []
  },
  {
   "cell_type": "markdown",
   "metadata": {},
   "source": [
    "# Random Forest"
   ]
  },
  {
   "cell_type": "code",
   "execution_count": 120,
   "metadata": {},
   "outputs": [],
   "source": [
    "from sklearn.metrics import mean_squared_error\n",
    "from sklearn.ensemble import RandomForestRegressor\n",
    "import gc"
   ]
  },
  {
   "cell_type": "code",
   "execution_count": 136,
   "metadata": {},
   "outputs": [],
   "source": [
    "def create_submission(tset, testdf, preds):\n",
    "    tset['item_cnt_month'] = preds\n",
    "    sub = testdf.merge(tset, 'inner', on=['shop_id', 'item_id']).loc[:,['ID', 'item_cnt_month']]\n",
    "    sub.to_csv('./submission.csv', index=False)\n",
    "\n",
    "def fi(model, df):\n",
    "    f = model.feature_importances_\n",
    "    cols = df.columns\n",
    "    x = pd.DataFrame({'Features': cols, 'Importance': f})\n",
    "    x.sort_values(by='Importance', ascending=False, ignore_index=True, inplace=True)\n",
    "    return x\n",
    "\n",
    "def train_rf_regressor(X, y, \n",
    "                       n_estimators=100, max_samples=5000000,\n",
    "                       min_samples_leaf=2, oob_score=False,\n",
    "                       n_jobs=-1, verbose=2, max_features=0.5):\n",
    "    return RandomForestRegressor(n_estimators=n_estimators, \n",
    "                                 max_samples=max_samples, \n",
    "                                 min_samples_leaf=min_samples_leaf,\n",
    "                                 oob_score=oob_score, n_jobs=-1, \n",
    "                                 verbose=verbose, max_features=max_features).fit(X,y)\n",
    "\n",
    "def validate_rf_regressor(model, valid_x, valid_y):\n",
    "    print(f'Out of bag score is {model.oob_score_}')\n",
    "    pred = np.clip(model.predict(valid_x), 0, 20)\n",
    "    rmse_score = np.sqrt(mean_squared_error(valid_y, pred))\n",
    "    print(f'RMSE score on validation set is {rmse_score}')\n"
   ]
  },
  {
   "cell_type": "code",
   "execution_count": 122,
   "metadata": {},
   "outputs": [],
   "source": [
    "test = pd.read_csv('./input/test.csv')"
   ]
  },
  {
   "cell_type": "markdown",
   "metadata": {},
   "source": [
    "## Declare training, validation and test sets"
   ]
  },
  {
   "cell_type": "code",
   "execution_count": 123,
   "metadata": {},
   "outputs": [],
   "source": [
    "test_idxs = np.where(sales.date_block_num == 34)[0]\n",
    "# valid_idxs = np.where(sales.date_block_num == 33)[0]\n",
    "train_idxs = np.where(sales.date_block_num<=33)[0]"
   ]
  },
  {
   "cell_type": "code",
   "execution_count": 124,
   "metadata": {},
   "outputs": [],
   "source": [
    "test_set = sales.loc[test_idxs]\n",
    "# valid_set = sales.loc[valid_idxs]\n",
    "train_set = sales.loc[train_idxs]"
   ]
  },
  {
   "cell_type": "code",
   "execution_count": 125,
   "metadata": {},
   "outputs": [
    {
     "data": {
      "text/plain": [
       "7412"
      ]
     },
     "execution_count": 125,
     "metadata": {},
     "output_type": "execute_result"
    }
   ],
   "source": [
    "del sales\n",
    "gc.collect()"
   ]
  },
  {
   "cell_type": "code",
   "execution_count": 126,
   "metadata": {},
   "outputs": [
    {
     "data": {
      "text/html": [
       "<div>\n",
       "<style scoped>\n",
       "    .dataframe tbody tr th:only-of-type {\n",
       "        vertical-align: middle;\n",
       "    }\n",
       "\n",
       "    .dataframe tbody tr th {\n",
       "        vertical-align: top;\n",
       "    }\n",
       "\n",
       "    .dataframe thead th {\n",
       "        text-align: right;\n",
       "    }\n",
       "</style>\n",
       "<table border=\"1\" class=\"dataframe\">\n",
       "  <thead>\n",
       "    <tr style=\"text-align: right;\">\n",
       "      <th></th>\n",
       "      <th>shop_id</th>\n",
       "      <th>item_id</th>\n",
       "      <th>date_block_num</th>\n",
       "      <th>month</th>\n",
       "      <th>year</th>\n",
       "      <th>item_cnt_month</th>\n",
       "      <th>item_cnt_minus_1</th>\n",
       "      <th>item_cnt_minus_2</th>\n",
       "      <th>item_cnt_minus_3</th>\n",
       "      <th>mnth_med_price_minus_1</th>\n",
       "      <th>...</th>\n",
       "      <th>se_1</th>\n",
       "      <th>se_2</th>\n",
       "      <th>se_3</th>\n",
       "      <th>se_4</th>\n",
       "      <th>se_5</th>\n",
       "      <th>se_6</th>\n",
       "      <th>se_7</th>\n",
       "      <th>se_8</th>\n",
       "      <th>se_9</th>\n",
       "      <th>se_10</th>\n",
       "    </tr>\n",
       "  </thead>\n",
       "  <tbody>\n",
       "    <tr>\n",
       "      <th>0</th>\n",
       "      <td>2.0</td>\n",
       "      <td>0.0</td>\n",
       "      <td>3.0</td>\n",
       "      <td>4.0</td>\n",
       "      <td>2013.0</td>\n",
       "      <td>0.0</td>\n",
       "      <td>0.0</td>\n",
       "      <td>0.0</td>\n",
       "      <td>0.0</td>\n",
       "      <td>0.0</td>\n",
       "      <td>...</td>\n",
       "      <td>0.875029</td>\n",
       "      <td>0.000000</td>\n",
       "      <td>0.0</td>\n",
       "      <td>0.0</td>\n",
       "      <td>0.173911</td>\n",
       "      <td>0.0</td>\n",
       "      <td>0.331640</td>\n",
       "      <td>0.000000</td>\n",
       "      <td>3.121851</td>\n",
       "      <td>0.000000e+00</td>\n",
       "    </tr>\n",
       "    <tr>\n",
       "      <th>1</th>\n",
       "      <td>2.0</td>\n",
       "      <td>0.0</td>\n",
       "      <td>4.0</td>\n",
       "      <td>5.0</td>\n",
       "      <td>2013.0</td>\n",
       "      <td>0.0</td>\n",
       "      <td>0.0</td>\n",
       "      <td>0.0</td>\n",
       "      <td>0.0</td>\n",
       "      <td>0.0</td>\n",
       "      <td>...</td>\n",
       "      <td>0.937297</td>\n",
       "      <td>0.310035</td>\n",
       "      <td>0.0</td>\n",
       "      <td>0.0</td>\n",
       "      <td>0.593119</td>\n",
       "      <td>0.0</td>\n",
       "      <td>0.005625</td>\n",
       "      <td>0.074036</td>\n",
       "      <td>0.281494</td>\n",
       "      <td>4.613876e-06</td>\n",
       "    </tr>\n",
       "    <tr>\n",
       "      <th>2</th>\n",
       "      <td>2.0</td>\n",
       "      <td>0.0</td>\n",
       "      <td>5.0</td>\n",
       "      <td>6.0</td>\n",
       "      <td>2013.0</td>\n",
       "      <td>0.0</td>\n",
       "      <td>0.0</td>\n",
       "      <td>0.0</td>\n",
       "      <td>0.0</td>\n",
       "      <td>0.0</td>\n",
       "      <td>...</td>\n",
       "      <td>1.280416</td>\n",
       "      <td>0.095130</td>\n",
       "      <td>0.0</td>\n",
       "      <td>0.0</td>\n",
       "      <td>0.551135</td>\n",
       "      <td>0.0</td>\n",
       "      <td>0.030893</td>\n",
       "      <td>0.111134</td>\n",
       "      <td>0.286407</td>\n",
       "      <td>1.326328e-06</td>\n",
       "    </tr>\n",
       "    <tr>\n",
       "      <th>3</th>\n",
       "      <td>2.0</td>\n",
       "      <td>0.0</td>\n",
       "      <td>6.0</td>\n",
       "      <td>7.0</td>\n",
       "      <td>2013.0</td>\n",
       "      <td>0.0</td>\n",
       "      <td>0.0</td>\n",
       "      <td>0.0</td>\n",
       "      <td>0.0</td>\n",
       "      <td>0.0</td>\n",
       "      <td>...</td>\n",
       "      <td>0.932013</td>\n",
       "      <td>0.023892</td>\n",
       "      <td>0.0</td>\n",
       "      <td>0.0</td>\n",
       "      <td>0.501091</td>\n",
       "      <td>0.0</td>\n",
       "      <td>0.158260</td>\n",
       "      <td>0.157712</td>\n",
       "      <td>0.134353</td>\n",
       "      <td>2.885396e-07</td>\n",
       "    </tr>\n",
       "    <tr>\n",
       "      <th>4</th>\n",
       "      <td>2.0</td>\n",
       "      <td>0.0</td>\n",
       "      <td>7.0</td>\n",
       "      <td>8.0</td>\n",
       "      <td>2013.0</td>\n",
       "      <td>0.0</td>\n",
       "      <td>0.0</td>\n",
       "      <td>0.0</td>\n",
       "      <td>0.0</td>\n",
       "      <td>0.0</td>\n",
       "      <td>...</td>\n",
       "      <td>0.708386</td>\n",
       "      <td>0.022656</td>\n",
       "      <td>0.0</td>\n",
       "      <td>0.0</td>\n",
       "      <td>0.608331</td>\n",
       "      <td>0.0</td>\n",
       "      <td>0.241996</td>\n",
       "      <td>0.260690</td>\n",
       "      <td>0.308020</td>\n",
       "      <td>4.746925e-08</td>\n",
       "    </tr>\n",
       "    <tr>\n",
       "      <th>...</th>\n",
       "      <td>...</td>\n",
       "      <td>...</td>\n",
       "      <td>...</td>\n",
       "      <td>...</td>\n",
       "      <td>...</td>\n",
       "      <td>...</td>\n",
       "      <td>...</td>\n",
       "      <td>...</td>\n",
       "      <td>...</td>\n",
       "      <td>...</td>\n",
       "      <td>...</td>\n",
       "      <td>...</td>\n",
       "      <td>...</td>\n",
       "      <td>...</td>\n",
       "      <td>...</td>\n",
       "      <td>...</td>\n",
       "      <td>...</td>\n",
       "      <td>...</td>\n",
       "      <td>...</td>\n",
       "      <td>...</td>\n",
       "      <td>...</td>\n",
       "    </tr>\n",
       "    <tr>\n",
       "      <th>39720526</th>\n",
       "      <td>59.0</td>\n",
       "      <td>22169.0</td>\n",
       "      <td>29.0</td>\n",
       "      <td>6.0</td>\n",
       "      <td>2015.0</td>\n",
       "      <td>0.0</td>\n",
       "      <td>0.0</td>\n",
       "      <td>0.0</td>\n",
       "      <td>0.0</td>\n",
       "      <td>0.0</td>\n",
       "      <td>...</td>\n",
       "      <td>2.011285</td>\n",
       "      <td>0.028887</td>\n",
       "      <td>0.0</td>\n",
       "      <td>0.0</td>\n",
       "      <td>0.751535</td>\n",
       "      <td>0.0</td>\n",
       "      <td>0.000000</td>\n",
       "      <td>0.111709</td>\n",
       "      <td>0.296507</td>\n",
       "      <td>5.827133e-07</td>\n",
       "    </tr>\n",
       "    <tr>\n",
       "      <th>39720527</th>\n",
       "      <td>59.0</td>\n",
       "      <td>22169.0</td>\n",
       "      <td>30.0</td>\n",
       "      <td>7.0</td>\n",
       "      <td>2015.0</td>\n",
       "      <td>0.0</td>\n",
       "      <td>0.0</td>\n",
       "      <td>0.0</td>\n",
       "      <td>0.0</td>\n",
       "      <td>0.0</td>\n",
       "      <td>...</td>\n",
       "      <td>1.805772</td>\n",
       "      <td>0.000000</td>\n",
       "      <td>0.0</td>\n",
       "      <td>0.0</td>\n",
       "      <td>0.701925</td>\n",
       "      <td>0.0</td>\n",
       "      <td>0.129080</td>\n",
       "      <td>0.151716</td>\n",
       "      <td>0.536274</td>\n",
       "      <td>2.747553e-08</td>\n",
       "    </tr>\n",
       "    <tr>\n",
       "      <th>39720528</th>\n",
       "      <td>59.0</td>\n",
       "      <td>22169.0</td>\n",
       "      <td>31.0</td>\n",
       "      <td>8.0</td>\n",
       "      <td>2015.0</td>\n",
       "      <td>0.0</td>\n",
       "      <td>0.0</td>\n",
       "      <td>0.0</td>\n",
       "      <td>0.0</td>\n",
       "      <td>0.0</td>\n",
       "      <td>...</td>\n",
       "      <td>1.725836</td>\n",
       "      <td>0.000000</td>\n",
       "      <td>0.0</td>\n",
       "      <td>0.0</td>\n",
       "      <td>0.915292</td>\n",
       "      <td>0.0</td>\n",
       "      <td>0.198155</td>\n",
       "      <td>0.282312</td>\n",
       "      <td>0.620570</td>\n",
       "      <td>0.000000e+00</td>\n",
       "    </tr>\n",
       "    <tr>\n",
       "      <th>39720529</th>\n",
       "      <td>59.0</td>\n",
       "      <td>22169.0</td>\n",
       "      <td>32.0</td>\n",
       "      <td>9.0</td>\n",
       "      <td>2015.0</td>\n",
       "      <td>0.0</td>\n",
       "      <td>0.0</td>\n",
       "      <td>0.0</td>\n",
       "      <td>0.0</td>\n",
       "      <td>0.0</td>\n",
       "      <td>...</td>\n",
       "      <td>1.502945</td>\n",
       "      <td>0.000000</td>\n",
       "      <td>0.0</td>\n",
       "      <td>0.0</td>\n",
       "      <td>0.398154</td>\n",
       "      <td>0.0</td>\n",
       "      <td>0.184675</td>\n",
       "      <td>2.899171</td>\n",
       "      <td>0.013480</td>\n",
       "      <td>0.000000e+00</td>\n",
       "    </tr>\n",
       "    <tr>\n",
       "      <th>39720530</th>\n",
       "      <td>59.0</td>\n",
       "      <td>22169.0</td>\n",
       "      <td>33.0</td>\n",
       "      <td>10.0</td>\n",
       "      <td>2015.0</td>\n",
       "      <td>0.0</td>\n",
       "      <td>0.0</td>\n",
       "      <td>0.0</td>\n",
       "      <td>0.0</td>\n",
       "      <td>0.0</td>\n",
       "      <td>...</td>\n",
       "      <td>1.387557</td>\n",
       "      <td>0.000000</td>\n",
       "      <td>0.0</td>\n",
       "      <td>0.0</td>\n",
       "      <td>0.316154</td>\n",
       "      <td>0.0</td>\n",
       "      <td>0.977492</td>\n",
       "      <td>1.202657</td>\n",
       "      <td>0.124413</td>\n",
       "      <td>0.000000e+00</td>\n",
       "    </tr>\n",
       "  </tbody>\n",
       "</table>\n",
       "<p>38479292 rows × 30 columns</p>\n",
       "</div>"
      ],
      "text/plain": [
       "          shop_id  item_id  date_block_num  month    year  item_cnt_month  \\\n",
       "0             2.0      0.0             3.0    4.0  2013.0             0.0   \n",
       "1             2.0      0.0             4.0    5.0  2013.0             0.0   \n",
       "2             2.0      0.0             5.0    6.0  2013.0             0.0   \n",
       "3             2.0      0.0             6.0    7.0  2013.0             0.0   \n",
       "4             2.0      0.0             7.0    8.0  2013.0             0.0   \n",
       "...           ...      ...             ...    ...     ...             ...   \n",
       "39720526     59.0  22169.0            29.0    6.0  2015.0             0.0   \n",
       "39720527     59.0  22169.0            30.0    7.0  2015.0             0.0   \n",
       "39720528     59.0  22169.0            31.0    8.0  2015.0             0.0   \n",
       "39720529     59.0  22169.0            32.0    9.0  2015.0             0.0   \n",
       "39720530     59.0  22169.0            33.0   10.0  2015.0             0.0   \n",
       "\n",
       "          item_cnt_minus_1  item_cnt_minus_2  item_cnt_minus_3  \\\n",
       "0                      0.0               0.0               0.0   \n",
       "1                      0.0               0.0               0.0   \n",
       "2                      0.0               0.0               0.0   \n",
       "3                      0.0               0.0               0.0   \n",
       "4                      0.0               0.0               0.0   \n",
       "...                    ...               ...               ...   \n",
       "39720526               0.0               0.0               0.0   \n",
       "39720527               0.0               0.0               0.0   \n",
       "39720528               0.0               0.0               0.0   \n",
       "39720529               0.0               0.0               0.0   \n",
       "39720530               0.0               0.0               0.0   \n",
       "\n",
       "          mnth_med_price_minus_1  ...      se_1      se_2  se_3  se_4  \\\n",
       "0                            0.0  ...  0.875029  0.000000   0.0   0.0   \n",
       "1                            0.0  ...  0.937297  0.310035   0.0   0.0   \n",
       "2                            0.0  ...  1.280416  0.095130   0.0   0.0   \n",
       "3                            0.0  ...  0.932013  0.023892   0.0   0.0   \n",
       "4                            0.0  ...  0.708386  0.022656   0.0   0.0   \n",
       "...                          ...  ...       ...       ...   ...   ...   \n",
       "39720526                     0.0  ...  2.011285  0.028887   0.0   0.0   \n",
       "39720527                     0.0  ...  1.805772  0.000000   0.0   0.0   \n",
       "39720528                     0.0  ...  1.725836  0.000000   0.0   0.0   \n",
       "39720529                     0.0  ...  1.502945  0.000000   0.0   0.0   \n",
       "39720530                     0.0  ...  1.387557  0.000000   0.0   0.0   \n",
       "\n",
       "              se_5  se_6      se_7      se_8      se_9         se_10  \n",
       "0         0.173911   0.0  0.331640  0.000000  3.121851  0.000000e+00  \n",
       "1         0.593119   0.0  0.005625  0.074036  0.281494  4.613876e-06  \n",
       "2         0.551135   0.0  0.030893  0.111134  0.286407  1.326328e-06  \n",
       "3         0.501091   0.0  0.158260  0.157712  0.134353  2.885396e-07  \n",
       "4         0.608331   0.0  0.241996  0.260690  0.308020  4.746925e-08  \n",
       "...            ...   ...       ...       ...       ...           ...  \n",
       "39720526  0.751535   0.0  0.000000  0.111709  0.296507  5.827133e-07  \n",
       "39720527  0.701925   0.0  0.129080  0.151716  0.536274  2.747553e-08  \n",
       "39720528  0.915292   0.0  0.198155  0.282312  0.620570  0.000000e+00  \n",
       "39720529  0.398154   0.0  0.184675  2.899171  0.013480  0.000000e+00  \n",
       "39720530  0.316154   0.0  0.977492  1.202657  0.124413  0.000000e+00  \n",
       "\n",
       "[38479292 rows x 30 columns]"
      ]
     },
     "execution_count": 126,
     "metadata": {},
     "output_type": "execute_result"
    }
   ],
   "source": [
    "train_set"
   ]
  },
  {
   "cell_type": "markdown",
   "metadata": {},
   "source": [
    "## Get Labels"
   ]
  },
  {
   "cell_type": "code",
   "execution_count": 127,
   "metadata": {},
   "outputs": [],
   "source": [
    "train_y = train_set['item_cnt_month']\n",
    "# valid_y = valid_set['item_cnt_month']"
   ]
  },
  {
   "cell_type": "code",
   "execution_count": 128,
   "metadata": {},
   "outputs": [],
   "source": [
    "train_set.drop(columns=['item_cnt_month', 'date_block_num'], inplace=True)\n",
    "# valid_set.drop(columns='item_cnt_month', inplace=True)\n",
    "test_set.drop(columns=['item_cnt_month','date_block_num'], inplace=True)"
   ]
  },
  {
   "cell_type": "code",
   "execution_count": 129,
   "metadata": {},
   "outputs": [
    {
     "name": "stdout",
     "output_type": "stream",
     "text": [
      "<class 'pandas.core.frame.DataFrame'>\n",
      "Int64Index: 38479292 entries, 0 to 39720530\n",
      "Data columns (total 28 columns):\n",
      " #   Column                  Dtype  \n",
      "---  ------                  -----  \n",
      " 0   shop_id                 float32\n",
      " 1   item_id                 float32\n",
      " 2   month                   float32\n",
      " 3   year                    float32\n",
      " 4   item_cnt_minus_1        float32\n",
      " 5   item_cnt_minus_2        float32\n",
      " 6   item_cnt_minus_3        float32\n",
      " 7   mnth_med_price_minus_1  float32\n",
      " 8   ie_1                    float32\n",
      " 9   ie_2                    float32\n",
      " 10  ie_3                    float32\n",
      " 11  ie_4                    float32\n",
      " 12  ie_5                    float32\n",
      " 13  ie_6                    float32\n",
      " 14  ie_7                    float32\n",
      " 15  ie_8                    float32\n",
      " 16  ie_9                    float32\n",
      " 17  ie_10                   float32\n",
      " 18  se_1                    float32\n",
      " 19  se_2                    float32\n",
      " 20  se_3                    float32\n",
      " 21  se_4                    float32\n",
      " 22  se_5                    float32\n",
      " 23  se_6                    float32\n",
      " 24  se_7                    float32\n",
      " 25  se_8                    float32\n",
      " 26  se_9                    float32\n",
      " 27  se_10                   float32\n",
      "dtypes: float32(28)\n",
      "memory usage: 4.3 GB\n"
     ]
    }
   ],
   "source": [
    "train_set.info()"
   ]
  },
  {
   "cell_type": "code",
   "execution_count": 130,
   "metadata": {},
   "outputs": [
    {
     "name": "stdout",
     "output_type": "stream",
     "text": [
      "<class 'pandas.core.frame.DataFrame'>\n",
      "Int64Index: 1241240 entries, 31 to 39720531\n",
      "Data columns (total 28 columns):\n",
      " #   Column                  Non-Null Count    Dtype  \n",
      "---  ------                  --------------    -----  \n",
      " 0   shop_id                 1241240 non-null  float32\n",
      " 1   item_id                 1241240 non-null  float32\n",
      " 2   month                   1241240 non-null  float32\n",
      " 3   year                    1241240 non-null  float32\n",
      " 4   item_cnt_minus_1        1241240 non-null  float32\n",
      " 5   item_cnt_minus_2        1241240 non-null  float32\n",
      " 6   item_cnt_minus_3        1241240 non-null  float32\n",
      " 7   mnth_med_price_minus_1  1241240 non-null  float32\n",
      " 8   ie_1                    1241240 non-null  float32\n",
      " 9   ie_2                    1241240 non-null  float32\n",
      " 10  ie_3                    1241240 non-null  float32\n",
      " 11  ie_4                    1241240 non-null  float32\n",
      " 12  ie_5                    1241240 non-null  float32\n",
      " 13  ie_6                    1241240 non-null  float32\n",
      " 14  ie_7                    1241240 non-null  float32\n",
      " 15  ie_8                    1241240 non-null  float32\n",
      " 16  ie_9                    1241240 non-null  float32\n",
      " 17  ie_10                   1241240 non-null  float32\n",
      " 18  se_1                    1241240 non-null  float32\n",
      " 19  se_2                    1241240 non-null  float32\n",
      " 20  se_3                    1241240 non-null  float32\n",
      " 21  se_4                    1241240 non-null  float32\n",
      " 22  se_5                    1241240 non-null  float32\n",
      " 23  se_6                    1241240 non-null  float32\n",
      " 24  se_7                    1241240 non-null  float32\n",
      " 25  se_8                    1241240 non-null  float32\n",
      " 26  se_9                    1241240 non-null  float32\n",
      " 27  se_10                   1241240 non-null  float32\n",
      "dtypes: float32(28)\n",
      "memory usage: 142.0 MB\n"
     ]
    }
   ],
   "source": [
    "test_set.info()"
   ]
  },
  {
   "cell_type": "code",
   "execution_count": 144,
   "metadata": {},
   "outputs": [
    {
     "name": "stderr",
     "output_type": "stream",
     "text": [
      "[Parallel(n_jobs=-1)]: Using backend ThreadingBackend with 8 concurrent workers.\n"
     ]
    },
    {
     "name": "stdout",
     "output_type": "stream",
     "text": [
      "building tree 1 of 150building tree 2 of 150\n",
      "building tree 3 of 150\n",
      "building tree 4 of 150\n",
      "building tree 5 of 150\n",
      "building tree 6 of 150\n",
      "building tree 7 of 150\n",
      "building tree 8 of 150\n",
      "\n",
      "building tree 9 of 150\n",
      "building tree 10 of 150\n",
      "building tree 11 of 150\n",
      "building tree 12 of 150\n",
      "building tree 13 of 150\n",
      "building tree 14 of 150\n",
      "building tree 15 of 150\n",
      "building tree 16 of 150\n",
      "building tree 17 of 150\n",
      "building tree 18 of 150\n",
      "building tree 19 of 150\n",
      "building tree 20 of 150\n",
      "building tree 21 of 150\n",
      "building tree 22 of 150\n",
      "building tree 23 of 150\n",
      "building tree 24 of 150\n",
      "building tree 25 of 150\n",
      "building tree 26 of 150\n",
      "building tree 27 of 150\n",
      "building tree 28 of 150\n",
      "building tree 29 of 150\n",
      "building tree 30 of 150\n",
      "building tree 31 of 150\n",
      "building tree 32 of 150\n"
     ]
    },
    {
     "name": "stderr",
     "output_type": "stream",
     "text": [
      "[Parallel(n_jobs=-1)]: Done  25 tasks      | elapsed:  1.1min\n"
     ]
    },
    {
     "name": "stdout",
     "output_type": "stream",
     "text": [
      "building tree 33 of 150\n",
      "building tree 34 of 150\n",
      "building tree 35 of 150\n",
      "building tree 36 of 150\n",
      "building tree 37 of 150\n",
      "building tree 38 of 150\n",
      "building tree 39 of 150\n",
      "building tree 40 of 150\n",
      "building tree 41 of 150\n",
      "building tree 42 of 150\n",
      "building tree 43 of 150\n",
      "building tree 44 of 150\n",
      "building tree 45 of 150\n",
      "building tree 46 of 150\n",
      "building tree 47 of 150\n",
      "building tree 48 of 150\n",
      "building tree 49 of 150\n",
      "building tree 50 of 150\n",
      "building tree 51 of 150\n",
      "building tree 52 of 150building tree 53 of 150\n",
      "\n",
      "building tree 54 of 150\n",
      "building tree 55 of 150\n",
      "building tree 56 of 150\n",
      "building tree 57 of 150\n",
      "building tree 58 of 150\n",
      "building tree 59 of 150\n",
      "building tree 60 of 150\n",
      "building tree 61 of 150\n",
      "building tree 62 of 150\n",
      "building tree 63 of 150\n",
      "building tree 64 of 150\n",
      "building tree 65 of 150\n",
      "building tree 66 of 150\n",
      "building tree 67 of 150\n",
      "building tree 68 of 150\n",
      "building tree 69 of 150\n",
      "building tree 70 of 150\n",
      "building tree 71 of 150\n",
      "building tree 72 of 150\n",
      "building tree 73 of 150\n",
      "building tree 74 of 150\n",
      "building tree 75 of 150\n",
      "building tree 76 of 150\n",
      "building tree 77 of 150\n",
      "building tree 78 of 150\n",
      "building tree 79 of 150\n",
      "building tree 80 of 150\n",
      "building tree 81 of 150\n",
      "building tree 82 of 150\n",
      "building tree 83 of 150\n",
      "building tree 84 of 150\n",
      "building tree 85 of 150\n",
      "building tree 86 of 150\n",
      "building tree 87 of 150\n",
      "building tree 88 of 150\n",
      "building tree 89 of 150\n",
      "building tree 90 of 150\n",
      "building tree 91 of 150\n",
      "building tree 92 of 150\n",
      "building tree 93 of 150\n",
      "building tree 94 of 150\n",
      "building tree 95 of 150\n",
      "building tree 96 of 150\n",
      "building tree 97 of 150\n",
      "building tree 98 of 150\n",
      "building tree 99 of 150\n",
      "building tree 100 of 150\n",
      "building tree 101 of 150\n",
      "building tree 102 of 150\n",
      "building tree 103 of 150\n",
      "building tree 104 of 150\n",
      "building tree 105 of 150\n",
      "building tree 106 of 150\n",
      "building tree 107 of 150\n",
      "building tree 108 of 150\n",
      "building tree 109 of 150\n",
      "building tree 110 of 150\n",
      "building tree 111 of 150\n",
      "building tree 112 of 150\n",
      "building tree 113 of 150\n",
      "building tree 114 of 150\n",
      "building tree 115 of 150\n",
      "building tree 116 of 150\n",
      "building tree 117 of 150\n",
      "building tree 118 of 150\n",
      "building tree 119 of 150\n",
      "building tree 120 of 150\n",
      "building tree 121 of 150\n",
      "building tree 122 of 150\n",
      "building tree 123 of 150\n",
      "building tree 124 of 150\n",
      "building tree 125 of 150\n",
      "building tree 126 of 150\n",
      "building tree 127 of 150\n",
      "building tree 128 of 150\n",
      "building tree 129 of 150\n",
      "building tree 130 of 150\n",
      "building tree 131 of 150\n",
      "building tree 132 of 150\n",
      "building tree 133 of 150building tree 134 of 150\n",
      "\n",
      "building tree 135 of 150\n",
      "building tree 136 of 150\n",
      "building tree 137 of 150\n",
      "building tree 138 of 150\n",
      "building tree 139 of 150\n",
      "building tree 140 of 150\n",
      "building tree 141 of 150\n",
      "building tree 142 of 150\n",
      "building tree 143 of 150\n",
      "building tree 144 of 150\n",
      "building tree 145 of 150\n",
      "building tree 146 of 150\n",
      "building tree 147 of 150\n",
      "building tree 148 of 150\n",
      "building tree 149 of 150\n",
      "building tree 150 of 150\n"
     ]
    },
    {
     "name": "stderr",
     "output_type": "stream",
     "text": [
      "[Parallel(n_jobs=-1)]: Done 150 out of 150 | elapsed:  5.5min finished\n"
     ]
    }
   ],
   "source": [
    "rfr = train_rf_regressor(train_set, train_y, n_estimators=150, max_samples=500000)"
   ]
  },
  {
   "cell_type": "code",
   "execution_count": 139,
   "metadata": {},
   "outputs": [],
   "source": [
    "# rfr.oob_score_"
   ]
  },
  {
   "cell_type": "code",
   "execution_count": 148,
   "metadata": {
    "scrolled": true
   },
   "outputs": [
    {
     "data": {
      "text/html": [
       "<div>\n",
       "<style scoped>\n",
       "    .dataframe tbody tr th:only-of-type {\n",
       "        vertical-align: middle;\n",
       "    }\n",
       "\n",
       "    .dataframe tbody tr th {\n",
       "        vertical-align: top;\n",
       "    }\n",
       "\n",
       "    .dataframe thead th {\n",
       "        text-align: right;\n",
       "    }\n",
       "</style>\n",
       "<table border=\"1\" class=\"dataframe\">\n",
       "  <thead>\n",
       "    <tr style=\"text-align: right;\">\n",
       "      <th></th>\n",
       "      <th>Features</th>\n",
       "      <th>Importance</th>\n",
       "    </tr>\n",
       "  </thead>\n",
       "  <tbody>\n",
       "    <tr>\n",
       "      <th>0</th>\n",
       "      <td>item_cnt_minus_1</td>\n",
       "      <td>0.303966</td>\n",
       "    </tr>\n",
       "    <tr>\n",
       "      <th>1</th>\n",
       "      <td>item_cnt_minus_2</td>\n",
       "      <td>0.140656</td>\n",
       "    </tr>\n",
       "    <tr>\n",
       "      <th>2</th>\n",
       "      <td>item_cnt_minus_3</td>\n",
       "      <td>0.106372</td>\n",
       "    </tr>\n",
       "    <tr>\n",
       "      <th>3</th>\n",
       "      <td>se_1</td>\n",
       "      <td>0.057401</td>\n",
       "    </tr>\n",
       "    <tr>\n",
       "      <th>4</th>\n",
       "      <td>ie_1</td>\n",
       "      <td>0.045773</td>\n",
       "    </tr>\n",
       "    <tr>\n",
       "      <th>5</th>\n",
       "      <td>ie_7</td>\n",
       "      <td>0.036820</td>\n",
       "    </tr>\n",
       "    <tr>\n",
       "      <th>6</th>\n",
       "      <td>shop_id</td>\n",
       "      <td>0.028466</td>\n",
       "    </tr>\n",
       "    <tr>\n",
       "      <th>7</th>\n",
       "      <td>se_5</td>\n",
       "      <td>0.028419</td>\n",
       "    </tr>\n",
       "    <tr>\n",
       "      <th>8</th>\n",
       "      <td>se_8</td>\n",
       "      <td>0.027615</td>\n",
       "    </tr>\n",
       "    <tr>\n",
       "      <th>9</th>\n",
       "      <td>se_9</td>\n",
       "      <td>0.024552</td>\n",
       "    </tr>\n",
       "    <tr>\n",
       "      <th>10</th>\n",
       "      <td>se_7</td>\n",
       "      <td>0.022938</td>\n",
       "    </tr>\n",
       "    <tr>\n",
       "      <th>11</th>\n",
       "      <td>mnth_med_price_minus_1</td>\n",
       "      <td>0.016384</td>\n",
       "    </tr>\n",
       "    <tr>\n",
       "      <th>12</th>\n",
       "      <td>ie_8</td>\n",
       "      <td>0.016204</td>\n",
       "    </tr>\n",
       "    <tr>\n",
       "      <th>13</th>\n",
       "      <td>se_2</td>\n",
       "      <td>0.015989</td>\n",
       "    </tr>\n",
       "    <tr>\n",
       "      <th>14</th>\n",
       "      <td>se_10</td>\n",
       "      <td>0.015861</td>\n",
       "    </tr>\n",
       "    <tr>\n",
       "      <th>15</th>\n",
       "      <td>month</td>\n",
       "      <td>0.015818</td>\n",
       "    </tr>\n",
       "    <tr>\n",
       "      <th>16</th>\n",
       "      <td>item_id</td>\n",
       "      <td>0.014180</td>\n",
       "    </tr>\n",
       "    <tr>\n",
       "      <th>17</th>\n",
       "      <td>ie_4</td>\n",
       "      <td>0.013374</td>\n",
       "    </tr>\n",
       "    <tr>\n",
       "      <th>18</th>\n",
       "      <td>ie_5</td>\n",
       "      <td>0.011556</td>\n",
       "    </tr>\n",
       "    <tr>\n",
       "      <th>19</th>\n",
       "      <td>year</td>\n",
       "      <td>0.011130</td>\n",
       "    </tr>\n",
       "    <tr>\n",
       "      <th>20</th>\n",
       "      <td>ie_9</td>\n",
       "      <td>0.009593</td>\n",
       "    </tr>\n",
       "    <tr>\n",
       "      <th>21</th>\n",
       "      <td>se_4</td>\n",
       "      <td>0.007656</td>\n",
       "    </tr>\n",
       "    <tr>\n",
       "      <th>22</th>\n",
       "      <td>ie_3</td>\n",
       "      <td>0.007244</td>\n",
       "    </tr>\n",
       "    <tr>\n",
       "      <th>23</th>\n",
       "      <td>ie_2</td>\n",
       "      <td>0.006033</td>\n",
       "    </tr>\n",
       "    <tr>\n",
       "      <th>24</th>\n",
       "      <td>ie_6</td>\n",
       "      <td>0.004844</td>\n",
       "    </tr>\n",
       "    <tr>\n",
       "      <th>25</th>\n",
       "      <td>se_6</td>\n",
       "      <td>0.004757</td>\n",
       "    </tr>\n",
       "    <tr>\n",
       "      <th>26</th>\n",
       "      <td>ie_10</td>\n",
       "      <td>0.004678</td>\n",
       "    </tr>\n",
       "    <tr>\n",
       "      <th>27</th>\n",
       "      <td>se_3</td>\n",
       "      <td>0.001720</td>\n",
       "    </tr>\n",
       "  </tbody>\n",
       "</table>\n",
       "</div>"
      ],
      "text/plain": [
       "                  Features  Importance\n",
       "0         item_cnt_minus_1    0.303966\n",
       "1         item_cnt_minus_2    0.140656\n",
       "2         item_cnt_minus_3    0.106372\n",
       "3                     se_1    0.057401\n",
       "4                     ie_1    0.045773\n",
       "5                     ie_7    0.036820\n",
       "6                  shop_id    0.028466\n",
       "7                     se_5    0.028419\n",
       "8                     se_8    0.027615\n",
       "9                     se_9    0.024552\n",
       "10                    se_7    0.022938\n",
       "11  mnth_med_price_minus_1    0.016384\n",
       "12                    ie_8    0.016204\n",
       "13                    se_2    0.015989\n",
       "14                   se_10    0.015861\n",
       "15                   month    0.015818\n",
       "16                 item_id    0.014180\n",
       "17                    ie_4    0.013374\n",
       "18                    ie_5    0.011556\n",
       "19                    year    0.011130\n",
       "20                    ie_9    0.009593\n",
       "21                    se_4    0.007656\n",
       "22                    ie_3    0.007244\n",
       "23                    ie_2    0.006033\n",
       "24                    ie_6    0.004844\n",
       "25                    se_6    0.004757\n",
       "26                   ie_10    0.004678\n",
       "27                    se_3    0.001720"
      ]
     },
     "execution_count": 148,
     "metadata": {},
     "output_type": "execute_result"
    }
   ],
   "source": [
    "fi(rfr, train_set)"
   ]
  },
  {
   "cell_type": "code",
   "execution_count": 145,
   "metadata": {},
   "outputs": [],
   "source": [
    "test_set.drop(columns=['item_cnt_month'], inplace=True)"
   ]
  },
  {
   "cell_type": "code",
   "execution_count": 146,
   "metadata": {},
   "outputs": [
    {
     "name": "stderr",
     "output_type": "stream",
     "text": [
      "[Parallel(n_jobs=8)]: Using backend ThreadingBackend with 8 concurrent workers.\n",
      "[Parallel(n_jobs=8)]: Done  25 tasks      | elapsed:    0.9s\n",
      "[Parallel(n_jobs=8)]: Done 150 out of 150 | elapsed:    4.5s finished\n"
     ]
    }
   ],
   "source": [
    "preds = np.clip(rfr.predict(test_set), 0, 20)"
   ]
  },
  {
   "cell_type": "code",
   "execution_count": 147,
   "metadata": {},
   "outputs": [],
   "source": [
    "create_submission(test_set, test, preds)"
   ]
  },
  {
   "cell_type": "code",
   "execution_count": 90,
   "metadata": {},
   "outputs": [],
   "source": [
    "sub = pd.read_csv('./submission.csv')"
   ]
  },
  {
   "cell_type": "code",
   "execution_count": 81,
   "metadata": {},
   "outputs": [
    {
     "name": "stdout",
     "output_type": "stream",
     "text": [
      "<class 'pandas.core.frame.DataFrame'>\n",
      "RangeIndex: 214200 entries, 0 to 214199\n",
      "Data columns (total 2 columns):\n",
      " #   Column          Non-Null Count   Dtype  \n",
      "---  ------          --------------   -----  \n",
      " 0   ID              214200 non-null  int64  \n",
      " 1   item_cnt_month  214200 non-null  float64\n",
      "dtypes: float64(1), int64(1)\n",
      "memory usage: 3.3 MB\n"
     ]
    }
   ],
   "source": [
    "sub.info()"
   ]
  },
  {
   "cell_type": "code",
   "execution_count": 82,
   "metadata": {},
   "outputs": [],
   "source": [
    "sample_sub = pd.read_csv('./input/sample_submission.csv')"
   ]
  },
  {
   "cell_type": "code",
   "execution_count": 83,
   "metadata": {},
   "outputs": [
    {
     "name": "stdout",
     "output_type": "stream",
     "text": [
      "<class 'pandas.core.frame.DataFrame'>\n",
      "RangeIndex: 214200 entries, 0 to 214199\n",
      "Data columns (total 2 columns):\n",
      " #   Column          Non-Null Count   Dtype  \n",
      "---  ------          --------------   -----  \n",
      " 0   ID              214200 non-null  int64  \n",
      " 1   item_cnt_month  214200 non-null  float64\n",
      "dtypes: float64(1), int64(1)\n",
      "memory usage: 3.3 MB\n"
     ]
    }
   ],
   "source": [
    "sample_sub.info()"
   ]
  },
  {
   "cell_type": "code",
   "execution_count": null,
   "metadata": {},
   "outputs": [],
   "source": []
  }
 ],
 "metadata": {
  "kernelspec": {
   "display_name": "Python 3",
   "language": "python",
   "name": "python3"
  },
  "language_info": {
   "codemirror_mode": {
    "name": "ipython",
    "version": 3
   },
   "file_extension": ".py",
   "mimetype": "text/x-python",
   "name": "python",
   "nbconvert_exporter": "python",
   "pygments_lexer": "ipython3",
   "version": "3.8.2"
  }
 },
 "nbformat": 4,
 "nbformat_minor": 4
}
