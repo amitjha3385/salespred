{
 "cells": [
  {
   "cell_type": "code",
   "execution_count": 1,
   "metadata": {},
   "outputs": [],
   "source": [
    "import pandas as pd\n",
    "import numpy as np\n",
    "import torch\n",
    "from sklearn.decomposition import NMF\n",
    "from sklearn.decomposition import PCA"
   ]
  },
  {
   "cell_type": "code",
   "execution_count": 2,
   "metadata": {},
   "outputs": [],
   "source": [
    "sales = pd.read_csv('./input/item_embeddings.csv')"
   ]
  },
  {
   "cell_type": "code",
   "execution_count": 3,
   "metadata": {},
   "outputs": [
    {
     "data": {
      "text/html": [
       "<div>\n",
       "<style scoped>\n",
       "    .dataframe tbody tr th:only-of-type {\n",
       "        vertical-align: middle;\n",
       "    }\n",
       "\n",
       "    .dataframe tbody tr th {\n",
       "        vertical-align: top;\n",
       "    }\n",
       "\n",
       "    .dataframe thead th {\n",
       "        text-align: right;\n",
       "    }\n",
       "</style>\n",
       "<table border=\"1\" class=\"dataframe\">\n",
       "  <thead>\n",
       "    <tr style=\"text-align: right;\">\n",
       "      <th></th>\n",
       "      <th>shop_id_month</th>\n",
       "      <th>item_id</th>\n",
       "      <th>item_cnt_month</th>\n",
       "      <th>shop_id</th>\n",
       "      <th>month</th>\n",
       "    </tr>\n",
       "  </thead>\n",
       "  <tbody>\n",
       "    <tr>\n",
       "      <th>0</th>\n",
       "      <td>2.0 / 1.0</td>\n",
       "      <td>27</td>\n",
       "      <td>1.0</td>\n",
       "      <td>2</td>\n",
       "      <td>1.0</td>\n",
       "    </tr>\n",
       "    <tr>\n",
       "      <th>1</th>\n",
       "      <td>2.0 / 1.0</td>\n",
       "      <td>32</td>\n",
       "      <td>1.0</td>\n",
       "      <td>2</td>\n",
       "      <td>1.0</td>\n",
       "    </tr>\n",
       "    <tr>\n",
       "      <th>2</th>\n",
       "      <td>2.0 / 1.0</td>\n",
       "      <td>33</td>\n",
       "      <td>2.0</td>\n",
       "      <td>2</td>\n",
       "      <td>1.0</td>\n",
       "    </tr>\n",
       "    <tr>\n",
       "      <th>3</th>\n",
       "      <td>2.0 / 1.0</td>\n",
       "      <td>67</td>\n",
       "      <td>1.0</td>\n",
       "      <td>2</td>\n",
       "      <td>1.0</td>\n",
       "    </tr>\n",
       "    <tr>\n",
       "      <th>4</th>\n",
       "      <td>2.0 / 1.0</td>\n",
       "      <td>83</td>\n",
       "      <td>0.0</td>\n",
       "      <td>2</td>\n",
       "      <td>1.0</td>\n",
       "    </tr>\n",
       "    <tr>\n",
       "      <th>...</th>\n",
       "      <td>...</td>\n",
       "      <td>...</td>\n",
       "      <td>...</td>\n",
       "      <td>...</td>\n",
       "      <td>...</td>\n",
       "    </tr>\n",
       "    <tr>\n",
       "      <th>1576324</th>\n",
       "      <td>59.0 / 12.0</td>\n",
       "      <td>22088</td>\n",
       "      <td>30.0</td>\n",
       "      <td>59</td>\n",
       "      <td>12.0</td>\n",
       "    </tr>\n",
       "    <tr>\n",
       "      <th>1576325</th>\n",
       "      <td>59.0 / 12.0</td>\n",
       "      <td>22091</td>\n",
       "      <td>11.0</td>\n",
       "      <td>59</td>\n",
       "      <td>12.0</td>\n",
       "    </tr>\n",
       "    <tr>\n",
       "      <th>1576326</th>\n",
       "      <td>59.0 / 12.0</td>\n",
       "      <td>22092</td>\n",
       "      <td>10.0</td>\n",
       "      <td>59</td>\n",
       "      <td>12.0</td>\n",
       "    </tr>\n",
       "    <tr>\n",
       "      <th>1576327</th>\n",
       "      <td>59.0 / 12.0</td>\n",
       "      <td>22137</td>\n",
       "      <td>0.0</td>\n",
       "      <td>59</td>\n",
       "      <td>12.0</td>\n",
       "    </tr>\n",
       "    <tr>\n",
       "      <th>1576328</th>\n",
       "      <td>59.0 / 12.0</td>\n",
       "      <td>22167</td>\n",
       "      <td>2.0</td>\n",
       "      <td>59</td>\n",
       "      <td>12.0</td>\n",
       "    </tr>\n",
       "  </tbody>\n",
       "</table>\n",
       "<p>1576329 rows × 5 columns</p>\n",
       "</div>"
      ],
      "text/plain": [
       "        shop_id_month  item_id  item_cnt_month  shop_id  month\n",
       "0           2.0 / 1.0       27             1.0        2    1.0\n",
       "1           2.0 / 1.0       32             1.0        2    1.0\n",
       "2           2.0 / 1.0       33             2.0        2    1.0\n",
       "3           2.0 / 1.0       67             1.0        2    1.0\n",
       "4           2.0 / 1.0       83             0.0        2    1.0\n",
       "...               ...      ...             ...      ...    ...\n",
       "1576324   59.0 / 12.0    22088            30.0       59   12.0\n",
       "1576325   59.0 / 12.0    22091            11.0       59   12.0\n",
       "1576326   59.0 / 12.0    22092            10.0       59   12.0\n",
       "1576327   59.0 / 12.0    22137             0.0       59   12.0\n",
       "1576328   59.0 / 12.0    22167             2.0       59   12.0\n",
       "\n",
       "[1576329 rows x 5 columns]"
      ]
     },
     "execution_count": 3,
     "metadata": {},
     "output_type": "execute_result"
    }
   ],
   "source": [
    "sales"
   ]
  },
  {
   "cell_type": "code",
   "execution_count": 4,
   "metadata": {},
   "outputs": [],
   "source": [
    "matrix = sales.pivot(index='shop_id_month', columns='item_id', values='item_cnt_month', )"
   ]
  },
  {
   "cell_type": "code",
   "execution_count": 5,
   "metadata": {},
   "outputs": [],
   "source": [
    "shop_month_rows = matrix.index"
   ]
  },
  {
   "cell_type": "code",
   "execution_count": 6,
   "metadata": {},
   "outputs": [],
   "source": [
    "items_cols = matrix.columns"
   ]
  },
  {
   "cell_type": "code",
   "execution_count": 7,
   "metadata": {},
   "outputs": [],
   "source": [
    "matrix.fillna(value=0, inplace=True)"
   ]
  },
  {
   "cell_type": "code",
   "execution_count": 8,
   "metadata": {},
   "outputs": [],
   "source": [
    "array = matrix.to_numpy()"
   ]
  },
  {
   "cell_type": "code",
   "execution_count": 9,
   "metadata": {},
   "outputs": [
    {
     "data": {
      "text/plain": [
       "(624, 22165)"
      ]
     },
     "execution_count": 9,
     "metadata": {},
     "output_type": "execute_result"
    }
   ],
   "source": [
    "array.shape"
   ]
  },
  {
   "cell_type": "code",
   "execution_count": 28,
   "metadata": {},
   "outputs": [],
   "source": [
    "model = NMF(n_components=20, random_state=1, max_iter=5000)"
   ]
  },
  {
   "cell_type": "code",
   "execution_count": 29,
   "metadata": {},
   "outputs": [],
   "source": [
    "W1 = model.fit_transform(array)\n",
    "H1 = model.components_"
   ]
  },
  {
   "cell_type": "code",
   "execution_count": 30,
   "metadata": {},
   "outputs": [
    {
     "data": {
      "text/plain": [
       "((624, 20), (20, 22165))"
      ]
     },
     "execution_count": 30,
     "metadata": {},
     "output_type": "execute_result"
    }
   ],
   "source": [
    "W1.shape, H1.shape"
   ]
  },
  {
   "cell_type": "code",
   "execution_count": 31,
   "metadata": {},
   "outputs": [
    {
     "name": "stdout",
     "output_type": "stream",
     "text": [
      "27.0 / 8.0\n",
      "29.0 / 10.0\n",
      "22.0 / 8.0\n",
      "31.0 / 8.0\n",
      "22.0 / 10.0\n",
      "54.0 / 9.0\n",
      "12.0 / 7.0\n",
      "25.0 / 8.0\n",
      "22.0 / 9.0\n",
      "30.0 / 9.0\n",
      "26.0 / 10.0\n",
      "21.0 / 9.0\n",
      "26.0 / 9.0\n",
      "25.0 / 10.0\n",
      "31.0 / 9.0\n",
      "12.0 / 8.0\n",
      "27.0 / 9.0\n",
      "25.0 / 9.0\n",
      "12.0 / 10.0\n",
      "12.0 / 9.0\n"
     ]
    }
   ],
   "source": [
    "for x in np.argsort(W1[:,3])[-20:]:\n",
    "    print(shop_month_rows.to_list()[x])"
   ]
  },
  {
   "cell_type": "code",
   "execution_count": 32,
   "metadata": {},
   "outputs": [],
   "source": [
    "pca = PCA(n_components=0.90)"
   ]
  },
  {
   "cell_type": "code",
   "execution_count": 43,
   "metadata": {},
   "outputs": [],
   "source": [
    "W1_reduced = pca.fit_transform(W1)"
   ]
  },
  {
   "cell_type": "code",
   "execution_count": 44,
   "metadata": {},
   "outputs": [
    {
     "data": {
      "text/plain": [
       "(624, 15)"
      ]
     },
     "execution_count": 44,
     "metadata": {},
     "output_type": "execute_result"
    }
   ],
   "source": [
    "W1_reduced.shape"
   ]
  },
  {
   "cell_type": "code",
   "execution_count": 35,
   "metadata": {},
   "outputs": [],
   "source": [
    "H1_reduced = pca.fit_transform(H1.T).T"
   ]
  },
  {
   "cell_type": "code",
   "execution_count": 36,
   "metadata": {},
   "outputs": [
    {
     "data": {
      "text/plain": [
       "(13, 22165)"
      ]
     },
     "execution_count": 36,
     "metadata": {},
     "output_type": "execute_result"
    }
   ],
   "source": [
    "H1_reduced.shape"
   ]
  },
  {
   "cell_type": "code",
   "execution_count": 45,
   "metadata": {},
   "outputs": [],
   "source": [
    "W_df = pd.DataFrame(W1_reduced)"
   ]
  },
  {
   "cell_type": "code",
   "execution_count": 46,
   "metadata": {},
   "outputs": [
    {
     "name": "stdout",
     "output_type": "stream",
     "text": [
      "<class 'pandas.core.frame.DataFrame'>\n",
      "RangeIndex: 624 entries, 0 to 623\n",
      "Data columns (total 15 columns):\n",
      " #   Column  Non-Null Count  Dtype  \n",
      "---  ------  --------------  -----  \n",
      " 0   0       624 non-null    float64\n",
      " 1   1       624 non-null    float64\n",
      " 2   2       624 non-null    float64\n",
      " 3   3       624 non-null    float64\n",
      " 4   4       624 non-null    float64\n",
      " 5   5       624 non-null    float64\n",
      " 6   6       624 non-null    float64\n",
      " 7   7       624 non-null    float64\n",
      " 8   8       624 non-null    float64\n",
      " 9   9       624 non-null    float64\n",
      " 10  10      624 non-null    float64\n",
      " 11  11      624 non-null    float64\n",
      " 12  12      624 non-null    float64\n",
      " 13  13      624 non-null    float64\n",
      " 14  14      624 non-null    float64\n",
      "dtypes: float64(15)\n",
      "memory usage: 73.2 KB\n"
     ]
    }
   ],
   "source": [
    "W_df.info()"
   ]
  },
  {
   "cell_type": "code",
   "execution_count": 42,
   "metadata": {},
   "outputs": [
    {
     "data": {
      "text/html": [
       "<div>\n",
       "<style scoped>\n",
       "    .dataframe tbody tr th:only-of-type {\n",
       "        vertical-align: middle;\n",
       "    }\n",
       "\n",
       "    .dataframe tbody tr th {\n",
       "        vertical-align: top;\n",
       "    }\n",
       "\n",
       "    .dataframe thead th {\n",
       "        text-align: right;\n",
       "    }\n",
       "</style>\n",
       "<table border=\"1\" class=\"dataframe\">\n",
       "  <thead>\n",
       "    <tr style=\"text-align: right;\">\n",
       "      <th></th>\n",
       "      <th>0</th>\n",
       "      <th>1</th>\n",
       "      <th>2</th>\n",
       "      <th>3</th>\n",
       "      <th>4</th>\n",
       "      <th>5</th>\n",
       "      <th>6</th>\n",
       "      <th>7</th>\n",
       "      <th>8</th>\n",
       "      <th>9</th>\n",
       "      <th>10</th>\n",
       "      <th>11</th>\n",
       "      <th>12</th>\n",
       "      <th>13</th>\n",
       "      <th>14</th>\n",
       "      <th>15</th>\n",
       "      <th>16</th>\n",
       "      <th>17</th>\n",
       "      <th>18</th>\n",
       "      <th>19</th>\n",
       "    </tr>\n",
       "  </thead>\n",
       "  <tbody>\n",
       "    <tr>\n",
       "      <th>0</th>\n",
       "      <td>0.894217</td>\n",
       "      <td>0.000000</td>\n",
       "      <td>0.0</td>\n",
       "      <td>0.0</td>\n",
       "      <td>0.311363</td>\n",
       "      <td>0.0</td>\n",
       "      <td>0.035621</td>\n",
       "      <td>0.078022</td>\n",
       "      <td>0.000000</td>\n",
       "      <td>0.000000e+00</td>\n",
       "      <td>0.000000</td>\n",
       "      <td>0.000000</td>\n",
       "      <td>0.000000e+00</td>\n",
       "      <td>0.171912</td>\n",
       "      <td>0.0</td>\n",
       "      <td>0.141041</td>\n",
       "      <td>0.003726</td>\n",
       "      <td>0.000000</td>\n",
       "      <td>0.116283</td>\n",
       "      <td>0.674639</td>\n",
       "    </tr>\n",
       "    <tr>\n",
       "      <th>1</th>\n",
       "      <td>0.548749</td>\n",
       "      <td>0.000000</td>\n",
       "      <td>0.0</td>\n",
       "      <td>0.0</td>\n",
       "      <td>0.014931</td>\n",
       "      <td>0.0</td>\n",
       "      <td>0.011214</td>\n",
       "      <td>0.162800</td>\n",
       "      <td>0.085087</td>\n",
       "      <td>0.000000e+00</td>\n",
       "      <td>0.063485</td>\n",
       "      <td>0.030062</td>\n",
       "      <td>0.000000e+00</td>\n",
       "      <td>0.000000</td>\n",
       "      <td>0.0</td>\n",
       "      <td>2.143675</td>\n",
       "      <td>0.012988</td>\n",
       "      <td>0.162234</td>\n",
       "      <td>0.144546</td>\n",
       "      <td>0.084116</td>\n",
       "    </tr>\n",
       "    <tr>\n",
       "      <th>2</th>\n",
       "      <td>0.835150</td>\n",
       "      <td>0.000000</td>\n",
       "      <td>0.0</td>\n",
       "      <td>0.0</td>\n",
       "      <td>0.113517</td>\n",
       "      <td>0.0</td>\n",
       "      <td>0.939846</td>\n",
       "      <td>0.076116</td>\n",
       "      <td>0.000000</td>\n",
       "      <td>8.880340e-12</td>\n",
       "      <td>0.000000</td>\n",
       "      <td>0.000000</td>\n",
       "      <td>0.000000e+00</td>\n",
       "      <td>0.013665</td>\n",
       "      <td>0.0</td>\n",
       "      <td>0.072080</td>\n",
       "      <td>0.000000</td>\n",
       "      <td>0.047963</td>\n",
       "      <td>0.117433</td>\n",
       "      <td>0.110221</td>\n",
       "    </tr>\n",
       "    <tr>\n",
       "      <th>3</th>\n",
       "      <td>0.848210</td>\n",
       "      <td>0.000000</td>\n",
       "      <td>0.0</td>\n",
       "      <td>0.0</td>\n",
       "      <td>0.843837</td>\n",
       "      <td>0.0</td>\n",
       "      <td>0.260310</td>\n",
       "      <td>0.065264</td>\n",
       "      <td>0.000000</td>\n",
       "      <td>0.000000e+00</td>\n",
       "      <td>0.003818</td>\n",
       "      <td>0.077362</td>\n",
       "      <td>0.000000e+00</td>\n",
       "      <td>0.097992</td>\n",
       "      <td>0.0</td>\n",
       "      <td>0.000000</td>\n",
       "      <td>0.000000</td>\n",
       "      <td>0.008519</td>\n",
       "      <td>0.069415</td>\n",
       "      <td>0.123610</td>\n",
       "    </tr>\n",
       "    <tr>\n",
       "      <th>4</th>\n",
       "      <td>0.626826</td>\n",
       "      <td>0.002369</td>\n",
       "      <td>0.0</td>\n",
       "      <td>0.0</td>\n",
       "      <td>0.044300</td>\n",
       "      <td>0.0</td>\n",
       "      <td>0.050837</td>\n",
       "      <td>0.114032</td>\n",
       "      <td>0.000000</td>\n",
       "      <td>0.000000e+00</td>\n",
       "      <td>0.000000</td>\n",
       "      <td>0.085565</td>\n",
       "      <td>0.000000e+00</td>\n",
       "      <td>0.120980</td>\n",
       "      <td>0.0</td>\n",
       "      <td>0.047103</td>\n",
       "      <td>0.024850</td>\n",
       "      <td>0.000000</td>\n",
       "      <td>0.149175</td>\n",
       "      <td>1.262965</td>\n",
       "    </tr>\n",
       "    <tr>\n",
       "      <th>...</th>\n",
       "      <td>...</td>\n",
       "      <td>...</td>\n",
       "      <td>...</td>\n",
       "      <td>...</td>\n",
       "      <td>...</td>\n",
       "      <td>...</td>\n",
       "      <td>...</td>\n",
       "      <td>...</td>\n",
       "      <td>...</td>\n",
       "      <td>...</td>\n",
       "      <td>...</td>\n",
       "      <td>...</td>\n",
       "      <td>...</td>\n",
       "      <td>...</td>\n",
       "      <td>...</td>\n",
       "      <td>...</td>\n",
       "      <td>...</td>\n",
       "      <td>...</td>\n",
       "      <td>...</td>\n",
       "      <td>...</td>\n",
       "    </tr>\n",
       "    <tr>\n",
       "      <th>619</th>\n",
       "      <td>1.330097</td>\n",
       "      <td>0.000000</td>\n",
       "      <td>0.0</td>\n",
       "      <td>0.0</td>\n",
       "      <td>0.377121</td>\n",
       "      <td>0.0</td>\n",
       "      <td>0.000000</td>\n",
       "      <td>3.731065</td>\n",
       "      <td>0.296306</td>\n",
       "      <td>0.000000e+00</td>\n",
       "      <td>0.130415</td>\n",
       "      <td>0.183877</td>\n",
       "      <td>0.000000e+00</td>\n",
       "      <td>0.002759</td>\n",
       "      <td>0.0</td>\n",
       "      <td>0.653016</td>\n",
       "      <td>0.000000</td>\n",
       "      <td>0.142908</td>\n",
       "      <td>1.110645</td>\n",
       "      <td>0.207408</td>\n",
       "    </tr>\n",
       "    <tr>\n",
       "      <th>620</th>\n",
       "      <td>0.000000</td>\n",
       "      <td>0.000000</td>\n",
       "      <td>0.0</td>\n",
       "      <td>0.0</td>\n",
       "      <td>0.000000</td>\n",
       "      <td>0.0</td>\n",
       "      <td>0.000000</td>\n",
       "      <td>0.000000</td>\n",
       "      <td>0.000000</td>\n",
       "      <td>0.000000e+00</td>\n",
       "      <td>0.000000</td>\n",
       "      <td>0.000000</td>\n",
       "      <td>0.000000e+00</td>\n",
       "      <td>0.186001</td>\n",
       "      <td>0.0</td>\n",
       "      <td>0.000000</td>\n",
       "      <td>0.000000</td>\n",
       "      <td>0.000000</td>\n",
       "      <td>0.000000</td>\n",
       "      <td>0.651583</td>\n",
       "    </tr>\n",
       "    <tr>\n",
       "      <th>621</th>\n",
       "      <td>0.000000</td>\n",
       "      <td>0.000000</td>\n",
       "      <td>0.0</td>\n",
       "      <td>0.0</td>\n",
       "      <td>0.000000</td>\n",
       "      <td>0.0</td>\n",
       "      <td>0.000000</td>\n",
       "      <td>0.000000</td>\n",
       "      <td>0.000000</td>\n",
       "      <td>0.000000e+00</td>\n",
       "      <td>0.000000</td>\n",
       "      <td>0.000000</td>\n",
       "      <td>1.481163e-10</td>\n",
       "      <td>0.001092</td>\n",
       "      <td>0.0</td>\n",
       "      <td>0.000000</td>\n",
       "      <td>0.000000</td>\n",
       "      <td>0.000000</td>\n",
       "      <td>0.000000</td>\n",
       "      <td>0.675070</td>\n",
       "    </tr>\n",
       "    <tr>\n",
       "      <th>622</th>\n",
       "      <td>0.000000</td>\n",
       "      <td>0.000000</td>\n",
       "      <td>0.0</td>\n",
       "      <td>0.0</td>\n",
       "      <td>0.000000</td>\n",
       "      <td>0.0</td>\n",
       "      <td>0.000000</td>\n",
       "      <td>0.000000</td>\n",
       "      <td>0.000000</td>\n",
       "      <td>0.000000e+00</td>\n",
       "      <td>0.000000</td>\n",
       "      <td>0.549326</td>\n",
       "      <td>0.000000e+00</td>\n",
       "      <td>0.043469</td>\n",
       "      <td>0.0</td>\n",
       "      <td>0.000000</td>\n",
       "      <td>0.000000</td>\n",
       "      <td>0.000000</td>\n",
       "      <td>0.000000</td>\n",
       "      <td>0.279535</td>\n",
       "    </tr>\n",
       "    <tr>\n",
       "      <th>623</th>\n",
       "      <td>0.000000</td>\n",
       "      <td>0.000000</td>\n",
       "      <td>0.0</td>\n",
       "      <td>0.0</td>\n",
       "      <td>0.000000</td>\n",
       "      <td>0.0</td>\n",
       "      <td>0.000000</td>\n",
       "      <td>0.000000</td>\n",
       "      <td>0.000000</td>\n",
       "      <td>0.000000e+00</td>\n",
       "      <td>0.000000</td>\n",
       "      <td>0.090533</td>\n",
       "      <td>0.000000e+00</td>\n",
       "      <td>0.119424</td>\n",
       "      <td>0.0</td>\n",
       "      <td>0.000000</td>\n",
       "      <td>0.000000</td>\n",
       "      <td>27.600683</td>\n",
       "      <td>0.000000</td>\n",
       "      <td>0.000000</td>\n",
       "    </tr>\n",
       "  </tbody>\n",
       "</table>\n",
       "<p>624 rows × 20 columns</p>\n",
       "</div>"
      ],
      "text/plain": [
       "            0         1    2    3         4    5         6         7  \\\n",
       "0    0.894217  0.000000  0.0  0.0  0.311363  0.0  0.035621  0.078022   \n",
       "1    0.548749  0.000000  0.0  0.0  0.014931  0.0  0.011214  0.162800   \n",
       "2    0.835150  0.000000  0.0  0.0  0.113517  0.0  0.939846  0.076116   \n",
       "3    0.848210  0.000000  0.0  0.0  0.843837  0.0  0.260310  0.065264   \n",
       "4    0.626826  0.002369  0.0  0.0  0.044300  0.0  0.050837  0.114032   \n",
       "..        ...       ...  ...  ...       ...  ...       ...       ...   \n",
       "619  1.330097  0.000000  0.0  0.0  0.377121  0.0  0.000000  3.731065   \n",
       "620  0.000000  0.000000  0.0  0.0  0.000000  0.0  0.000000  0.000000   \n",
       "621  0.000000  0.000000  0.0  0.0  0.000000  0.0  0.000000  0.000000   \n",
       "622  0.000000  0.000000  0.0  0.0  0.000000  0.0  0.000000  0.000000   \n",
       "623  0.000000  0.000000  0.0  0.0  0.000000  0.0  0.000000  0.000000   \n",
       "\n",
       "            8             9        10        11            12        13   14  \\\n",
       "0    0.000000  0.000000e+00  0.000000  0.000000  0.000000e+00  0.171912  0.0   \n",
       "1    0.085087  0.000000e+00  0.063485  0.030062  0.000000e+00  0.000000  0.0   \n",
       "2    0.000000  8.880340e-12  0.000000  0.000000  0.000000e+00  0.013665  0.0   \n",
       "3    0.000000  0.000000e+00  0.003818  0.077362  0.000000e+00  0.097992  0.0   \n",
       "4    0.000000  0.000000e+00  0.000000  0.085565  0.000000e+00  0.120980  0.0   \n",
       "..        ...           ...       ...       ...           ...       ...  ...   \n",
       "619  0.296306  0.000000e+00  0.130415  0.183877  0.000000e+00  0.002759  0.0   \n",
       "620  0.000000  0.000000e+00  0.000000  0.000000  0.000000e+00  0.186001  0.0   \n",
       "621  0.000000  0.000000e+00  0.000000  0.000000  1.481163e-10  0.001092  0.0   \n",
       "622  0.000000  0.000000e+00  0.000000  0.549326  0.000000e+00  0.043469  0.0   \n",
       "623  0.000000  0.000000e+00  0.000000  0.090533  0.000000e+00  0.119424  0.0   \n",
       "\n",
       "           15        16         17        18        19  \n",
       "0    0.141041  0.003726   0.000000  0.116283  0.674639  \n",
       "1    2.143675  0.012988   0.162234  0.144546  0.084116  \n",
       "2    0.072080  0.000000   0.047963  0.117433  0.110221  \n",
       "3    0.000000  0.000000   0.008519  0.069415  0.123610  \n",
       "4    0.047103  0.024850   0.000000  0.149175  1.262965  \n",
       "..        ...       ...        ...       ...       ...  \n",
       "619  0.653016  0.000000   0.142908  1.110645  0.207408  \n",
       "620  0.000000  0.000000   0.000000  0.000000  0.651583  \n",
       "621  0.000000  0.000000   0.000000  0.000000  0.675070  \n",
       "622  0.000000  0.000000   0.000000  0.000000  0.279535  \n",
       "623  0.000000  0.000000  27.600683  0.000000  0.000000  \n",
       "\n",
       "[624 rows x 20 columns]"
      ]
     },
     "execution_count": 42,
     "metadata": {},
     "output_type": "execute_result"
    }
   ],
   "source": [
    "W_df"
   ]
  },
  {
   "cell_type": "code",
   "execution_count": 48,
   "metadata": {},
   "outputs": [
    {
     "name": "stdout",
     "output_type": "stream",
     "text": [
      "12.0 / 4.0\n",
      "12.0 / 5.0\n",
      "12.0 / 11.0\n",
      "12.0 / 3.0\n",
      "25.0 / 3.0\n",
      "27.0 / 4.0\n",
      "12.0 / 12.0\n",
      "31.0 / 3.0\n",
      "12.0 / 2.0\n",
      "25.0 / 4.0\n",
      "12.0 / 9.0\n",
      "6.0 / 4.0\n",
      "12.0 / 6.0\n",
      "12.0 / 7.0\n",
      "42.0 / 4.0\n",
      "6.0 / 3.0\n",
      "42.0 / 3.0\n",
      "29.0 / 4.0\n",
      "18.0 / 4.0\n",
      "26.0 / 4.0\n"
     ]
    }
   ],
   "source": [
    "for x in np.argsort(W1_reduced[:,1])[:20]:\n",
    "    print(shop_month_rows.to_list()[x])"
   ]
  },
  {
   "cell_type": "code",
   "execution_count": 53,
   "metadata": {},
   "outputs": [
    {
     "data": {
      "text/plain": [
       "count    7021.000000\n",
       "mean        3.217633\n",
       "std         7.283411\n",
       "min         0.000000\n",
       "25%         1.000000\n",
       "50%         1.000000\n",
       "75%         3.000000\n",
       "max       228.000000\n",
       "Name: item_cnt_month, dtype: float64"
      ]
     },
     "execution_count": 53,
     "metadata": {},
     "output_type": "execute_result"
    }
   ],
   "source": [
    "sales.loc[(sales.shop_id==25)&(sales.month==3), 'item_cnt_month'].describe()"
   ]
  },
  {
   "cell_type": "code",
   "execution_count": 55,
   "metadata": {},
   "outputs": [
    {
     "data": {
      "text/plain": [
       "(20, 22165)"
      ]
     },
     "execution_count": 55,
     "metadata": {},
     "output_type": "execute_result"
    }
   ],
   "source": [
    "H1.shape"
   ]
  },
  {
   "cell_type": "code",
   "execution_count": 67,
   "metadata": {},
   "outputs": [
    {
     "data": {
      "text/plain": [
       "(22165, 20)"
      ]
     },
     "execution_count": 67,
     "metadata": {},
     "output_type": "execute_result"
    }
   ],
   "source": [
    "H1.T.shape"
   ]
  },
  {
   "cell_type": "code",
   "execution_count": 68,
   "metadata": {},
   "outputs": [],
   "source": [
    "items_embeddings = pd.DataFrame(H1.T[:,:2], columns=['emb1', 'emb2'])"
   ]
  },
  {
   "cell_type": "code",
   "execution_count": 71,
   "metadata": {},
   "outputs": [
    {
     "data": {
      "text/html": [
       "<div>\n",
       "<style scoped>\n",
       "    .dataframe tbody tr th:only-of-type {\n",
       "        vertical-align: middle;\n",
       "    }\n",
       "\n",
       "    .dataframe tbody tr th {\n",
       "        vertical-align: top;\n",
       "    }\n",
       "\n",
       "    .dataframe thead th {\n",
       "        text-align: right;\n",
       "    }\n",
       "</style>\n",
       "<table border=\"1\" class=\"dataframe\">\n",
       "  <thead>\n",
       "    <tr style=\"text-align: right;\">\n",
       "      <th></th>\n",
       "      <th>emb1</th>\n",
       "      <th>emb2</th>\n",
       "    </tr>\n",
       "  </thead>\n",
       "  <tbody>\n",
       "    <tr>\n",
       "      <th>count</th>\n",
       "      <td>22165.000000</td>\n",
       "      <td>22165.000000</td>\n",
       "    </tr>\n",
       "    <tr>\n",
       "      <th>mean</th>\n",
       "      <td>0.024758</td>\n",
       "      <td>0.011712</td>\n",
       "    </tr>\n",
       "    <tr>\n",
       "      <th>std</th>\n",
       "      <td>0.725506</td>\n",
       "      <td>0.410973</td>\n",
       "    </tr>\n",
       "    <tr>\n",
       "      <th>min</th>\n",
       "      <td>0.000000</td>\n",
       "      <td>0.000000</td>\n",
       "    </tr>\n",
       "    <tr>\n",
       "      <th>25%</th>\n",
       "      <td>0.000000</td>\n",
       "      <td>0.000000</td>\n",
       "    </tr>\n",
       "    <tr>\n",
       "      <th>50%</th>\n",
       "      <td>0.001453</td>\n",
       "      <td>0.000000</td>\n",
       "    </tr>\n",
       "    <tr>\n",
       "      <th>75%</th>\n",
       "      <td>0.016526</td>\n",
       "      <td>0.000000</td>\n",
       "    </tr>\n",
       "    <tr>\n",
       "      <th>max</th>\n",
       "      <td>107.674071</td>\n",
       "      <td>44.718950</td>\n",
       "    </tr>\n",
       "  </tbody>\n",
       "</table>\n",
       "</div>"
      ],
      "text/plain": [
       "               emb1          emb2\n",
       "count  22165.000000  22165.000000\n",
       "mean       0.024758      0.011712\n",
       "std        0.725506      0.410973\n",
       "min        0.000000      0.000000\n",
       "25%        0.000000      0.000000\n",
       "50%        0.001453      0.000000\n",
       "75%        0.016526      0.000000\n",
       "max      107.674071     44.718950"
      ]
     },
     "execution_count": 71,
     "metadata": {},
     "output_type": "execute_result"
    }
   ],
   "source": [
    "items_embeddings.describe()"
   ]
  },
  {
   "cell_type": "code",
   "execution_count": 65,
   "metadata": {},
   "outputs": [],
   "source": [
    "import matplotlib.pyplot as plt\n",
    "import seaborn as sns\n",
    "sns.set(style='darkgrid')"
   ]
  },
  {
   "cell_type": "code",
   "execution_count": 74,
   "metadata": {},
   "outputs": [],
   "source": [
    "%matplotlib inline"
   ]
  },
  {
   "cell_type": "code",
   "execution_count": 80,
   "metadata": {},
   "outputs": [
    {
     "data": {
      "text/plain": [
       "<matplotlib.collections.PathCollection at 0x1a055dd90>"
      ]
     },
     "execution_count": 80,
     "metadata": {},
     "output_type": "execute_result"
    },
    {
     "data": {
      "image/png": "[encoded data removed]",
      "text/plain": [
       "<Figure size 720x288 with 1 Axes>"
      ]
     },
     "metadata": {
      "needs_background": "light"
     },
     "output_type": "display_data"
    }
   ],
   "source": [
    "plt.figure(figsize=(10,4))\n",
    "plt.xlim(-.1, 1)\n",
    "plt.ylim(-.1, 2)\n",
    "plt.scatter(x = items_embeddings['emb1'], y=items_embeddings['emb2'])"
   ]
  },
  {
   "cell_type": "code",
   "execution_count": 114,
   "metadata": {},
   "outputs": [],
   "source": [
    "shops_embeddings = pd.DataFrame(W1[:,2:4], columns=['emb1', 'emb2'])"
   ]
  },
  {
   "cell_type": "code",
   "execution_count": 115,
   "metadata": {},
   "outputs": [],
   "source": [
    "shops_embeddings['shop_id_month'] = shop_month_rows"
   ]
  },
  {
   "cell_type": "code",
   "execution_count": 116,
   "metadata": {},
   "outputs": [
    {
     "name": "stdout",
     "output_type": "stream",
     "text": [
      "<class 'pandas.core.frame.DataFrame'>\n",
      "RangeIndex: 624 entries, 0 to 623\n",
      "Data columns (total 3 columns):\n",
      " #   Column         Non-Null Count  Dtype  \n",
      "---  ------         --------------  -----  \n",
      " 0   emb1           624 non-null    float64\n",
      " 1   emb2           624 non-null    float64\n",
      " 2   shop_id_month  624 non-null    object \n",
      "dtypes: float64(2), object(1)\n",
      "memory usage: 14.8+ KB\n"
     ]
    }
   ],
   "source": [
    "shops_embeddings.info()"
   ]
  },
  {
   "cell_type": "code",
   "execution_count": 117,
   "metadata": {},
   "outputs": [
    {
     "data": {
      "text/html": [
       "<div>\n",
       "<style scoped>\n",
       "    .dataframe tbody tr th:only-of-type {\n",
       "        vertical-align: middle;\n",
       "    }\n",
       "\n",
       "    .dataframe tbody tr th {\n",
       "        vertical-align: top;\n",
       "    }\n",
       "\n",
       "    .dataframe thead th {\n",
       "        text-align: right;\n",
       "    }\n",
       "</style>\n",
       "<table border=\"1\" class=\"dataframe\">\n",
       "  <thead>\n",
       "    <tr style=\"text-align: right;\">\n",
       "      <th></th>\n",
       "      <th>emb1</th>\n",
       "      <th>emb2</th>\n",
       "    </tr>\n",
       "  </thead>\n",
       "  <tbody>\n",
       "    <tr>\n",
       "      <th>count</th>\n",
       "      <td>624.000000</td>\n",
       "      <td>624.000000</td>\n",
       "    </tr>\n",
       "    <tr>\n",
       "      <th>mean</th>\n",
       "      <td>0.091814</td>\n",
       "      <td>0.083538</td>\n",
       "    </tr>\n",
       "    <tr>\n",
       "      <th>std</th>\n",
       "      <td>1.911641</td>\n",
       "      <td>1.509410</td>\n",
       "    </tr>\n",
       "    <tr>\n",
       "      <th>min</th>\n",
       "      <td>0.000000</td>\n",
       "      <td>0.000000</td>\n",
       "    </tr>\n",
       "    <tr>\n",
       "      <th>25%</th>\n",
       "      <td>0.000000</td>\n",
       "      <td>0.000000</td>\n",
       "    </tr>\n",
       "    <tr>\n",
       "      <th>50%</th>\n",
       "      <td>0.000000</td>\n",
       "      <td>0.000000</td>\n",
       "    </tr>\n",
       "    <tr>\n",
       "      <th>75%</th>\n",
       "      <td>0.000000</td>\n",
       "      <td>0.000000</td>\n",
       "    </tr>\n",
       "    <tr>\n",
       "      <th>max</th>\n",
       "      <td>47.489932</td>\n",
       "      <td>37.155340</td>\n",
       "    </tr>\n",
       "  </tbody>\n",
       "</table>\n",
       "</div>"
      ],
      "text/plain": [
       "             emb1        emb2\n",
       "count  624.000000  624.000000\n",
       "mean     0.091814    0.083538\n",
       "std      1.911641    1.509410\n",
       "min      0.000000    0.000000\n",
       "25%      0.000000    0.000000\n",
       "50%      0.000000    0.000000\n",
       "75%      0.000000    0.000000\n",
       "max     47.489932   37.155340"
      ]
     },
     "execution_count": 117,
     "metadata": {},
     "output_type": "execute_result"
    }
   ],
   "source": [
    "shops_embeddings.describe()"
   ]
  },
  {
   "cell_type": "code",
   "execution_count": 119,
   "metadata": {},
   "outputs": [
    {
     "data": {
      "text/plain": [
       "<matplotlib.collections.PathCollection at 0x1a12b39a0>"
      ]
     },
     "execution_count": 119,
     "metadata": {},
     "output_type": "execute_result"
    },
    {
     "data": {
      "image/png": "[encoded data removed]",
      "text/plain": [
       "<Figure size 1080x576 with 1 Axes>"
      ]
     },
     "metadata": {
      "needs_background": "light"
     },
     "output_type": "display_data"
    }
   ],
   "source": [
    "plt.figure(figsize=(15,8))\n",
    "plt.xlim(-.1, 5)\n",
    "plt.ylim(-.1, 10)\n",
    "plt.scatter(x = shops_embeddings['emb1'], y=shops_embeddings['emb2'])"
   ]
  },
  {
   "cell_type": "code",
   "execution_count": 113,
   "metadata": {},
   "outputs": [
    {
     "data": {
      "text/html": [
       "<div>\n",
       "<style scoped>\n",
       "    .dataframe tbody tr th:only-of-type {\n",
       "        vertical-align: middle;\n",
       "    }\n",
       "\n",
       "    .dataframe tbody tr th {\n",
       "        vertical-align: top;\n",
       "    }\n",
       "\n",
       "    .dataframe thead th {\n",
       "        text-align: right;\n",
       "    }\n",
       "</style>\n",
       "<table border=\"1\" class=\"dataframe\">\n",
       "  <thead>\n",
       "    <tr style=\"text-align: right;\">\n",
       "      <th></th>\n",
       "      <th>emb1</th>\n",
       "      <th>emb2</th>\n",
       "      <th>shop_id_month</th>\n",
       "    </tr>\n",
       "  </thead>\n",
       "  <tbody>\n",
       "    <tr>\n",
       "      <th>86</th>\n",
       "      <td>0.021071</td>\n",
       "      <td>0.0</td>\n",
       "      <td>18.0 / 11.0</td>\n",
       "    </tr>\n",
       "    <tr>\n",
       "      <th>88</th>\n",
       "      <td>0.038266</td>\n",
       "      <td>0.0</td>\n",
       "      <td>18.0 / 2.0</td>\n",
       "    </tr>\n",
       "    <tr>\n",
       "      <th>111</th>\n",
       "      <td>0.032122</td>\n",
       "      <td>0.0</td>\n",
       "      <td>2.0 / 12.0</td>\n",
       "    </tr>\n",
       "    <tr>\n",
       "      <th>112</th>\n",
       "      <td>0.034622</td>\n",
       "      <td>0.0</td>\n",
       "      <td>2.0 / 2.0</td>\n",
       "    </tr>\n",
       "    <tr>\n",
       "      <th>113</th>\n",
       "      <td>0.032997</td>\n",
       "      <td>0.0</td>\n",
       "      <td>2.0 / 3.0</td>\n",
       "    </tr>\n",
       "    <tr>\n",
       "      <th>133</th>\n",
       "      <td>0.095976</td>\n",
       "      <td>0.0</td>\n",
       "      <td>22.0 / 1.0</td>\n",
       "    </tr>\n",
       "    <tr>\n",
       "      <th>134</th>\n",
       "      <td>0.084151</td>\n",
       "      <td>0.0</td>\n",
       "      <td>22.0 / 10.0</td>\n",
       "    </tr>\n",
       "    <tr>\n",
       "      <th>135</th>\n",
       "      <td>0.136409</td>\n",
       "      <td>0.0</td>\n",
       "      <td>22.0 / 11.0</td>\n",
       "    </tr>\n",
       "    <tr>\n",
       "      <th>136</th>\n",
       "      <td>0.135991</td>\n",
       "      <td>0.0</td>\n",
       "      <td>22.0 / 12.0</td>\n",
       "    </tr>\n",
       "    <tr>\n",
       "      <th>137</th>\n",
       "      <td>0.164653</td>\n",
       "      <td>0.0</td>\n",
       "      <td>22.0 / 2.0</td>\n",
       "    </tr>\n",
       "    <tr>\n",
       "      <th>138</th>\n",
       "      <td>0.168132</td>\n",
       "      <td>0.0</td>\n",
       "      <td>22.0 / 3.0</td>\n",
       "    </tr>\n",
       "    <tr>\n",
       "      <th>139</th>\n",
       "      <td>0.088083</td>\n",
       "      <td>0.0</td>\n",
       "      <td>22.0 / 4.0</td>\n",
       "    </tr>\n",
       "    <tr>\n",
       "      <th>140</th>\n",
       "      <td>0.057179</td>\n",
       "      <td>0.0</td>\n",
       "      <td>22.0 / 5.0</td>\n",
       "    </tr>\n",
       "    <tr>\n",
       "      <th>141</th>\n",
       "      <td>0.086629</td>\n",
       "      <td>0.0</td>\n",
       "      <td>22.0 / 6.0</td>\n",
       "    </tr>\n",
       "    <tr>\n",
       "      <th>142</th>\n",
       "      <td>0.110870</td>\n",
       "      <td>0.0</td>\n",
       "      <td>22.0 / 7.0</td>\n",
       "    </tr>\n",
       "    <tr>\n",
       "      <th>143</th>\n",
       "      <td>0.099601</td>\n",
       "      <td>0.0</td>\n",
       "      <td>22.0 / 8.0</td>\n",
       "    </tr>\n",
       "    <tr>\n",
       "      <th>144</th>\n",
       "      <td>0.047091</td>\n",
       "      <td>0.0</td>\n",
       "      <td>22.0 / 9.0</td>\n",
       "    </tr>\n",
       "    <tr>\n",
       "      <th>163</th>\n",
       "      <td>0.020359</td>\n",
       "      <td>0.0</td>\n",
       "      <td>25.0 / 11.0</td>\n",
       "    </tr>\n",
       "    <tr>\n",
       "      <th>164</th>\n",
       "      <td>0.091292</td>\n",
       "      <td>0.0</td>\n",
       "      <td>25.0 / 12.0</td>\n",
       "    </tr>\n",
       "    <tr>\n",
       "      <th>165</th>\n",
       "      <td>0.068437</td>\n",
       "      <td>0.0</td>\n",
       "      <td>25.0 / 2.0</td>\n",
       "    </tr>\n",
       "    <tr>\n",
       "      <th>166</th>\n",
       "      <td>0.044692</td>\n",
       "      <td>0.0</td>\n",
       "      <td>25.0 / 3.0</td>\n",
       "    </tr>\n",
       "    <tr>\n",
       "      <th>170</th>\n",
       "      <td>0.027831</td>\n",
       "      <td>0.0</td>\n",
       "      <td>25.0 / 7.0</td>\n",
       "    </tr>\n",
       "    <tr>\n",
       "      <th>176</th>\n",
       "      <td>0.022727</td>\n",
       "      <td>0.0</td>\n",
       "      <td>26.0 / 12.0</td>\n",
       "    </tr>\n",
       "    <tr>\n",
       "      <th>177</th>\n",
       "      <td>0.064356</td>\n",
       "      <td>0.0</td>\n",
       "      <td>26.0 / 2.0</td>\n",
       "    </tr>\n",
       "    <tr>\n",
       "      <th>178</th>\n",
       "      <td>0.034433</td>\n",
       "      <td>0.0</td>\n",
       "      <td>26.0 / 3.0</td>\n",
       "    </tr>\n",
       "    <tr>\n",
       "      <th>189</th>\n",
       "      <td>0.027461</td>\n",
       "      <td>0.0</td>\n",
       "      <td>27.0 / 2.0</td>\n",
       "    </tr>\n",
       "    <tr>\n",
       "      <th>312</th>\n",
       "      <td>0.035096</td>\n",
       "      <td>0.0</td>\n",
       "      <td>37.0 / 2.0</td>\n",
       "    </tr>\n",
       "    <tr>\n",
       "      <th>318</th>\n",
       "      <td>0.029050</td>\n",
       "      <td>0.0</td>\n",
       "      <td>37.0 / 8.0</td>\n",
       "    </tr>\n",
       "    <tr>\n",
       "      <th>324</th>\n",
       "      <td>0.023055</td>\n",
       "      <td>0.0</td>\n",
       "      <td>38.0 / 2.0</td>\n",
       "    </tr>\n",
       "    <tr>\n",
       "      <th>369</th>\n",
       "      <td>0.037086</td>\n",
       "      <td>0.0</td>\n",
       "      <td>42.0 / 10.0</td>\n",
       "    </tr>\n",
       "    <tr>\n",
       "      <th>370</th>\n",
       "      <td>0.051678</td>\n",
       "      <td>0.0</td>\n",
       "      <td>42.0 / 11.0</td>\n",
       "    </tr>\n",
       "    <tr>\n",
       "      <th>371</th>\n",
       "      <td>0.097358</td>\n",
       "      <td>0.0</td>\n",
       "      <td>42.0 / 12.0</td>\n",
       "    </tr>\n",
       "    <tr>\n",
       "      <th>372</th>\n",
       "      <td>0.084738</td>\n",
       "      <td>0.0</td>\n",
       "      <td>42.0 / 2.0</td>\n",
       "    </tr>\n",
       "    <tr>\n",
       "      <th>373</th>\n",
       "      <td>0.071366</td>\n",
       "      <td>0.0</td>\n",
       "      <td>42.0 / 3.0</td>\n",
       "    </tr>\n",
       "    <tr>\n",
       "      <th>378</th>\n",
       "      <td>0.067522</td>\n",
       "      <td>0.0</td>\n",
       "      <td>42.0 / 8.0</td>\n",
       "    </tr>\n",
       "    <tr>\n",
       "      <th>382</th>\n",
       "      <td>0.066307</td>\n",
       "      <td>0.0</td>\n",
       "      <td>43.0 / 11.0</td>\n",
       "    </tr>\n",
       "    <tr>\n",
       "      <th>383</th>\n",
       "      <td>0.071242</td>\n",
       "      <td>0.0</td>\n",
       "      <td>43.0 / 12.0</td>\n",
       "    </tr>\n",
       "    <tr>\n",
       "      <th>384</th>\n",
       "      <td>0.071076</td>\n",
       "      <td>0.0</td>\n",
       "      <td>43.0 / 2.0</td>\n",
       "    </tr>\n",
       "    <tr>\n",
       "      <th>385</th>\n",
       "      <td>0.029135</td>\n",
       "      <td>0.0</td>\n",
       "      <td>43.0 / 3.0</td>\n",
       "    </tr>\n",
       "    <tr>\n",
       "      <th>390</th>\n",
       "      <td>0.028865</td>\n",
       "      <td>0.0</td>\n",
       "      <td>43.0 / 8.0</td>\n",
       "    </tr>\n",
       "  </tbody>\n",
       "</table>\n",
       "</div>"
      ],
      "text/plain": [
       "         emb1  emb2 shop_id_month\n",
       "86   0.021071   0.0   18.0 / 11.0\n",
       "88   0.038266   0.0    18.0 / 2.0\n",
       "111  0.032122   0.0    2.0 / 12.0\n",
       "112  0.034622   0.0     2.0 / 2.0\n",
       "113  0.032997   0.0     2.0 / 3.0\n",
       "133  0.095976   0.0    22.0 / 1.0\n",
       "134  0.084151   0.0   22.0 / 10.0\n",
       "135  0.136409   0.0   22.0 / 11.0\n",
       "136  0.135991   0.0   22.0 / 12.0\n",
       "137  0.164653   0.0    22.0 / 2.0\n",
       "138  0.168132   0.0    22.0 / 3.0\n",
       "139  0.088083   0.0    22.0 / 4.0\n",
       "140  0.057179   0.0    22.0 / 5.0\n",
       "141  0.086629   0.0    22.0 / 6.0\n",
       "142  0.110870   0.0    22.0 / 7.0\n",
       "143  0.099601   0.0    22.0 / 8.0\n",
       "144  0.047091   0.0    22.0 / 9.0\n",
       "163  0.020359   0.0   25.0 / 11.0\n",
       "164  0.091292   0.0   25.0 / 12.0\n",
       "165  0.068437   0.0    25.0 / 2.0\n",
       "166  0.044692   0.0    25.0 / 3.0\n",
       "170  0.027831   0.0    25.0 / 7.0\n",
       "176  0.022727   0.0   26.0 / 12.0\n",
       "177  0.064356   0.0    26.0 / 2.0\n",
       "178  0.034433   0.0    26.0 / 3.0\n",
       "189  0.027461   0.0    27.0 / 2.0\n",
       "312  0.035096   0.0    37.0 / 2.0\n",
       "318  0.029050   0.0    37.0 / 8.0\n",
       "324  0.023055   0.0    38.0 / 2.0\n",
       "369  0.037086   0.0   42.0 / 10.0\n",
       "370  0.051678   0.0   42.0 / 11.0\n",
       "371  0.097358   0.0   42.0 / 12.0\n",
       "372  0.084738   0.0    42.0 / 2.0\n",
       "373  0.071366   0.0    42.0 / 3.0\n",
       "378  0.067522   0.0    42.0 / 8.0\n",
       "382  0.066307   0.0   43.0 / 11.0\n",
       "383  0.071242   0.0   43.0 / 12.0\n",
       "384  0.071076   0.0    43.0 / 2.0\n",
       "385  0.029135   0.0    43.0 / 3.0\n",
       "390  0.028865   0.0    43.0 / 8.0"
      ]
     },
     "execution_count": 113,
     "metadata": {},
     "output_type": "execute_result"
    }
   ],
   "source": [
    "shops_embeddings.loc[(shops_embeddings.emb1>.02)&(shops_embeddings.emb1<.4)]"
   ]
  },
  {
   "cell_type": "code",
   "execution_count": null,
   "metadata": {},
   "outputs": [],
   "source": []
  }
 ],
 "metadata": {
  "kernelspec": {
   "display_name": "Python 3",
   "language": "python",
   "name": "python3"
  },
  "language_info": {
   "codemirror_mode": {
    "name": "ipython",
    "version": 3
   },
   "file_extension": ".py",
   "mimetype": "text/x-python",
   "name": "python",
   "nbconvert_exporter": "python",
   "pygments_lexer": "ipython3",
   "version": "3.8.3"
  }
 },
 "nbformat": 4,
 "nbformat_minor": 4
}
