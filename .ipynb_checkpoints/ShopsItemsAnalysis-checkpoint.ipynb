{
 "cells": [
  {
   "cell_type": "code",
   "execution_count": 145,
   "metadata": {},
   "outputs": [],
   "source": [
    "import pandas as pd\n",
    "import numpy as np\n",
    "import re"
   ]
  },
  {
   "cell_type": "code",
   "execution_count": 2,
   "metadata": {},
   "outputs": [],
   "source": [
    "from googletrans import Translator"
   ]
  },
  {
   "cell_type": "code",
   "execution_count": 3,
   "metadata": {},
   "outputs": [],
   "source": [
    "translator = Translator()"
   ]
  },
  {
   "cell_type": "code",
   "execution_count": 4,
   "metadata": {},
   "outputs": [],
   "source": [
    "shops = pd.read_csv('./input/shops.csv')\n",
    "items = pd.read_csv('./input/items.csv')\n",
    "items_cat = pd.read_csv('./input/item_categories.csv')"
   ]
  },
  {
   "cell_type": "markdown",
   "metadata": {},
   "source": [
    "## Items analysis"
   ]
  },
  {
   "cell_type": "code",
   "execution_count": 5,
   "metadata": {},
   "outputs": [],
   "source": [
    "items_cat['name_eng'] = items_cat['item_category_name'].apply(lambda x: translator.translate(x).text)"
   ]
  },
  {
   "cell_type": "code",
   "execution_count": 121,
   "metadata": {},
   "outputs": [],
   "source": [
    "p_c = re.compile(r'\\s\\(([^\\)]+)\\)')\n",
    "p_sc = re.compile(r'\\(([^)]+)\\)')\n",
    "\n",
    "def get_code(x, reg_pattern):\n",
    "    codes = x.split(' - ')\n",
    "    return re.sub(reg_pattern, '', codes[0]).lower()\n",
    "\n",
    "def get_subcode(x, reg_pattern):\n",
    "    codes = x.split(' - ')\n",
    "    if len(codes) > 1:\n",
    "        return codes[1].lower()\n",
    "    else:\n",
    "        if len(codes) == 1:\n",
    "            cat_code = codes[0]\n",
    "            sub_code = re.findall(reg_pattern, cat_code)\n",
    "            return sub_code[0].lower() if len(sub_code)>0 else 'none'"
   ]
  },
  {
   "cell_type": "code",
   "execution_count": 122,
   "metadata": {},
   "outputs": [],
   "source": [
    "items_cat['cat_code'] = items_cat['name_eng'].apply(lambda x: get_code(x, p_c))\n",
    "items_cat['cat_subcode'] = items_cat['name_eng'].apply(lambda x: get_subcode(x, p_sc))"
   ]
  },
  {
   "cell_type": "code",
   "execution_count": 128,
   "metadata": {},
   "outputs": [
    {
     "data": {
      "text/plain": [
       "20"
      ]
     },
     "execution_count": 128,
     "metadata": {},
     "output_type": "execute_result"
    }
   ],
   "source": [
    "items_cat.cat_code.nunique()"
   ]
  },
  {
   "cell_type": "code",
   "execution_count": 129,
   "metadata": {},
   "outputs": [
    {
     "data": {
      "text/plain": [
       "64"
      ]
     },
     "execution_count": 129,
     "metadata": {},
     "output_type": "execute_result"
    }
   ],
   "source": [
    "items_cat.cat_subcode.nunique()"
   ]
  },
  {
   "cell_type": "code",
   "execution_count": 125,
   "metadata": {},
   "outputs": [],
   "source": [
    "items_data = pd.merge(left=items, right=items_cat, how='left', left_on='item_category_id', right_on='item_category_id')"
   ]
  },
  {
   "cell_type": "code",
   "execution_count": 126,
   "metadata": {},
   "outputs": [
    {
     "data": {
      "text/html": [
       "<div>\n",
       "<style scoped>\n",
       "    .dataframe tbody tr th:only-of-type {\n",
       "        vertical-align: middle;\n",
       "    }\n",
       "\n",
       "    .dataframe tbody tr th {\n",
       "        vertical-align: top;\n",
       "    }\n",
       "\n",
       "    .dataframe thead th {\n",
       "        text-align: right;\n",
       "    }\n",
       "</style>\n",
       "<table border=\"1\" class=\"dataframe\">\n",
       "  <thead>\n",
       "    <tr style=\"text-align: right;\">\n",
       "      <th></th>\n",
       "      <th>item_name</th>\n",
       "      <th>item_id</th>\n",
       "      <th>item_category_id</th>\n",
       "      <th>item_category_name</th>\n",
       "      <th>name_eng</th>\n",
       "      <th>cat_code</th>\n",
       "      <th>cat_subcode</th>\n",
       "    </tr>\n",
       "  </thead>\n",
       "  <tbody>\n",
       "    <tr>\n",
       "      <th>0</th>\n",
       "      <td>! ВО ВЛАСТИ НАВАЖДЕНИЯ (ПЛАСТ.)         D</td>\n",
       "      <td>0</td>\n",
       "      <td>40</td>\n",
       "      <td>Кино - DVD</td>\n",
       "      <td>Movie - DVD</td>\n",
       "      <td>movie</td>\n",
       "      <td>dvd</td>\n",
       "    </tr>\n",
       "    <tr>\n",
       "      <th>1</th>\n",
       "      <td>!ABBYY FineReader 12 Professional Edition Full...</td>\n",
       "      <td>1</td>\n",
       "      <td>76</td>\n",
       "      <td>Программы - Для дома и офиса (Цифра)</td>\n",
       "      <td>Programs - For Home and Office (Digital)</td>\n",
       "      <td>programs</td>\n",
       "      <td>for home and office (digital)</td>\n",
       "    </tr>\n",
       "    <tr>\n",
       "      <th>2</th>\n",
       "      <td>***В ЛУЧАХ СЛАВЫ   (UNV)                    D</td>\n",
       "      <td>2</td>\n",
       "      <td>40</td>\n",
       "      <td>Кино - DVD</td>\n",
       "      <td>Movie - DVD</td>\n",
       "      <td>movie</td>\n",
       "      <td>dvd</td>\n",
       "    </tr>\n",
       "    <tr>\n",
       "      <th>3</th>\n",
       "      <td>***ГОЛУБАЯ ВОЛНА  (Univ)                      D</td>\n",
       "      <td>3</td>\n",
       "      <td>40</td>\n",
       "      <td>Кино - DVD</td>\n",
       "      <td>Movie - DVD</td>\n",
       "      <td>movie</td>\n",
       "      <td>dvd</td>\n",
       "    </tr>\n",
       "    <tr>\n",
       "      <th>4</th>\n",
       "      <td>***КОРОБКА (СТЕКЛО)                       D</td>\n",
       "      <td>4</td>\n",
       "      <td>40</td>\n",
       "      <td>Кино - DVD</td>\n",
       "      <td>Movie - DVD</td>\n",
       "      <td>movie</td>\n",
       "      <td>dvd</td>\n",
       "    </tr>\n",
       "    <tr>\n",
       "      <th>...</th>\n",
       "      <td>...</td>\n",
       "      <td>...</td>\n",
       "      <td>...</td>\n",
       "      <td>...</td>\n",
       "      <td>...</td>\n",
       "      <td>...</td>\n",
       "      <td>...</td>\n",
       "    </tr>\n",
       "    <tr>\n",
       "      <th>22165</th>\n",
       "      <td>Ядерный титбит 2 [PC, Цифровая версия]</td>\n",
       "      <td>22165</td>\n",
       "      <td>31</td>\n",
       "      <td>Игры PC - Цифра</td>\n",
       "      <td>PC Games - Number</td>\n",
       "      <td>pc games</td>\n",
       "      <td>number</td>\n",
       "    </tr>\n",
       "    <tr>\n",
       "      <th>22166</th>\n",
       "      <td>Язык запросов 1С:Предприятия  [Цифровая версия]</td>\n",
       "      <td>22166</td>\n",
       "      <td>54</td>\n",
       "      <td>Книги - Цифра</td>\n",
       "      <td>Books - Number</td>\n",
       "      <td>books</td>\n",
       "      <td>number</td>\n",
       "    </tr>\n",
       "    <tr>\n",
       "      <th>22167</th>\n",
       "      <td>Язык запросов 1С:Предприятия 8 (+CD). Хрустале...</td>\n",
       "      <td>22167</td>\n",
       "      <td>49</td>\n",
       "      <td>Книги - Методические материалы 1С</td>\n",
       "      <td>Books - Methodical materials 1C</td>\n",
       "      <td>books</td>\n",
       "      <td>methodical materials 1c</td>\n",
       "    </tr>\n",
       "    <tr>\n",
       "      <th>22168</th>\n",
       "      <td>Яйцо для Little Inu</td>\n",
       "      <td>22168</td>\n",
       "      <td>62</td>\n",
       "      <td>Подарки - Гаджеты, роботы, спорт</td>\n",
       "      <td>Gifts - Gadgets, Robots, Sports</td>\n",
       "      <td>gifts</td>\n",
       "      <td>gadgets, robots, sports</td>\n",
       "    </tr>\n",
       "    <tr>\n",
       "      <th>22169</th>\n",
       "      <td>Яйцо дракона (Игра престолов)</td>\n",
       "      <td>22169</td>\n",
       "      <td>69</td>\n",
       "      <td>Подарки - Сувениры</td>\n",
       "      <td>Gifts - Souvenirs</td>\n",
       "      <td>gifts</td>\n",
       "      <td>souvenirs</td>\n",
       "    </tr>\n",
       "  </tbody>\n",
       "</table>\n",
       "<p>22170 rows × 7 columns</p>\n",
       "</div>"
      ],
      "text/plain": [
       "                                               item_name  item_id  \\\n",
       "0              ! ВО ВЛАСТИ НАВАЖДЕНИЯ (ПЛАСТ.)         D        0   \n",
       "1      !ABBYY FineReader 12 Professional Edition Full...        1   \n",
       "2          ***В ЛУЧАХ СЛАВЫ   (UNV)                    D        2   \n",
       "3        ***ГОЛУБАЯ ВОЛНА  (Univ)                      D        3   \n",
       "4            ***КОРОБКА (СТЕКЛО)                       D        4   \n",
       "...                                                  ...      ...   \n",
       "22165             Ядерный титбит 2 [PC, Цифровая версия]    22165   \n",
       "22166    Язык запросов 1С:Предприятия  [Цифровая версия]    22166   \n",
       "22167  Язык запросов 1С:Предприятия 8 (+CD). Хрустале...    22167   \n",
       "22168                                Яйцо для Little Inu    22168   \n",
       "22169                      Яйцо дракона (Игра престолов)    22169   \n",
       "\n",
       "       item_category_id                    item_category_name  \\\n",
       "0                    40                            Кино - DVD   \n",
       "1                    76  Программы - Для дома и офиса (Цифра)   \n",
       "2                    40                            Кино - DVD   \n",
       "3                    40                            Кино - DVD   \n",
       "4                    40                            Кино - DVD   \n",
       "...                 ...                                   ...   \n",
       "22165                31                       Игры PC - Цифра   \n",
       "22166                54                         Книги - Цифра   \n",
       "22167                49     Книги - Методические материалы 1С   \n",
       "22168                62      Подарки - Гаджеты, роботы, спорт   \n",
       "22169                69                    Подарки - Сувениры   \n",
       "\n",
       "                                       name_eng  cat_code  \\\n",
       "0                                   Movie - DVD     movie   \n",
       "1      Programs - For Home and Office (Digital)  programs   \n",
       "2                                   Movie - DVD     movie   \n",
       "3                                   Movie - DVD     movie   \n",
       "4                                   Movie - DVD     movie   \n",
       "...                                         ...       ...   \n",
       "22165                         PC Games - Number  pc games   \n",
       "22166                            Books - Number     books   \n",
       "22167           Books - Methodical materials 1C     books   \n",
       "22168           Gifts - Gadgets, Robots, Sports     gifts   \n",
       "22169                         Gifts - Souvenirs     gifts   \n",
       "\n",
       "                         cat_subcode  \n",
       "0                                dvd  \n",
       "1      for home and office (digital)  \n",
       "2                                dvd  \n",
       "3                                dvd  \n",
       "4                                dvd  \n",
       "...                              ...  \n",
       "22165                         number  \n",
       "22166                         number  \n",
       "22167        methodical materials 1c  \n",
       "22168        gadgets, robots, sports  \n",
       "22169                      souvenirs  \n",
       "\n",
       "[22170 rows x 7 columns]"
      ]
     },
     "execution_count": 126,
     "metadata": {},
     "output_type": "execute_result"
    }
   ],
   "source": [
    "items_data"
   ]
  },
  {
   "cell_type": "code",
   "execution_count": 130,
   "metadata": {},
   "outputs": [],
   "source": [
    "items_data.drop(columns=['item_name', 'item_category_name', 'name_eng'], inplace=True)"
   ]
  },
  {
   "cell_type": "code",
   "execution_count": 131,
   "metadata": {
    "scrolled": false
   },
   "outputs": [
    {
     "name": "stdout",
     "output_type": "stream",
     "text": [
      "<class 'pandas.core.frame.DataFrame'>\n",
      "Int64Index: 22170 entries, 0 to 22169\n",
      "Data columns (total 4 columns):\n",
      " #   Column            Non-Null Count  Dtype \n",
      "---  ------            --------------  ----- \n",
      " 0   item_id           22170 non-null  int64 \n",
      " 1   item_category_id  22170 non-null  int64 \n",
      " 2   cat_code          22170 non-null  object\n",
      " 3   cat_subcode       22170 non-null  object\n",
      "dtypes: int64(2), object(2)\n",
      "memory usage: 866.0+ KB\n"
     ]
    }
   ],
   "source": [
    "items_data.info()"
   ]
  },
  {
   "cell_type": "code",
   "execution_count": 132,
   "metadata": {},
   "outputs": [],
   "source": [
    "items_data.to_csv('./input/items_data.csv', index=False)"
   ]
  },
  {
   "cell_type": "markdown",
   "metadata": {},
   "source": [
    "## Shops Analysis"
   ]
  },
  {
   "cell_type": "code",
   "execution_count": 133,
   "metadata": {},
   "outputs": [],
   "source": [
    "shops['shop_name'] = shops['shop_name'].apply(lambda x: translator.translate(x).text.lower())"
   ]
  },
  {
   "cell_type": "code",
   "execution_count": 143,
   "metadata": {},
   "outputs": [
    {
     "data": {
      "text/html": [
       "<div>\n",
       "<style scoped>\n",
       "    .dataframe tbody tr th:only-of-type {\n",
       "        vertical-align: middle;\n",
       "    }\n",
       "\n",
       "    .dataframe tbody tr th {\n",
       "        vertical-align: top;\n",
       "    }\n",
       "\n",
       "    .dataframe thead th {\n",
       "        text-align: right;\n",
       "    }\n",
       "</style>\n",
       "<table border=\"1\" class=\"dataframe\">\n",
       "  <thead>\n",
       "    <tr style=\"text-align: right;\">\n",
       "      <th></th>\n",
       "      <th>shop_name</th>\n",
       "      <th>shop_id</th>\n",
       "      <th>location</th>\n",
       "    </tr>\n",
       "  </thead>\n",
       "  <tbody>\n",
       "    <tr>\n",
       "      <th>17</th>\n",
       "      <td>krasnoyarsk tc \"vzletka plaza\"</td>\n",
       "      <td>17</td>\n",
       "      <td>tc \"vzletka plaza\"</td>\n",
       "    </tr>\n",
       "    <tr>\n",
       "      <th>47</th>\n",
       "      <td>surgut sec \"city mall\"</td>\n",
       "      <td>47</td>\n",
       "      <td>sec \"city mall\"</td>\n",
       "    </tr>\n",
       "    <tr>\n",
       "      <th>29</th>\n",
       "      <td>moscow shopping center \"new age\" (novokosino)</td>\n",
       "      <td>29</td>\n",
       "      <td>shopping center \"new age\" (novokosino)</td>\n",
       "    </tr>\n",
       "    <tr>\n",
       "      <th>4</th>\n",
       "      <td>volzhsky shopping center \"volga mall\"</td>\n",
       "      <td>4</td>\n",
       "      <td>shopping center \"volga mall\"</td>\n",
       "    </tr>\n",
       "    <tr>\n",
       "      <th>10</th>\n",
       "      <td>zhukovsky st. chkalov 39m?</td>\n",
       "      <td>10</td>\n",
       "      <td>st. chkalov 39m?</td>\n",
       "    </tr>\n",
       "    <tr>\n",
       "      <th>57</th>\n",
       "      <td>yakutsk ordzhonikidze, 56</td>\n",
       "      <td>57</td>\n",
       "      <td>ordzhonikidze, 56</td>\n",
       "    </tr>\n",
       "    <tr>\n",
       "      <th>53</th>\n",
       "      <td>ufa tc \"family\" 2</td>\n",
       "      <td>53</td>\n",
       "      <td>tc \"family\" 2</td>\n",
       "    </tr>\n",
       "    <tr>\n",
       "      <th>19</th>\n",
       "      <td>kursk tc \"pushkinsky\"</td>\n",
       "      <td>19</td>\n",
       "      <td>tc \"pushkinsky\"</td>\n",
       "    </tr>\n",
       "    <tr>\n",
       "      <th>46</th>\n",
       "      <td>sergiev posad 7ya shopping center</td>\n",
       "      <td>46</td>\n",
       "      <td>posad 7ya shopping center</td>\n",
       "    </tr>\n",
       "    <tr>\n",
       "      <th>59</th>\n",
       "      <td>yaroslavl tc \"altair\"</td>\n",
       "      <td>59</td>\n",
       "      <td>tc \"altair\"</td>\n",
       "    </tr>\n",
       "  </tbody>\n",
       "</table>\n",
       "</div>"
      ],
      "text/plain": [
       "                                        shop_name  shop_id  \\\n",
       "17                 krasnoyarsk tc \"vzletka plaza\"       17   \n",
       "47                         surgut sec \"city mall\"       47   \n",
       "29  moscow shopping center \"new age\" (novokosino)       29   \n",
       "4           volzhsky shopping center \"volga mall\"        4   \n",
       "10                     zhukovsky st. chkalov 39m?       10   \n",
       "57                      yakutsk ordzhonikidze, 56       57   \n",
       "53                              ufa tc \"family\" 2       53   \n",
       "19                          kursk tc \"pushkinsky\"       19   \n",
       "46              sergiev posad 7ya shopping center       46   \n",
       "59                          yaroslavl tc \"altair\"       59   \n",
       "\n",
       "                                   location  \n",
       "17                       tc \"vzletka plaza\"  \n",
       "47                          sec \"city mall\"  \n",
       "29   shopping center \"new age\" (novokosino)  \n",
       "4              shopping center \"volga mall\"  \n",
       "10                         st. chkalov 39m?  \n",
       "57                        ordzhonikidze, 56  \n",
       "53                            tc \"family\" 2  \n",
       "19                          tc \"pushkinsky\"  \n",
       "46                posad 7ya shopping center  \n",
       "59                              tc \"altair\"  "
      ]
     },
     "execution_count": 143,
     "metadata": {},
     "output_type": "execute_result"
    }
   ],
   "source": [
    "shops.sample(10)"
   ]
  },
  {
   "cell_type": "code",
   "execution_count": 147,
   "metadata": {},
   "outputs": [],
   "source": [
    "p_rem_special= re.compile(r'[\\!*()\\[\\],.]')"
   ]
  },
  {
   "cell_type": "code",
   "execution_count": 151,
   "metadata": {},
   "outputs": [],
   "source": [
    "shops['shop_name'] = shops['shop_name'].apply(lambda x: re.sub(p_rem_special,'', x))"
   ]
  },
  {
   "cell_type": "code",
   "execution_count": 153,
   "metadata": {},
   "outputs": [],
   "source": [
    "patternlocation = re.compile(r'[\\w\\-]+')"
   ]
  },
  {
   "cell_type": "code",
   "execution_count": 154,
   "metadata": {},
   "outputs": [],
   "source": [
    "shops['location'] = shops['shop_name'].apply(lambda x: re.findall(patternlocation, x)[0])"
   ]
  },
  {
   "cell_type": "code",
   "execution_count": 156,
   "metadata": {},
   "outputs": [
    {
     "data": {
      "text/html": [
       "<div>\n",
       "<style scoped>\n",
       "    .dataframe tbody tr th:only-of-type {\n",
       "        vertical-align: middle;\n",
       "    }\n",
       "\n",
       "    .dataframe tbody tr th {\n",
       "        vertical-align: top;\n",
       "    }\n",
       "\n",
       "    .dataframe thead th {\n",
       "        text-align: right;\n",
       "    }\n",
       "</style>\n",
       "<table border=\"1\" class=\"dataframe\">\n",
       "  <thead>\n",
       "    <tr style=\"text-align: right;\">\n",
       "      <th></th>\n",
       "      <th>shop_name</th>\n",
       "      <th>shop_id</th>\n",
       "      <th>location</th>\n",
       "    </tr>\n",
       "  </thead>\n",
       "  <tbody>\n",
       "    <tr>\n",
       "      <th>10</th>\n",
       "      <td>zhukovsky st chkalov 39m?</td>\n",
       "      <td>10</td>\n",
       "      <td>zhukovsky</td>\n",
       "    </tr>\n",
       "    <tr>\n",
       "      <th>29</th>\n",
       "      <td>moscow shopping center \"new age\" novokosino</td>\n",
       "      <td>29</td>\n",
       "      <td>moscow</td>\n",
       "    </tr>\n",
       "    <tr>\n",
       "      <th>53</th>\n",
       "      <td>ufa tc \"family\" 2</td>\n",
       "      <td>53</td>\n",
       "      <td>ufa</td>\n",
       "    </tr>\n",
       "    <tr>\n",
       "      <th>46</th>\n",
       "      <td>sergiev posad 7ya shopping center</td>\n",
       "      <td>46</td>\n",
       "      <td>sergiev</td>\n",
       "    </tr>\n",
       "    <tr>\n",
       "      <th>5</th>\n",
       "      <td>vologda sec \"marmelad\"</td>\n",
       "      <td>5</td>\n",
       "      <td>vologda</td>\n",
       "    </tr>\n",
       "    <tr>\n",
       "      <th>30</th>\n",
       "      <td>moscow perlovsky shopping center</td>\n",
       "      <td>30</td>\n",
       "      <td>moscow</td>\n",
       "    </tr>\n",
       "    <tr>\n",
       "      <th>39</th>\n",
       "      <td>rostov-on-don megacenter horizon</td>\n",
       "      <td>39</td>\n",
       "      <td>rostov-on-don</td>\n",
       "    </tr>\n",
       "    <tr>\n",
       "      <th>37</th>\n",
       "      <td>novosibirsk tc \"mega\"</td>\n",
       "      <td>37</td>\n",
       "      <td>novosibirsk</td>\n",
       "    </tr>\n",
       "    <tr>\n",
       "      <th>1</th>\n",
       "      <td>yakutsk tc \"central\" fran</td>\n",
       "      <td>1</td>\n",
       "      <td>yakutsk</td>\n",
       "    </tr>\n",
       "    <tr>\n",
       "      <th>57</th>\n",
       "      <td>yakutsk ordzhonikidze 56</td>\n",
       "      <td>57</td>\n",
       "      <td>yakutsk</td>\n",
       "    </tr>\n",
       "  </tbody>\n",
       "</table>\n",
       "</div>"
      ],
      "text/plain": [
       "                                      shop_name  shop_id       location\n",
       "10                    zhukovsky st chkalov 39m?       10      zhukovsky\n",
       "29  moscow shopping center \"new age\" novokosino       29         moscow\n",
       "53                            ufa tc \"family\" 2       53            ufa\n",
       "46            sergiev posad 7ya shopping center       46        sergiev\n",
       "5                        vologda sec \"marmelad\"        5        vologda\n",
       "30             moscow perlovsky shopping center       30         moscow\n",
       "39             rostov-on-don megacenter horizon       39  rostov-on-don\n",
       "37                        novosibirsk tc \"mega\"       37    novosibirsk\n",
       "1                     yakutsk tc \"central\" fran        1        yakutsk\n",
       "57                     yakutsk ordzhonikidze 56       57        yakutsk"
      ]
     },
     "execution_count": 156,
     "metadata": {},
     "output_type": "execute_result"
    }
   ],
   "source": [
    "shops.sample(10)"
   ]
  },
  {
   "cell_type": "code",
   "execution_count": 162,
   "metadata": {},
   "outputs": [],
   "source": [
    "p_shop_identifier = re.compile(r'\\\"([\\w]+)\\\"')\n",
    "def shop_identifier(x, pat):\n",
    "    identifier = re.findall(p_shop_identifier, x)\n",
    "    if len(identifier)==1: return identifier[0]\n",
    "    else: return 'none'"
   ]
  },
  {
   "cell_type": "code",
   "execution_count": 164,
   "metadata": {},
   "outputs": [],
   "source": [
    "shops['identifier'] = shops['shop_name'].apply(lambda x: shop_identifier(x, p_shop_identifier))"
   ]
  },
  {
   "cell_type": "code",
   "execution_count": 167,
   "metadata": {},
   "outputs": [
    {
     "data": {
      "text/plain": [
       "none           28\n",
       "mega            5\n",
       "central         3\n",
       "rio             2\n",
       "budenovskiy     2\n",
       "behetle         1\n",
       "goodwin         1\n",
       "altair          1\n",
       "maksimir        1\n",
       "city            1\n",
       "crystal         1\n",
       "areal           1\n",
       "parkhaus        1\n",
       "melody          1\n",
       "atrium          1\n",
       "marmelad        1\n",
       "carnival        1\n",
       "semenovsky      1\n",
       "fantasy         1\n",
       "family          1\n",
       "sennaya         1\n",
       "june            1\n",
       "parkhouse       1\n",
       "pushkinsky      1\n",
       "sale            1\n",
       "Name: identifier, dtype: int64"
      ]
     },
     "execution_count": 167,
     "metadata": {},
     "output_type": "execute_result"
    }
   ],
   "source": [
    "shops.identifier.value_counts()"
   ]
  },
  {
   "cell_type": "code",
   "execution_count": 168,
   "metadata": {},
   "outputs": [
    {
     "data": {
      "text/plain": [
       "moscow           13\n",
       "yakutsk           4\n",
       "voronezh          3\n",
       "tyumen            3\n",
       "ufa               2\n",
       "spb               2\n",
       "novosibirsk       2\n",
       "rostov-on-don     2\n",
       "krasnoyarsk       2\n",
       "kazan             2\n",
       "zhukovsky         2\n",
       "samara            2\n",
       "nnovgorod         2\n",
       "kaluga            1\n",
       "vologda           1\n",
       "yaroslavl         1\n",
       "sergiev           1\n",
       "kursk             1\n",
       "tomsk             1\n",
       "chekhov           1\n",
       "rostovnadonu      1\n",
       "balashikha        1\n",
       "volzhsky          1\n",
       "offsite           1\n",
       "khimki            1\n",
       "kolomna           1\n",
       "adygea            1\n",
       "mytischi          1\n",
       "digital           1\n",
       "emergency         1\n",
       "omsk              1\n",
       "surgut            1\n",
       "Name: location, dtype: int64"
      ]
     },
     "execution_count": 168,
     "metadata": {},
     "output_type": "execute_result"
    }
   ],
   "source": [
    "shops.location.value_counts()"
   ]
  },
  {
   "cell_type": "code",
   "execution_count": 169,
   "metadata": {},
   "outputs": [],
   "source": [
    "shops.loc[shops.location == 'rostovnadonu', 'location'] = 'rostov-on-don'"
   ]
  },
  {
   "cell_type": "code",
   "execution_count": 170,
   "metadata": {},
   "outputs": [
    {
     "data": {
      "text/plain": [
       "moscow           13\n",
       "yakutsk           4\n",
       "tyumen            3\n",
       "rostov-on-don     3\n",
       "voronezh          3\n",
       "nnovgorod         2\n",
       "ufa               2\n",
       "kazan             2\n",
       "krasnoyarsk       2\n",
       "zhukovsky         2\n",
       "samara            2\n",
       "novosibirsk       2\n",
       "spb               2\n",
       "kaluga            1\n",
       "chekhov           1\n",
       "kursk             1\n",
       "yaroslavl         1\n",
       "vologda           1\n",
       "sergiev           1\n",
       "tomsk             1\n",
       "digital           1\n",
       "balashikha        1\n",
       "mytischi          1\n",
       "volzhsky          1\n",
       "offsite           1\n",
       "omsk              1\n",
       "khimki            1\n",
       "emergency         1\n",
       "kolomna           1\n",
       "adygea            1\n",
       "surgut            1\n",
       "Name: location, dtype: int64"
      ]
     },
     "execution_count": 170,
     "metadata": {},
     "output_type": "execute_result"
    }
   ],
   "source": [
    "shops.location.value_counts()"
   ]
  },
  {
   "cell_type": "code",
   "execution_count": 171,
   "metadata": {},
   "outputs": [],
   "source": [
    "shops.drop(columns='identifier', inplace=True)"
   ]
  },
  {
   "cell_type": "code",
   "execution_count": 172,
   "metadata": {},
   "outputs": [],
   "source": [
    "shops.to_csv('./input/shops_data.csv', index=False)"
   ]
  },
  {
   "cell_type": "code",
   "execution_count": null,
   "metadata": {},
   "outputs": [],
   "source": []
  }
 ],
 "metadata": {
  "kernelspec": {
   "display_name": "Python 3",
   "language": "python",
   "name": "python3"
  },
  "language_info": {
   "codemirror_mode": {
    "name": "ipython",
    "version": 3
   },
   "file_extension": ".py",
   "mimetype": "text/x-python",
   "name": "python",
   "nbconvert_exporter": "python",
   "pygments_lexer": "ipython3",
   "version": "3.8.2"
  }
 },
 "nbformat": 4,
 "nbformat_minor": 4
}
