{
 "cells": [
  {
   "cell_type": "code",
   "execution_count": 41,
   "metadata": {},
   "outputs": [],
   "source": [
    "import pandas as pd\n",
    "import numpy as np\n",
    "import matplotlib.pyplot as plt\n",
    "import seaborn as sns\n",
    "sns.set(style='darkgrid')\n",
    "import gc"
   ]
  },
  {
   "cell_type": "code",
   "execution_count": 42,
   "metadata": {},
   "outputs": [
    {
     "name": "stdout",
     "output_type": "stream",
     "text": [
      "item_categories.csv\n",
      "items.csv\n",
      "sales_train.csv\n",
      "sample_submission.csv\n",
      "shops.csv\n",
      "test.csv\n",
      "train_1.pkl\n",
      "train_2.pkl\n"
     ]
    }
   ],
   "source": [
    "%%bash\n",
    "cd input\n",
    "ls"
   ]
  },
  {
   "cell_type": "markdown",
   "metadata": {},
   "source": [
    "## Read data files"
   ]
  },
  {
   "cell_type": "code",
   "execution_count": 43,
   "metadata": {},
   "outputs": [],
   "source": [
    "train = pd.read_csv('./input/sales_train.csv')\n",
    "test = pd.read_csv('./input/test.csv')\n",
    "items = pd.read_csv('./input/items.csv')\n",
    "items_cat = pd.read_csv('./input/item_categories.csv')\n",
    "shops = pd.read_csv('./input/shops.csv')\n",
    "samp_sub = pd.read_csv('./input/sample_submission.csv')"
   ]
  },
  {
   "cell_type": "code",
   "execution_count": 44,
   "metadata": {},
   "outputs": [
    {
     "name": "stdout",
     "output_type": "stream",
     "text": [
      "<class 'pandas.core.frame.DataFrame'>\n",
      "RangeIndex: 2935849 entries, 0 to 2935848\n",
      "Data columns (total 6 columns):\n",
      " #   Column          Dtype  \n",
      "---  ------          -----  \n",
      " 0   date            object \n",
      " 1   date_block_num  int64  \n",
      " 2   shop_id         int64  \n",
      " 3   item_id         int64  \n",
      " 4   item_price      float64\n",
      " 5   item_cnt_day    float64\n",
      "dtypes: float64(2), int64(3), object(1)\n",
      "memory usage: 134.4+ MB\n"
     ]
    }
   ],
   "source": [
    "train.info()"
   ]
  },
  {
   "cell_type": "code",
   "execution_count": 45,
   "metadata": {},
   "outputs": [
    {
     "data": {
      "text/html": [
       "<div>\n",
       "<style scoped>\n",
       "    .dataframe tbody tr th:only-of-type {\n",
       "        vertical-align: middle;\n",
       "    }\n",
       "\n",
       "    .dataframe tbody tr th {\n",
       "        vertical-align: top;\n",
       "    }\n",
       "\n",
       "    .dataframe thead th {\n",
       "        text-align: right;\n",
       "    }\n",
       "</style>\n",
       "<table border=\"1\" class=\"dataframe\">\n",
       "  <thead>\n",
       "    <tr style=\"text-align: right;\">\n",
       "      <th></th>\n",
       "      <th>date_block_num</th>\n",
       "      <th>shop_id</th>\n",
       "      <th>item_id</th>\n",
       "      <th>item_price</th>\n",
       "      <th>item_cnt_day</th>\n",
       "    </tr>\n",
       "  </thead>\n",
       "  <tbody>\n",
       "    <tr>\n",
       "      <th>count</th>\n",
       "      <td>2.935849e+06</td>\n",
       "      <td>2.935849e+06</td>\n",
       "      <td>2.935849e+06</td>\n",
       "      <td>2.935849e+06</td>\n",
       "      <td>2.935849e+06</td>\n",
       "    </tr>\n",
       "    <tr>\n",
       "      <th>mean</th>\n",
       "      <td>1.456991e+01</td>\n",
       "      <td>3.300173e+01</td>\n",
       "      <td>1.019723e+04</td>\n",
       "      <td>8.908532e+02</td>\n",
       "      <td>1.242641e+00</td>\n",
       "    </tr>\n",
       "    <tr>\n",
       "      <th>std</th>\n",
       "      <td>9.422988e+00</td>\n",
       "      <td>1.622697e+01</td>\n",
       "      <td>6.324297e+03</td>\n",
       "      <td>1.729800e+03</td>\n",
       "      <td>2.618834e+00</td>\n",
       "    </tr>\n",
       "    <tr>\n",
       "      <th>min</th>\n",
       "      <td>0.000000e+00</td>\n",
       "      <td>0.000000e+00</td>\n",
       "      <td>0.000000e+00</td>\n",
       "      <td>-1.000000e+00</td>\n",
       "      <td>-2.200000e+01</td>\n",
       "    </tr>\n",
       "    <tr>\n",
       "      <th>25%</th>\n",
       "      <td>7.000000e+00</td>\n",
       "      <td>2.200000e+01</td>\n",
       "      <td>4.476000e+03</td>\n",
       "      <td>2.490000e+02</td>\n",
       "      <td>1.000000e+00</td>\n",
       "    </tr>\n",
       "    <tr>\n",
       "      <th>50%</th>\n",
       "      <td>1.400000e+01</td>\n",
       "      <td>3.100000e+01</td>\n",
       "      <td>9.343000e+03</td>\n",
       "      <td>3.990000e+02</td>\n",
       "      <td>1.000000e+00</td>\n",
       "    </tr>\n",
       "    <tr>\n",
       "      <th>75%</th>\n",
       "      <td>2.300000e+01</td>\n",
       "      <td>4.700000e+01</td>\n",
       "      <td>1.568400e+04</td>\n",
       "      <td>9.990000e+02</td>\n",
       "      <td>1.000000e+00</td>\n",
       "    </tr>\n",
       "    <tr>\n",
       "      <th>max</th>\n",
       "      <td>3.300000e+01</td>\n",
       "      <td>5.900000e+01</td>\n",
       "      <td>2.216900e+04</td>\n",
       "      <td>3.079800e+05</td>\n",
       "      <td>2.169000e+03</td>\n",
       "    </tr>\n",
       "  </tbody>\n",
       "</table>\n",
       "</div>"
      ],
      "text/plain": [
       "       date_block_num       shop_id       item_id    item_price  item_cnt_day\n",
       "count    2.935849e+06  2.935849e+06  2.935849e+06  2.935849e+06  2.935849e+06\n",
       "mean     1.456991e+01  3.300173e+01  1.019723e+04  8.908532e+02  1.242641e+00\n",
       "std      9.422988e+00  1.622697e+01  6.324297e+03  1.729800e+03  2.618834e+00\n",
       "min      0.000000e+00  0.000000e+00  0.000000e+00 -1.000000e+00 -2.200000e+01\n",
       "25%      7.000000e+00  2.200000e+01  4.476000e+03  2.490000e+02  1.000000e+00\n",
       "50%      1.400000e+01  3.100000e+01  9.343000e+03  3.990000e+02  1.000000e+00\n",
       "75%      2.300000e+01  4.700000e+01  1.568400e+04  9.990000e+02  1.000000e+00\n",
       "max      3.300000e+01  5.900000e+01  2.216900e+04  3.079800e+05  2.169000e+03"
      ]
     },
     "execution_count": 45,
     "metadata": {},
     "output_type": "execute_result"
    }
   ],
   "source": [
    "train.describe()"
   ]
  },
  {
   "cell_type": "markdown",
   "metadata": {},
   "source": [
    "## Data Cleaning"
   ]
  },
  {
   "cell_type": "markdown",
   "metadata": {},
   "source": [
    "### Remove outliers from Train set"
   ]
  },
  {
   "cell_type": "code",
   "execution_count": 46,
   "metadata": {},
   "outputs": [
    {
     "data": {
      "image/png": "[encoded data removed]",
      "text/plain": [
       "<Figure size 720x288 with 1 Axes>"
      ]
     },
     "metadata": {},
     "output_type": "display_data"
    },
    {
     "data": {
      "image/png": "[encoded data removed]",
      "text/plain": [
       "<Figure size 720x288 with 1 Axes>"
      ]
     },
     "metadata": {},
     "output_type": "display_data"
    }
   ],
   "source": [
    "plt.figure(figsize=(10,4))\n",
    "plt.xlim(-50, 2500)\n",
    "flierprops = dict(marker='o', markerfacecolor='purple', markersize=6,\n",
    "                  linestyle='none', markeredgecolor='black')\n",
    "sns.boxplot(x=train.item_cnt_day, flierprops=flierprops);\n",
    "\n",
    "plt.figure(figsize=(10,4))\n",
    "sns.boxplot(x=train.item_price, flierprops=flierprops);"
   ]
  },
  {
   "cell_type": "markdown",
   "metadata": {},
   "source": [
    "### Removing items with negative item_cnt_day or item_price"
   ]
  },
  {
   "cell_type": "markdown",
   "metadata": {},
   "source": [
    "#### Original data shape"
   ]
  },
  {
   "cell_type": "code",
   "execution_count": 47,
   "metadata": {},
   "outputs": [
    {
     "name": "stdout",
     "output_type": "stream",
     "text": [
      "Original data contains 2935849 no of rows\n"
     ]
    }
   ],
   "source": [
    "print('Original data contains {} no of rows'.format(train.shape[0]))"
   ]
  },
  {
   "cell_type": "markdown",
   "metadata": {},
   "source": [
    "#### Removing negative values"
   ]
  },
  {
   "cell_type": "code",
   "execution_count": 48,
   "metadata": {},
   "outputs": [
    {
     "name": "stdout",
     "output_type": "stream",
     "text": [
      "Cleaned data contains 2928492 no of rows\n"
     ]
    }
   ],
   "source": [
    "mask_neg = (train['item_cnt_day'] < 0) | (train['item_price'] < 0)\n",
    "train = train.loc[~mask_neg]\n",
    "print('Cleaned data contains {} no of rows'.format(train.shape[0]))"
   ]
  },
  {
   "cell_type": "markdown",
   "metadata": {},
   "source": [
    "#### Removing extremely large values"
   ]
  },
  {
   "cell_type": "code",
   "execution_count": 49,
   "metadata": {},
   "outputs": [
    {
     "name": "stdout",
     "output_type": "stream",
     "text": [
      "Cleaned data contains 2928488 no of rows\n"
     ]
    }
   ],
   "source": [
    "mask_very_large = (train['item_cnt_day'] > 1000) | (train['item_price'] > 50000)\n",
    "train = train.loc[~mask_very_large]\n",
    "print('Cleaned data contains {} no of rows'.format(train.shape[0]))"
   ]
  },
  {
   "cell_type": "markdown",
   "metadata": {},
   "source": [
    "### Add month & year information to the data"
   ]
  },
  {
   "cell_type": "code",
   "execution_count": 50,
   "metadata": {},
   "outputs": [
    {
     "data": {
      "text/html": [
       "<div>\n",
       "<style scoped>\n",
       "    .dataframe tbody tr th:only-of-type {\n",
       "        vertical-align: middle;\n",
       "    }\n",
       "\n",
       "    .dataframe tbody tr th {\n",
       "        vertical-align: top;\n",
       "    }\n",
       "\n",
       "    .dataframe thead th {\n",
       "        text-align: right;\n",
       "    }\n",
       "</style>\n",
       "<table border=\"1\" class=\"dataframe\">\n",
       "  <thead>\n",
       "    <tr style=\"text-align: right;\">\n",
       "      <th></th>\n",
       "      <th>date</th>\n",
       "      <th>date_block_num</th>\n",
       "      <th>shop_id</th>\n",
       "      <th>item_id</th>\n",
       "      <th>item_price</th>\n",
       "      <th>item_cnt_day</th>\n",
       "    </tr>\n",
       "  </thead>\n",
       "  <tbody>\n",
       "    <tr>\n",
       "      <th>0</th>\n",
       "      <td>02.01.2013</td>\n",
       "      <td>0</td>\n",
       "      <td>59</td>\n",
       "      <td>22154</td>\n",
       "      <td>999.00</td>\n",
       "      <td>1.0</td>\n",
       "    </tr>\n",
       "    <tr>\n",
       "      <th>1</th>\n",
       "      <td>03.01.2013</td>\n",
       "      <td>0</td>\n",
       "      <td>25</td>\n",
       "      <td>2552</td>\n",
       "      <td>899.00</td>\n",
       "      <td>1.0</td>\n",
       "    </tr>\n",
       "    <tr>\n",
       "      <th>3</th>\n",
       "      <td>06.01.2013</td>\n",
       "      <td>0</td>\n",
       "      <td>25</td>\n",
       "      <td>2554</td>\n",
       "      <td>1709.05</td>\n",
       "      <td>1.0</td>\n",
       "    </tr>\n",
       "    <tr>\n",
       "      <th>4</th>\n",
       "      <td>15.01.2013</td>\n",
       "      <td>0</td>\n",
       "      <td>25</td>\n",
       "      <td>2555</td>\n",
       "      <td>1099.00</td>\n",
       "      <td>1.0</td>\n",
       "    </tr>\n",
       "    <tr>\n",
       "      <th>5</th>\n",
       "      <td>10.01.2013</td>\n",
       "      <td>0</td>\n",
       "      <td>25</td>\n",
       "      <td>2564</td>\n",
       "      <td>349.00</td>\n",
       "      <td>1.0</td>\n",
       "    </tr>\n",
       "  </tbody>\n",
       "</table>\n",
       "</div>"
      ],
      "text/plain": [
       "         date  date_block_num  shop_id  item_id  item_price  item_cnt_day\n",
       "0  02.01.2013               0       59    22154      999.00           1.0\n",
       "1  03.01.2013               0       25     2552      899.00           1.0\n",
       "3  06.01.2013               0       25     2554     1709.05           1.0\n",
       "4  15.01.2013               0       25     2555     1099.00           1.0\n",
       "5  10.01.2013               0       25     2564      349.00           1.0"
      ]
     },
     "execution_count": 50,
     "metadata": {},
     "output_type": "execute_result"
    }
   ],
   "source": [
    "train.head()"
   ]
  },
  {
   "cell_type": "code",
   "execution_count": 51,
   "metadata": {},
   "outputs": [
    {
     "data": {
      "text/html": [
       "<div>\n",
       "<style scoped>\n",
       "    .dataframe tbody tr th:only-of-type {\n",
       "        vertical-align: middle;\n",
       "    }\n",
       "\n",
       "    .dataframe tbody tr th {\n",
       "        vertical-align: top;\n",
       "    }\n",
       "\n",
       "    .dataframe thead th {\n",
       "        text-align: right;\n",
       "    }\n",
       "</style>\n",
       "<table border=\"1\" class=\"dataframe\">\n",
       "  <thead>\n",
       "    <tr style=\"text-align: right;\">\n",
       "      <th></th>\n",
       "      <th>date</th>\n",
       "      <th>date_block_num</th>\n",
       "      <th>shop_id</th>\n",
       "      <th>item_id</th>\n",
       "      <th>item_price</th>\n",
       "      <th>item_cnt_day</th>\n",
       "    </tr>\n",
       "  </thead>\n",
       "  <tbody>\n",
       "    <tr>\n",
       "      <th>2928483</th>\n",
       "      <td>2015-10-31</td>\n",
       "      <td>33</td>\n",
       "      <td>6</td>\n",
       "      <td>20609</td>\n",
       "      <td>1099.0</td>\n",
       "      <td>1.0</td>\n",
       "    </tr>\n",
       "    <tr>\n",
       "      <th>2928484</th>\n",
       "      <td>2015-10-31</td>\n",
       "      <td>33</td>\n",
       "      <td>25</td>\n",
       "      <td>10452</td>\n",
       "      <td>99.0</td>\n",
       "      <td>1.0</td>\n",
       "    </tr>\n",
       "    <tr>\n",
       "      <th>2928485</th>\n",
       "      <td>2015-10-31</td>\n",
       "      <td>33</td>\n",
       "      <td>53</td>\n",
       "      <td>1583</td>\n",
       "      <td>3999.0</td>\n",
       "      <td>1.0</td>\n",
       "    </tr>\n",
       "    <tr>\n",
       "      <th>2928486</th>\n",
       "      <td>2015-10-31</td>\n",
       "      <td>33</td>\n",
       "      <td>37</td>\n",
       "      <td>7224</td>\n",
       "      <td>4499.0</td>\n",
       "      <td>1.0</td>\n",
       "    </tr>\n",
       "    <tr>\n",
       "      <th>2928487</th>\n",
       "      <td>2015-10-31</td>\n",
       "      <td>33</td>\n",
       "      <td>42</td>\n",
       "      <td>3572</td>\n",
       "      <td>1099.0</td>\n",
       "      <td>1.0</td>\n",
       "    </tr>\n",
       "  </tbody>\n",
       "</table>\n",
       "</div>"
      ],
      "text/plain": [
       "              date  date_block_num  shop_id  item_id  item_price  item_cnt_day\n",
       "2928483 2015-10-31              33        6    20609      1099.0           1.0\n",
       "2928484 2015-10-31              33       25    10452        99.0           1.0\n",
       "2928485 2015-10-31              33       53     1583      3999.0           1.0\n",
       "2928486 2015-10-31              33       37     7224      4499.0           1.0\n",
       "2928487 2015-10-31              33       42     3572      1099.0           1.0"
      ]
     },
     "execution_count": 51,
     "metadata": {},
     "output_type": "execute_result"
    }
   ],
   "source": [
    "train['date'] = pd.to_datetime(train['date'], format='%d.%m.%Y')\n",
    "train.sort_values('date', inplace=True, ignore_index=True)\n",
    "train.tail()"
   ]
  },
  {
   "cell_type": "code",
   "execution_count": 52,
   "metadata": {},
   "outputs": [],
   "source": [
    "train['year'] = getattr(train['date'].dt, 'year')"
   ]
  },
  {
   "cell_type": "code",
   "execution_count": 53,
   "metadata": {},
   "outputs": [],
   "source": [
    "train['month'] = getattr(train['date'].dt, 'month')"
   ]
  },
  {
   "cell_type": "markdown",
   "metadata": {},
   "source": [
    "### Drop the date column"
   ]
  },
  {
   "cell_type": "code",
   "execution_count": 54,
   "metadata": {},
   "outputs": [],
   "source": [
    "train.drop(columns='date', inplace=True)"
   ]
  },
  {
   "cell_type": "code",
   "execution_count": 55,
   "metadata": {},
   "outputs": [],
   "source": [
    "train = train.groupby(by=['year', 'month', 'shop_id', 'item_id']).agg({'date_block_num': 'mean',\n",
    "                                                                       'item_cnt_day': 'sum', \n",
    "                                                                       'item_price': 'median'})"
   ]
  },
  {
   "cell_type": "code",
   "execution_count": 56,
   "metadata": {},
   "outputs": [],
   "source": [
    "train.reset_index(inplace=True)"
   ]
  },
  {
   "cell_type": "code",
   "execution_count": 57,
   "metadata": {},
   "outputs": [
    {
     "data": {
      "text/html": [
       "<div>\n",
       "<style scoped>\n",
       "    .dataframe tbody tr th:only-of-type {\n",
       "        vertical-align: middle;\n",
       "    }\n",
       "\n",
       "    .dataframe tbody tr th {\n",
       "        vertical-align: top;\n",
       "    }\n",
       "\n",
       "    .dataframe thead th {\n",
       "        text-align: right;\n",
       "    }\n",
       "</style>\n",
       "<table border=\"1\" class=\"dataframe\">\n",
       "  <thead>\n",
       "    <tr style=\"text-align: right;\">\n",
       "      <th></th>\n",
       "      <th>year</th>\n",
       "      <th>month</th>\n",
       "      <th>shop_id</th>\n",
       "      <th>item_id</th>\n",
       "      <th>date_block_num</th>\n",
       "      <th>item_cnt_day</th>\n",
       "      <th>item_price</th>\n",
       "    </tr>\n",
       "  </thead>\n",
       "  <tbody>\n",
       "    <tr>\n",
       "      <th>0</th>\n",
       "      <td>2013</td>\n",
       "      <td>1</td>\n",
       "      <td>0</td>\n",
       "      <td>32</td>\n",
       "      <td>0</td>\n",
       "      <td>6.0</td>\n",
       "      <td>221.0</td>\n",
       "    </tr>\n",
       "    <tr>\n",
       "      <th>1</th>\n",
       "      <td>2013</td>\n",
       "      <td>1</td>\n",
       "      <td>0</td>\n",
       "      <td>33</td>\n",
       "      <td>0</td>\n",
       "      <td>3.0</td>\n",
       "      <td>347.0</td>\n",
       "    </tr>\n",
       "    <tr>\n",
       "      <th>2</th>\n",
       "      <td>2013</td>\n",
       "      <td>1</td>\n",
       "      <td>0</td>\n",
       "      <td>35</td>\n",
       "      <td>0</td>\n",
       "      <td>1.0</td>\n",
       "      <td>247.0</td>\n",
       "    </tr>\n",
       "    <tr>\n",
       "      <th>3</th>\n",
       "      <td>2013</td>\n",
       "      <td>1</td>\n",
       "      <td>0</td>\n",
       "      <td>43</td>\n",
       "      <td>0</td>\n",
       "      <td>1.0</td>\n",
       "      <td>221.0</td>\n",
       "    </tr>\n",
       "    <tr>\n",
       "      <th>4</th>\n",
       "      <td>2013</td>\n",
       "      <td>1</td>\n",
       "      <td>0</td>\n",
       "      <td>51</td>\n",
       "      <td>0</td>\n",
       "      <td>2.0</td>\n",
       "      <td>128.5</td>\n",
       "    </tr>\n",
       "    <tr>\n",
       "      <th>...</th>\n",
       "      <td>...</td>\n",
       "      <td>...</td>\n",
       "      <td>...</td>\n",
       "      <td>...</td>\n",
       "      <td>...</td>\n",
       "      <td>...</td>\n",
       "      <td>...</td>\n",
       "    </tr>\n",
       "    <tr>\n",
       "      <th>1608219</th>\n",
       "      <td>2015</td>\n",
       "      <td>10</td>\n",
       "      <td>59</td>\n",
       "      <td>22087</td>\n",
       "      <td>33</td>\n",
       "      <td>6.0</td>\n",
       "      <td>119.0</td>\n",
       "    </tr>\n",
       "    <tr>\n",
       "      <th>1608220</th>\n",
       "      <td>2015</td>\n",
       "      <td>10</td>\n",
       "      <td>59</td>\n",
       "      <td>22088</td>\n",
       "      <td>33</td>\n",
       "      <td>2.0</td>\n",
       "      <td>119.0</td>\n",
       "    </tr>\n",
       "    <tr>\n",
       "      <th>1608221</th>\n",
       "      <td>2015</td>\n",
       "      <td>10</td>\n",
       "      <td>59</td>\n",
       "      <td>22091</td>\n",
       "      <td>33</td>\n",
       "      <td>1.0</td>\n",
       "      <td>179.0</td>\n",
       "    </tr>\n",
       "    <tr>\n",
       "      <th>1608222</th>\n",
       "      <td>2015</td>\n",
       "      <td>10</td>\n",
       "      <td>59</td>\n",
       "      <td>22100</td>\n",
       "      <td>33</td>\n",
       "      <td>1.0</td>\n",
       "      <td>629.0</td>\n",
       "    </tr>\n",
       "    <tr>\n",
       "      <th>1608223</th>\n",
       "      <td>2015</td>\n",
       "      <td>10</td>\n",
       "      <td>59</td>\n",
       "      <td>22102</td>\n",
       "      <td>33</td>\n",
       "      <td>1.0</td>\n",
       "      <td>1250.0</td>\n",
       "    </tr>\n",
       "  </tbody>\n",
       "</table>\n",
       "<p>1608224 rows × 7 columns</p>\n",
       "</div>"
      ],
      "text/plain": [
       "         year  month  shop_id  item_id  date_block_num  item_cnt_day  \\\n",
       "0        2013      1        0       32               0           6.0   \n",
       "1        2013      1        0       33               0           3.0   \n",
       "2        2013      1        0       35               0           1.0   \n",
       "3        2013      1        0       43               0           1.0   \n",
       "4        2013      1        0       51               0           2.0   \n",
       "...       ...    ...      ...      ...             ...           ...   \n",
       "1608219  2015     10       59    22087              33           6.0   \n",
       "1608220  2015     10       59    22088              33           2.0   \n",
       "1608221  2015     10       59    22091              33           1.0   \n",
       "1608222  2015     10       59    22100              33           1.0   \n",
       "1608223  2015     10       59    22102              33           1.0   \n",
       "\n",
       "         item_price  \n",
       "0             221.0  \n",
       "1             347.0  \n",
       "2             247.0  \n",
       "3             221.0  \n",
       "4             128.5  \n",
       "...             ...  \n",
       "1608219       119.0  \n",
       "1608220       119.0  \n",
       "1608221       179.0  \n",
       "1608222       629.0  \n",
       "1608223      1250.0  \n",
       "\n",
       "[1608224 rows x 7 columns]"
      ]
     },
     "execution_count": 57,
     "metadata": {},
     "output_type": "execute_result"
    }
   ],
   "source": [
    "train"
   ]
  },
  {
   "cell_type": "code",
   "execution_count": 58,
   "metadata": {},
   "outputs": [],
   "source": [
    "train.rename(columns={'item_cnt_day': 'item_cnt_month',\n",
    "                      'item_price': 'median_monthly_price'}, inplace=True)"
   ]
  },
  {
   "cell_type": "code",
   "execution_count": 59,
   "metadata": {},
   "outputs": [
    {
     "name": "stdout",
     "output_type": "stream",
     "text": [
      "<class 'pandas.core.frame.DataFrame'>\n",
      "RangeIndex: 1608224 entries, 0 to 1608223\n",
      "Data columns (total 7 columns):\n",
      " #   Column                Non-Null Count    Dtype  \n",
      "---  ------                --------------    -----  \n",
      " 0   year                  1608224 non-null  int64  \n",
      " 1   month                 1608224 non-null  int64  \n",
      " 2   shop_id               1608224 non-null  int64  \n",
      " 3   item_id               1608224 non-null  int64  \n",
      " 4   date_block_num        1608224 non-null  int64  \n",
      " 5   item_cnt_month        1608224 non-null  float64\n",
      " 6   median_monthly_price  1608224 non-null  float64\n",
      "dtypes: float64(2), int64(5)\n",
      "memory usage: 85.9 MB\n"
     ]
    }
   ],
   "source": [
    "train.info()"
   ]
  },
  {
   "cell_type": "code",
   "execution_count": 60,
   "metadata": {},
   "outputs": [
    {
     "data": {
      "text/html": [
       "<div>\n",
       "<style scoped>\n",
       "    .dataframe tbody tr th:only-of-type {\n",
       "        vertical-align: middle;\n",
       "    }\n",
       "\n",
       "    .dataframe tbody tr th {\n",
       "        vertical-align: top;\n",
       "    }\n",
       "\n",
       "    .dataframe thead th {\n",
       "        text-align: right;\n",
       "    }\n",
       "</style>\n",
       "<table border=\"1\" class=\"dataframe\">\n",
       "  <thead>\n",
       "    <tr style=\"text-align: right;\">\n",
       "      <th></th>\n",
       "      <th>year</th>\n",
       "      <th>month</th>\n",
       "      <th>shop_id</th>\n",
       "      <th>item_id</th>\n",
       "      <th>date_block_num</th>\n",
       "      <th>item_cnt_month</th>\n",
       "      <th>median_monthly_price</th>\n",
       "    </tr>\n",
       "  </thead>\n",
       "  <tbody>\n",
       "    <tr>\n",
       "      <th>0</th>\n",
       "      <td>2013</td>\n",
       "      <td>1</td>\n",
       "      <td>0</td>\n",
       "      <td>32</td>\n",
       "      <td>0</td>\n",
       "      <td>6.0</td>\n",
       "      <td>221.0</td>\n",
       "    </tr>\n",
       "    <tr>\n",
       "      <th>1</th>\n",
       "      <td>2013</td>\n",
       "      <td>1</td>\n",
       "      <td>0</td>\n",
       "      <td>33</td>\n",
       "      <td>0</td>\n",
       "      <td>3.0</td>\n",
       "      <td>347.0</td>\n",
       "    </tr>\n",
       "    <tr>\n",
       "      <th>2</th>\n",
       "      <td>2013</td>\n",
       "      <td>1</td>\n",
       "      <td>0</td>\n",
       "      <td>35</td>\n",
       "      <td>0</td>\n",
       "      <td>1.0</td>\n",
       "      <td>247.0</td>\n",
       "    </tr>\n",
       "    <tr>\n",
       "      <th>3</th>\n",
       "      <td>2013</td>\n",
       "      <td>1</td>\n",
       "      <td>0</td>\n",
       "      <td>43</td>\n",
       "      <td>0</td>\n",
       "      <td>1.0</td>\n",
       "      <td>221.0</td>\n",
       "    </tr>\n",
       "    <tr>\n",
       "      <th>4</th>\n",
       "      <td>2013</td>\n",
       "      <td>1</td>\n",
       "      <td>0</td>\n",
       "      <td>51</td>\n",
       "      <td>0</td>\n",
       "      <td>2.0</td>\n",
       "      <td>128.5</td>\n",
       "    </tr>\n",
       "  </tbody>\n",
       "</table>\n",
       "</div>"
      ],
      "text/plain": [
       "   year  month  shop_id  item_id  date_block_num  item_cnt_month  \\\n",
       "0  2013      1        0       32               0             6.0   \n",
       "1  2013      1        0       33               0             3.0   \n",
       "2  2013      1        0       35               0             1.0   \n",
       "3  2013      1        0       43               0             1.0   \n",
       "4  2013      1        0       51               0             2.0   \n",
       "\n",
       "   median_monthly_price  \n",
       "0                 221.0  \n",
       "1                 347.0  \n",
       "2                 247.0  \n",
       "3                 221.0  \n",
       "4                 128.5  "
      ]
     },
     "execution_count": 60,
     "metadata": {},
     "output_type": "execute_result"
    }
   ],
   "source": [
    "train.head()"
   ]
  },
  {
   "cell_type": "markdown",
   "metadata": {},
   "source": [
    "## Look at shops tables - Correct errors"
   ]
  },
  {
   "cell_type": "markdown",
   "metadata": {},
   "source": [
    "### Renumber shop_id  - 0 to 57, 1 to 58, 11 to 10, duplicates"
   ]
  },
  {
   "cell_type": "code",
   "execution_count": 61,
   "metadata": {},
   "outputs": [],
   "source": [
    "train.loc[train.shop_id==0, 'shop_id'] = 57\n",
    "train.loc[train.shop_id==1, 'shop_id'] = 58\n",
    "train.loc[train.shop_id==11, 'shop_id'] = 10"
   ]
  },
  {
   "cell_type": "markdown",
   "metadata": {},
   "source": [
    "### Drop shop ids 8, 9, 20, 23, 32, 33, 40 - very less data and not in test set"
   ]
  },
  {
   "cell_type": "code",
   "execution_count": 62,
   "metadata": {},
   "outputs": [],
   "source": [
    "ids_to_drop = [8, 9, 20, 23, 32, 33, 40]\n",
    "mask = train.shop_id.isin(ids_to_drop)\n",
    "train.drop(np.where(mask)[0], inplace=True)"
   ]
  },
  {
   "cell_type": "code",
   "execution_count": 63,
   "metadata": {},
   "outputs": [
    {
     "data": {
      "text/plain": [
       "50"
      ]
     },
     "execution_count": 63,
     "metadata": {},
     "output_type": "execute_result"
    }
   ],
   "source": [
    "train.shop_id.nunique()"
   ]
  },
  {
   "cell_type": "markdown",
   "metadata": {},
   "source": [
    "## Create df with all item ids & shop_ids for every date_block_num"
   ]
  },
  {
   "cell_type": "markdown",
   "metadata": {},
   "source": [
    "## Merge Train with this df "
   ]
  },
  {
   "cell_type": "code",
   "execution_count": 85,
   "metadata": {},
   "outputs": [],
   "source": [
    "train_items_id = train.item_id.unique()\n",
    "shop_id = train.shop_id.unique()\n",
    "test_items_ids = test.item_id.unique()"
   ]
  },
  {
   "cell_type": "code",
   "execution_count": 86,
   "metadata": {},
   "outputs": [],
   "source": [
    "items_id = np.unique(np.concatenate((train_items_id, test_items_ids)))"
   ]
  },
  {
   "cell_type": "code",
   "execution_count": 87,
   "metadata": {},
   "outputs": [],
   "source": [
    "s = []\n",
    "i = []\n",
    "for shop in shop_id:\n",
    "        s = [*s, *(np.ones(len(items_id))*shop)]\n",
    "        i = [*i, *(np.ones(1)*items_id)]\n",
    "s = np.array(s).astype(np.int8)\n",
    "i = np.array(i).astype(np.int16)"
   ]
  },
  {
   "cell_type": "code",
   "execution_count": 88,
   "metadata": {},
   "outputs": [],
   "source": [
    "date_block_nums = range(35)\n",
    "x = []\n",
    "for date_block in date_block_nums:\n",
    "    temp = pd.DataFrame({'shop_id': s, 'item_id': i})\n",
    "    temp['date_block_num'] = date_block\n",
    "    temp['month'] =  1 + date_block%12\n",
    "    temp['year'] = 2013 + date_block//12\n",
    "    x.append(temp)\n",
    "df = pd.concat(x, ignore_index=True)"
   ]
  },
  {
   "cell_type": "code",
   "execution_count": 89,
   "metadata": {},
   "outputs": [
    {
     "name": "stdout",
     "output_type": "stream",
     "text": [
      "<class 'pandas.core.frame.DataFrame'>\n",
      "RangeIndex: 38423000 entries, 0 to 38422999\n",
      "Data columns (total 5 columns):\n",
      " #   Column          Dtype\n",
      "---  ------          -----\n",
      " 0   shop_id         int8 \n",
      " 1   item_id         int16\n",
      " 2   date_block_num  int64\n",
      " 3   month           int64\n",
      " 4   year            int64\n",
      "dtypes: int16(1), int64(3), int8(1)\n",
      "memory usage: 989.4 MB\n"
     ]
    }
   ],
   "source": [
    "df.info()"
   ]
  },
  {
   "cell_type": "markdown",
   "metadata": {},
   "source": [
    "### Merge df with Train"
   ]
  },
  {
   "cell_type": "code",
   "execution_count": 90,
   "metadata": {},
   "outputs": [],
   "source": [
    "train = df.merge(train, 'outer', on=['year', 'date_block_num', 'month', 'shop_id', 'item_id'])"
   ]
  },
  {
   "cell_type": "code",
   "execution_count": 91,
   "metadata": {
    "scrolled": true
   },
   "outputs": [
    {
     "data": {
      "text/html": [
       "<div>\n",
       "<style scoped>\n",
       "    .dataframe tbody tr th:only-of-type {\n",
       "        vertical-align: middle;\n",
       "    }\n",
       "\n",
       "    .dataframe tbody tr th {\n",
       "        vertical-align: top;\n",
       "    }\n",
       "\n",
       "    .dataframe thead th {\n",
       "        text-align: right;\n",
       "    }\n",
       "</style>\n",
       "<table border=\"1\" class=\"dataframe\">\n",
       "  <thead>\n",
       "    <tr style=\"text-align: right;\">\n",
       "      <th></th>\n",
       "      <th>shop_id</th>\n",
       "      <th>item_id</th>\n",
       "      <th>date_block_num</th>\n",
       "      <th>month</th>\n",
       "      <th>year</th>\n",
       "      <th>item_cnt_month</th>\n",
       "      <th>median_monthly_price</th>\n",
       "    </tr>\n",
       "  </thead>\n",
       "  <tbody>\n",
       "    <tr>\n",
       "      <th>0</th>\n",
       "      <td>57</td>\n",
       "      <td>0</td>\n",
       "      <td>0</td>\n",
       "      <td>1</td>\n",
       "      <td>2013</td>\n",
       "      <td>NaN</td>\n",
       "      <td>NaN</td>\n",
       "    </tr>\n",
       "    <tr>\n",
       "      <th>1</th>\n",
       "      <td>57</td>\n",
       "      <td>1</td>\n",
       "      <td>0</td>\n",
       "      <td>1</td>\n",
       "      <td>2013</td>\n",
       "      <td>NaN</td>\n",
       "      <td>NaN</td>\n",
       "    </tr>\n",
       "    <tr>\n",
       "      <th>2</th>\n",
       "      <td>57</td>\n",
       "      <td>2</td>\n",
       "      <td>0</td>\n",
       "      <td>1</td>\n",
       "      <td>2013</td>\n",
       "      <td>NaN</td>\n",
       "      <td>NaN</td>\n",
       "    </tr>\n",
       "    <tr>\n",
       "      <th>3</th>\n",
       "      <td>57</td>\n",
       "      <td>3</td>\n",
       "      <td>0</td>\n",
       "      <td>1</td>\n",
       "      <td>2013</td>\n",
       "      <td>NaN</td>\n",
       "      <td>NaN</td>\n",
       "    </tr>\n",
       "    <tr>\n",
       "      <th>4</th>\n",
       "      <td>57</td>\n",
       "      <td>4</td>\n",
       "      <td>0</td>\n",
       "      <td>1</td>\n",
       "      <td>2013</td>\n",
       "      <td>NaN</td>\n",
       "      <td>NaN</td>\n",
       "    </tr>\n",
       "    <tr>\n",
       "      <th>...</th>\n",
       "      <td>...</td>\n",
       "      <td>...</td>\n",
       "      <td>...</td>\n",
       "      <td>...</td>\n",
       "      <td>...</td>\n",
       "      <td>...</td>\n",
       "      <td>...</td>\n",
       "    </tr>\n",
       "    <tr>\n",
       "      <th>38422995</th>\n",
       "      <td>36</td>\n",
       "      <td>22165</td>\n",
       "      <td>34</td>\n",
       "      <td>11</td>\n",
       "      <td>2015</td>\n",
       "      <td>NaN</td>\n",
       "      <td>NaN</td>\n",
       "    </tr>\n",
       "    <tr>\n",
       "      <th>38422996</th>\n",
       "      <td>36</td>\n",
       "      <td>22166</td>\n",
       "      <td>34</td>\n",
       "      <td>11</td>\n",
       "      <td>2015</td>\n",
       "      <td>NaN</td>\n",
       "      <td>NaN</td>\n",
       "    </tr>\n",
       "    <tr>\n",
       "      <th>38422997</th>\n",
       "      <td>36</td>\n",
       "      <td>22167</td>\n",
       "      <td>34</td>\n",
       "      <td>11</td>\n",
       "      <td>2015</td>\n",
       "      <td>NaN</td>\n",
       "      <td>NaN</td>\n",
       "    </tr>\n",
       "    <tr>\n",
       "      <th>38422998</th>\n",
       "      <td>36</td>\n",
       "      <td>22168</td>\n",
       "      <td>34</td>\n",
       "      <td>11</td>\n",
       "      <td>2015</td>\n",
       "      <td>NaN</td>\n",
       "      <td>NaN</td>\n",
       "    </tr>\n",
       "    <tr>\n",
       "      <th>38422999</th>\n",
       "      <td>36</td>\n",
       "      <td>22169</td>\n",
       "      <td>34</td>\n",
       "      <td>11</td>\n",
       "      <td>2015</td>\n",
       "      <td>NaN</td>\n",
       "      <td>NaN</td>\n",
       "    </tr>\n",
       "  </tbody>\n",
       "</table>\n",
       "<p>38423000 rows × 7 columns</p>\n",
       "</div>"
      ],
      "text/plain": [
       "          shop_id  item_id  date_block_num  month  year  item_cnt_month  \\\n",
       "0              57        0               0      1  2013             NaN   \n",
       "1              57        1               0      1  2013             NaN   \n",
       "2              57        2               0      1  2013             NaN   \n",
       "3              57        3               0      1  2013             NaN   \n",
       "4              57        4               0      1  2013             NaN   \n",
       "...           ...      ...             ...    ...   ...             ...   \n",
       "38422995       36    22165              34     11  2015             NaN   \n",
       "38422996       36    22166              34     11  2015             NaN   \n",
       "38422997       36    22167              34     11  2015             NaN   \n",
       "38422998       36    22168              34     11  2015             NaN   \n",
       "38422999       36    22169              34     11  2015             NaN   \n",
       "\n",
       "          median_monthly_price  \n",
       "0                          NaN  \n",
       "1                          NaN  \n",
       "2                          NaN  \n",
       "3                          NaN  \n",
       "4                          NaN  \n",
       "...                        ...  \n",
       "38422995                   NaN  \n",
       "38422996                   NaN  \n",
       "38422997                   NaN  \n",
       "38422998                   NaN  \n",
       "38422999                   NaN  \n",
       "\n",
       "[38423000 rows x 7 columns]"
      ]
     },
     "execution_count": 91,
     "metadata": {},
     "output_type": "execute_result"
    }
   ],
   "source": [
    "train"
   ]
  },
  {
   "cell_type": "markdown",
   "metadata": {},
   "source": [
    "### Explore Item category and items"
   ]
  },
  {
   "cell_type": "code",
   "execution_count": 92,
   "metadata": {},
   "outputs": [],
   "source": [
    "item_cat_dict = dict(zip(items.item_id, items.item_category_id))"
   ]
  },
  {
   "cell_type": "code",
   "execution_count": 93,
   "metadata": {},
   "outputs": [],
   "source": [
    "train['item_cat'] = train.loc[:, 'item_id'].apply(lambda x: item_cat_dict[x])"
   ]
  },
  {
   "cell_type": "code",
   "execution_count": 94,
   "metadata": {},
   "outputs": [
    {
     "data": {
      "text/html": [
       "<div>\n",
       "<style scoped>\n",
       "    .dataframe tbody tr th:only-of-type {\n",
       "        vertical-align: middle;\n",
       "    }\n",
       "\n",
       "    .dataframe tbody tr th {\n",
       "        vertical-align: top;\n",
       "    }\n",
       "\n",
       "    .dataframe thead th {\n",
       "        text-align: right;\n",
       "    }\n",
       "</style>\n",
       "<table border=\"1\" class=\"dataframe\">\n",
       "  <thead>\n",
       "    <tr style=\"text-align: right;\">\n",
       "      <th></th>\n",
       "      <th>shop_id</th>\n",
       "      <th>item_id</th>\n",
       "      <th>date_block_num</th>\n",
       "      <th>month</th>\n",
       "      <th>year</th>\n",
       "      <th>item_cnt_month</th>\n",
       "      <th>median_monthly_price</th>\n",
       "      <th>item_cat</th>\n",
       "    </tr>\n",
       "  </thead>\n",
       "  <tbody>\n",
       "    <tr>\n",
       "      <th>0</th>\n",
       "      <td>57</td>\n",
       "      <td>0</td>\n",
       "      <td>0</td>\n",
       "      <td>1</td>\n",
       "      <td>2013</td>\n",
       "      <td>NaN</td>\n",
       "      <td>NaN</td>\n",
       "      <td>40</td>\n",
       "    </tr>\n",
       "    <tr>\n",
       "      <th>1</th>\n",
       "      <td>57</td>\n",
       "      <td>1</td>\n",
       "      <td>0</td>\n",
       "      <td>1</td>\n",
       "      <td>2013</td>\n",
       "      <td>NaN</td>\n",
       "      <td>NaN</td>\n",
       "      <td>76</td>\n",
       "    </tr>\n",
       "    <tr>\n",
       "      <th>2</th>\n",
       "      <td>57</td>\n",
       "      <td>2</td>\n",
       "      <td>0</td>\n",
       "      <td>1</td>\n",
       "      <td>2013</td>\n",
       "      <td>NaN</td>\n",
       "      <td>NaN</td>\n",
       "      <td>40</td>\n",
       "    </tr>\n",
       "    <tr>\n",
       "      <th>3</th>\n",
       "      <td>57</td>\n",
       "      <td>3</td>\n",
       "      <td>0</td>\n",
       "      <td>1</td>\n",
       "      <td>2013</td>\n",
       "      <td>NaN</td>\n",
       "      <td>NaN</td>\n",
       "      <td>40</td>\n",
       "    </tr>\n",
       "    <tr>\n",
       "      <th>4</th>\n",
       "      <td>57</td>\n",
       "      <td>4</td>\n",
       "      <td>0</td>\n",
       "      <td>1</td>\n",
       "      <td>2013</td>\n",
       "      <td>NaN</td>\n",
       "      <td>NaN</td>\n",
       "      <td>40</td>\n",
       "    </tr>\n",
       "    <tr>\n",
       "      <th>...</th>\n",
       "      <td>...</td>\n",
       "      <td>...</td>\n",
       "      <td>...</td>\n",
       "      <td>...</td>\n",
       "      <td>...</td>\n",
       "      <td>...</td>\n",
       "      <td>...</td>\n",
       "      <td>...</td>\n",
       "    </tr>\n",
       "    <tr>\n",
       "      <th>38422995</th>\n",
       "      <td>36</td>\n",
       "      <td>22165</td>\n",
       "      <td>34</td>\n",
       "      <td>11</td>\n",
       "      <td>2015</td>\n",
       "      <td>NaN</td>\n",
       "      <td>NaN</td>\n",
       "      <td>31</td>\n",
       "    </tr>\n",
       "    <tr>\n",
       "      <th>38422996</th>\n",
       "      <td>36</td>\n",
       "      <td>22166</td>\n",
       "      <td>34</td>\n",
       "      <td>11</td>\n",
       "      <td>2015</td>\n",
       "      <td>NaN</td>\n",
       "      <td>NaN</td>\n",
       "      <td>54</td>\n",
       "    </tr>\n",
       "    <tr>\n",
       "      <th>38422997</th>\n",
       "      <td>36</td>\n",
       "      <td>22167</td>\n",
       "      <td>34</td>\n",
       "      <td>11</td>\n",
       "      <td>2015</td>\n",
       "      <td>NaN</td>\n",
       "      <td>NaN</td>\n",
       "      <td>49</td>\n",
       "    </tr>\n",
       "    <tr>\n",
       "      <th>38422998</th>\n",
       "      <td>36</td>\n",
       "      <td>22168</td>\n",
       "      <td>34</td>\n",
       "      <td>11</td>\n",
       "      <td>2015</td>\n",
       "      <td>NaN</td>\n",
       "      <td>NaN</td>\n",
       "      <td>62</td>\n",
       "    </tr>\n",
       "    <tr>\n",
       "      <th>38422999</th>\n",
       "      <td>36</td>\n",
       "      <td>22169</td>\n",
       "      <td>34</td>\n",
       "      <td>11</td>\n",
       "      <td>2015</td>\n",
       "      <td>NaN</td>\n",
       "      <td>NaN</td>\n",
       "      <td>69</td>\n",
       "    </tr>\n",
       "  </tbody>\n",
       "</table>\n",
       "<p>38423000 rows × 8 columns</p>\n",
       "</div>"
      ],
      "text/plain": [
       "          shop_id  item_id  date_block_num  month  year  item_cnt_month  \\\n",
       "0              57        0               0      1  2013             NaN   \n",
       "1              57        1               0      1  2013             NaN   \n",
       "2              57        2               0      1  2013             NaN   \n",
       "3              57        3               0      1  2013             NaN   \n",
       "4              57        4               0      1  2013             NaN   \n",
       "...           ...      ...             ...    ...   ...             ...   \n",
       "38422995       36    22165              34     11  2015             NaN   \n",
       "38422996       36    22166              34     11  2015             NaN   \n",
       "38422997       36    22167              34     11  2015             NaN   \n",
       "38422998       36    22168              34     11  2015             NaN   \n",
       "38422999       36    22169              34     11  2015             NaN   \n",
       "\n",
       "          median_monthly_price  item_cat  \n",
       "0                          NaN        40  \n",
       "1                          NaN        76  \n",
       "2                          NaN        40  \n",
       "3                          NaN        40  \n",
       "4                          NaN        40  \n",
       "...                        ...       ...  \n",
       "38422995                   NaN        31  \n",
       "38422996                   NaN        54  \n",
       "38422997                   NaN        49  \n",
       "38422998                   NaN        62  \n",
       "38422999                   NaN        69  \n",
       "\n",
       "[38423000 rows x 8 columns]"
      ]
     },
     "execution_count": 94,
     "metadata": {},
     "output_type": "execute_result"
    }
   ],
   "source": [
    "train"
   ]
  },
  {
   "cell_type": "code",
   "execution_count": 95,
   "metadata": {},
   "outputs": [],
   "source": [
    "train.fillna(0, inplace=True)"
   ]
  },
  {
   "cell_type": "code",
   "execution_count": 96,
   "metadata": {
    "scrolled": true
   },
   "outputs": [
    {
     "name": "stdout",
     "output_type": "stream",
     "text": [
      "<class 'pandas.core.frame.DataFrame'>\n",
      "Int64Index: 38423000 entries, 0 to 38422999\n",
      "Data columns (total 8 columns):\n",
      " #   Column                Dtype  \n",
      "---  ------                -----  \n",
      " 0   shop_id               int8   \n",
      " 1   item_id               int16  \n",
      " 2   date_block_num        int64  \n",
      " 3   month                 int64  \n",
      " 4   year                  int64  \n",
      " 5   item_cnt_month        float64\n",
      " 6   median_monthly_price  float64\n",
      " 7   item_cat              int64  \n",
      "dtypes: float64(2), int16(1), int64(4), int8(1)\n",
      "memory usage: 2.1 GB\n"
     ]
    }
   ],
   "source": [
    "train.info()"
   ]
  },
  {
   "cell_type": "markdown",
   "metadata": {},
   "source": [
    "### Change datatypes to occupy less memory"
   ]
  },
  {
   "cell_type": "markdown",
   "metadata": {},
   "source": [
    "### Drop year column it doesnt add much to the rfr "
   ]
  },
  {
   "cell_type": "code",
   "execution_count": 97,
   "metadata": {},
   "outputs": [],
   "source": [
    "train.drop(columns='year', inplace=True)"
   ]
  },
  {
   "cell_type": "code",
   "execution_count": 98,
   "metadata": {},
   "outputs": [],
   "source": [
    "attributes = ['month', 'date_block_num', 'item_cat']\n",
    "for a in attributes:\n",
    "    train[a] = train[a].astype(np.int8)"
   ]
  },
  {
   "cell_type": "code",
   "execution_count": 99,
   "metadata": {},
   "outputs": [
    {
     "name": "stdout",
     "output_type": "stream",
     "text": [
      "<class 'pandas.core.frame.DataFrame'>\n",
      "Int64Index: 38423000 entries, 0 to 38422999\n",
      "Data columns (total 7 columns):\n",
      " #   Column                Dtype  \n",
      "---  ------                -----  \n",
      " 0   shop_id               int8   \n",
      " 1   item_id               int16  \n",
      " 2   date_block_num        int8   \n",
      " 3   month                 int8   \n",
      " 4   item_cnt_month        float64\n",
      " 5   median_monthly_price  float64\n",
      " 6   item_cat              int8   \n",
      "dtypes: float64(2), int16(1), int8(4)\n",
      "memory usage: 1.1 GB\n"
     ]
    }
   ],
   "source": [
    "train.info()"
   ]
  },
  {
   "cell_type": "code",
   "execution_count": 100,
   "metadata": {},
   "outputs": [],
   "source": [
    "train.sort_values(by=['shop_id', 'item_id', 'date_block_num'], inplace=True, ignore_index=True)"
   ]
  },
  {
   "cell_type": "code",
   "execution_count": 101,
   "metadata": {},
   "outputs": [
    {
     "name": "stdout",
     "output_type": "stream",
     "text": [
      "<class 'pandas.core.frame.DataFrame'>\n",
      "RangeIndex: 38423000 entries, 0 to 38422999\n",
      "Data columns (total 7 columns):\n",
      " #   Column                Dtype  \n",
      "---  ------                -----  \n",
      " 0   shop_id               int8   \n",
      " 1   item_id               int16  \n",
      " 2   date_block_num        int8   \n",
      " 3   month                 int8   \n",
      " 4   item_cnt_month        float64\n",
      " 5   median_monthly_price  float64\n",
      " 6   item_cat              int8   \n",
      "dtypes: float64(2), int16(1), int8(4)\n",
      "memory usage: 806.1 MB\n"
     ]
    }
   ],
   "source": [
    "train.info()"
   ]
  },
  {
   "cell_type": "markdown",
   "metadata": {},
   "source": [
    "## Adding Lagging Values"
   ]
  },
  {
   "cell_type": "code",
   "execution_count": 102,
   "metadata": {},
   "outputs": [],
   "source": [
    "for i in range(3):\n",
    "    train[f'item_cnt_minus_{i+1}'] = train.groupby(['shop_id', 'item_id']).item_cnt_month.shift(i+1)"
   ]
  },
  {
   "cell_type": "code",
   "execution_count": 103,
   "metadata": {},
   "outputs": [
    {
     "name": "stdout",
     "output_type": "stream",
     "text": [
      "<class 'pandas.core.frame.DataFrame'>\n",
      "RangeIndex: 38423000 entries, 0 to 38422999\n",
      "Data columns (total 10 columns):\n",
      " #   Column                Dtype  \n",
      "---  ------                -----  \n",
      " 0   shop_id               int8   \n",
      " 1   item_id               int16  \n",
      " 2   date_block_num        int8   \n",
      " 3   month                 int8   \n",
      " 4   item_cnt_month        float64\n",
      " 5   median_monthly_price  float64\n",
      " 6   item_cat              int8   \n",
      " 7   item_cnt_minus_1      float64\n",
      " 8   item_cnt_minus_2      float64\n",
      " 9   item_cnt_minus_3      float64\n",
      "dtypes: float64(5), int16(1), int8(4)\n",
      "memory usage: 1.6 GB\n"
     ]
    }
   ],
   "source": [
    "train.info()"
   ]
  },
  {
   "cell_type": "code",
   "execution_count": 104,
   "metadata": {},
   "outputs": [],
   "source": [
    "for i in range(3):\n",
    "    train[f'mnth_med_price_minus_{i+1}'] = train.groupby(['shop_id', 'item_id']).median_monthly_price.shift(i+1)"
   ]
  },
  {
   "cell_type": "code",
   "execution_count": 105,
   "metadata": {},
   "outputs": [
    {
     "name": "stdout",
     "output_type": "stream",
     "text": [
      "<class 'pandas.core.frame.DataFrame'>\n",
      "RangeIndex: 38423000 entries, 0 to 38422999\n",
      "Data columns (total 13 columns):\n",
      " #   Column                  Dtype  \n",
      "---  ------                  -----  \n",
      " 0   shop_id                 int8   \n",
      " 1   item_id                 int16  \n",
      " 2   date_block_num          int8   \n",
      " 3   month                   int8   \n",
      " 4   item_cnt_month          float64\n",
      " 5   median_monthly_price    float64\n",
      " 6   item_cat                int8   \n",
      " 7   item_cnt_minus_1        float64\n",
      " 8   item_cnt_minus_2        float64\n",
      " 9   item_cnt_minus_3        float64\n",
      " 10  mnth_med_price_minus_1  float64\n",
      " 11  mnth_med_price_minus_2  float64\n",
      " 12  mnth_med_price_minus_3  float64\n",
      "dtypes: float64(8), int16(1), int8(4)\n",
      "memory usage: 2.5 GB\n"
     ]
    }
   ],
   "source": [
    "train.info()"
   ]
  },
  {
   "cell_type": "markdown",
   "metadata": {},
   "source": [
    "## Drop Monthly median price column since it will not be available on test"
   ]
  },
  {
   "cell_type": "code",
   "execution_count": 106,
   "metadata": {},
   "outputs": [],
   "source": [
    "train.drop(columns='median_monthly_price', inplace=True)"
   ]
  },
  {
   "cell_type": "markdown",
   "metadata": {},
   "source": [
    "## Remove dateblocknums 0, 1 & 2 as they have nan values"
   ]
  },
  {
   "cell_type": "code",
   "execution_count": 107,
   "metadata": {},
   "outputs": [],
   "source": [
    "mask = train.date_block_num.isin([0,1,2])"
   ]
  },
  {
   "cell_type": "code",
   "execution_count": 108,
   "metadata": {},
   "outputs": [],
   "source": [
    "train = train.loc[~mask]"
   ]
  },
  {
   "cell_type": "code",
   "execution_count": 109,
   "metadata": {},
   "outputs": [
    {
     "name": "stdout",
     "output_type": "stream",
     "text": [
      "<class 'pandas.core.frame.DataFrame'>\n",
      "Int64Index: 35129600 entries, 3 to 38422999\n",
      "Data columns (total 12 columns):\n",
      " #   Column                  Dtype  \n",
      "---  ------                  -----  \n",
      " 0   shop_id                 int8   \n",
      " 1   item_id                 int16  \n",
      " 2   date_block_num          int8   \n",
      " 3   month                   int8   \n",
      " 4   item_cnt_month          float64\n",
      " 5   item_cat                int8   \n",
      " 6   item_cnt_minus_1        float64\n",
      " 7   item_cnt_minus_2        float64\n",
      " 8   item_cnt_minus_3        float64\n",
      " 9   mnth_med_price_minus_1  float64\n",
      " 10  mnth_med_price_minus_2  float64\n",
      " 11  mnth_med_price_minus_3  float64\n",
      "dtypes: float64(7), int16(1), int8(4)\n",
      "memory usage: 2.3 GB\n"
     ]
    }
   ],
   "source": [
    "train.info()"
   ]
  },
  {
   "cell_type": "code",
   "execution_count": 110,
   "metadata": {},
   "outputs": [
    {
     "data": {
      "text/plain": [
       "array([ 3,  4,  5,  6,  7,  8,  9, 10, 11, 12, 13, 14, 15, 16, 17, 18, 19,\n",
       "       20, 21, 22, 23, 24, 25, 26, 27, 28, 29, 30, 31, 32, 33, 34],\n",
       "      dtype=int8)"
      ]
     },
     "execution_count": 110,
     "metadata": {},
     "output_type": "execute_result"
    }
   ],
   "source": [
    "train.date_block_num.unique()"
   ]
  },
  {
   "cell_type": "code",
   "execution_count": 111,
   "metadata": {},
   "outputs": [
    {
     "name": "stderr",
     "output_type": "stream",
     "text": [
      "<ipython-input-111-d4d749185b44>:1: SettingWithCopyWarning: \n",
      "A value is trying to be set on a copy of a slice from a DataFrame.\n",
      "Try using .loc[row_indexer,col_indexer] = value instead\n",
      "\n",
      "See the caveats in the documentation: https://pandas.pydata.org/pandas-docs/stable/user_guide/indexing.html#returning-a-view-versus-a-copy\n",
      "  train['item_cnt_mean'] = train.loc[:,['item_cnt_minus_1', 'item_cnt_minus_2', 'item_cnt_minus_3']].mean(axis=1)\n"
     ]
    }
   ],
   "source": [
    "train['item_cnt_mean'] = train.loc[:,['item_cnt_minus_1', 'item_cnt_minus_2', 'item_cnt_minus_3']].mean(axis=1)"
   ]
  },
  {
   "cell_type": "code",
   "execution_count": 112,
   "metadata": {},
   "outputs": [
    {
     "name": "stderr",
     "output_type": "stream",
     "text": [
      "<ipython-input-112-2f155ceb16b8>:1: SettingWithCopyWarning: \n",
      "A value is trying to be set on a copy of a slice from a DataFrame.\n",
      "Try using .loc[row_indexer,col_indexer] = value instead\n",
      "\n",
      "See the caveats in the documentation: https://pandas.pydata.org/pandas-docs/stable/user_guide/indexing.html#returning-a-view-versus-a-copy\n",
      "  train['mnth_med_price_mean'] = train.loc[:,['mnth_med_price_minus_1', 'mnth_med_price_minus_2', 'mnth_med_price_minus_3']].mean(axis=1)\n"
     ]
    }
   ],
   "source": [
    "train['mnth_med_price_mean'] = train.loc[:,['mnth_med_price_minus_1', 'mnth_med_price_minus_2', 'mnth_med_price_minus_3']].mean(axis=1)"
   ]
  },
  {
   "cell_type": "code",
   "execution_count": 113,
   "metadata": {},
   "outputs": [
    {
     "name": "stdout",
     "output_type": "stream",
     "text": [
      "<class 'pandas.core.frame.DataFrame'>\n",
      "Int64Index: 35129600 entries, 3 to 38422999\n",
      "Data columns (total 14 columns):\n",
      " #   Column                  Dtype  \n",
      "---  ------                  -----  \n",
      " 0   shop_id                 int8   \n",
      " 1   item_id                 int16  \n",
      " 2   date_block_num          int8   \n",
      " 3   month                   int8   \n",
      " 4   item_cnt_month          float64\n",
      " 5   item_cat                int8   \n",
      " 6   item_cnt_minus_1        float64\n",
      " 7   item_cnt_minus_2        float64\n",
      " 8   item_cnt_minus_3        float64\n",
      " 9   mnth_med_price_minus_1  float64\n",
      " 10  mnth_med_price_minus_2  float64\n",
      " 11  mnth_med_price_minus_3  float64\n",
      " 12  item_cnt_mean           float64\n",
      " 13  mnth_med_price_mean     float64\n",
      "dtypes: float64(9), int16(1), int8(4)\n",
      "memory usage: 2.8 GB\n"
     ]
    }
   ],
   "source": [
    "train.info()"
   ]
  },
  {
   "cell_type": "code",
   "execution_count": 114,
   "metadata": {},
   "outputs": [],
   "source": [
    "train.to_pickle('./input/train_2.pkl')"
   ]
  },
  {
   "cell_type": "code",
   "execution_count": null,
   "metadata": {},
   "outputs": [],
   "source": []
  }
 ],
 "metadata": {
  "kernelspec": {
   "display_name": "Python 3",
   "language": "python",
   "name": "python3"
  },
  "language_info": {
   "codemirror_mode": {
    "name": "ipython",
    "version": 3
   },
   "file_extension": ".py",
   "mimetype": "text/x-python",
   "name": "python",
   "nbconvert_exporter": "python",
   "pygments_lexer": "ipython3",
   "version": "3.8.3"
  }
 },
 "nbformat": 4,
 "nbformat_minor": 4
}
