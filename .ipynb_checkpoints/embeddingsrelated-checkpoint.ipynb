{
 "cells": [
  {
   "cell_type": "code",
   "execution_count": 76,
   "metadata": {},
   "outputs": [],
   "source": [
    "import pandas as pd\n",
    "import numpy as np"
   ]
  },
  {
   "cell_type": "code",
   "execution_count": 77,
   "metadata": {},
   "outputs": [],
   "source": [
    "train_master = pd.read_pickle('./input/train_2.pkl')"
   ]
  },
  {
   "cell_type": "code",
   "execution_count": 78,
   "metadata": {},
   "outputs": [
    {
     "name": "stdout",
     "output_type": "stream",
     "text": [
      "<class 'pandas.core.frame.DataFrame'>\n",
      "Int64Index: 39720532 entries, 3 to 43444251\n",
      "Data columns (total 14 columns):\n",
      " #   Column                  Dtype  \n",
      "---  ------                  -----  \n",
      " 0   shop_id                 int8   \n",
      " 1   item_id                 int16  \n",
      " 2   date_block_num          int8   \n",
      " 3   month                   int8   \n",
      " 4   item_cnt_month          float32\n",
      " 5   item_cat                int8   \n",
      " 6   item_cnt_minus_1        float32\n",
      " 7   item_cnt_minus_2        float32\n",
      " 8   item_cnt_minus_3        float32\n",
      " 9   mnth_med_price_minus_1  float32\n",
      " 10  mnth_med_price_minus_2  float32\n",
      " 11  mnth_med_price_minus_3  float32\n",
      " 12  item_cnt_mean           float32\n",
      " 13  mnth_med_price_mean     float32\n",
      "dtypes: float32(9), int16(1), int8(4)\n",
      "memory usage: 1.8 GB\n"
     ]
    }
   ],
   "source": [
    "train_master.info()"
   ]
  },
  {
   "cell_type": "code",
   "execution_count": 80,
   "metadata": {},
   "outputs": [
    {
     "data": {
      "text/html": [
       "<div>\n",
       "<style scoped>\n",
       "    .dataframe tbody tr th:only-of-type {\n",
       "        vertical-align: middle;\n",
       "    }\n",
       "\n",
       "    .dataframe tbody tr th {\n",
       "        vertical-align: top;\n",
       "    }\n",
       "\n",
       "    .dataframe thead th {\n",
       "        text-align: right;\n",
       "    }\n",
       "</style>\n",
       "<table border=\"1\" class=\"dataframe\">\n",
       "  <thead>\n",
       "    <tr style=\"text-align: right;\">\n",
       "      <th></th>\n",
       "      <th>shop_id</th>\n",
       "      <th>item_id</th>\n",
       "      <th>date_block_num</th>\n",
       "      <th>month</th>\n",
       "      <th>item_cnt_month</th>\n",
       "      <th>item_cat</th>\n",
       "      <th>item_cnt_minus_1</th>\n",
       "      <th>item_cnt_minus_2</th>\n",
       "      <th>item_cnt_minus_3</th>\n",
       "      <th>mnth_med_price_minus_1</th>\n",
       "      <th>mnth_med_price_minus_2</th>\n",
       "      <th>mnth_med_price_minus_3</th>\n",
       "      <th>item_cnt_mean</th>\n",
       "      <th>mnth_med_price_mean</th>\n",
       "    </tr>\n",
       "  </thead>\n",
       "  <tbody>\n",
       "    <tr>\n",
       "      <th>3</th>\n",
       "      <td>2</td>\n",
       "      <td>0</td>\n",
       "      <td>3</td>\n",
       "      <td>4</td>\n",
       "      <td>0.0</td>\n",
       "      <td>40</td>\n",
       "      <td>0.0</td>\n",
       "      <td>0.0</td>\n",
       "      <td>0.0</td>\n",
       "      <td>0.0</td>\n",
       "      <td>0.0</td>\n",
       "      <td>0.0</td>\n",
       "      <td>0.0</td>\n",
       "      <td>0.0</td>\n",
       "    </tr>\n",
       "    <tr>\n",
       "      <th>4</th>\n",
       "      <td>2</td>\n",
       "      <td>0</td>\n",
       "      <td>4</td>\n",
       "      <td>5</td>\n",
       "      <td>0.0</td>\n",
       "      <td>40</td>\n",
       "      <td>0.0</td>\n",
       "      <td>0.0</td>\n",
       "      <td>0.0</td>\n",
       "      <td>0.0</td>\n",
       "      <td>0.0</td>\n",
       "      <td>0.0</td>\n",
       "      <td>0.0</td>\n",
       "      <td>0.0</td>\n",
       "    </tr>\n",
       "    <tr>\n",
       "      <th>5</th>\n",
       "      <td>2</td>\n",
       "      <td>0</td>\n",
       "      <td>5</td>\n",
       "      <td>6</td>\n",
       "      <td>0.0</td>\n",
       "      <td>40</td>\n",
       "      <td>0.0</td>\n",
       "      <td>0.0</td>\n",
       "      <td>0.0</td>\n",
       "      <td>0.0</td>\n",
       "      <td>0.0</td>\n",
       "      <td>0.0</td>\n",
       "      <td>0.0</td>\n",
       "      <td>0.0</td>\n",
       "    </tr>\n",
       "    <tr>\n",
       "      <th>6</th>\n",
       "      <td>2</td>\n",
       "      <td>0</td>\n",
       "      <td>6</td>\n",
       "      <td>7</td>\n",
       "      <td>0.0</td>\n",
       "      <td>40</td>\n",
       "      <td>0.0</td>\n",
       "      <td>0.0</td>\n",
       "      <td>0.0</td>\n",
       "      <td>0.0</td>\n",
       "      <td>0.0</td>\n",
       "      <td>0.0</td>\n",
       "      <td>0.0</td>\n",
       "      <td>0.0</td>\n",
       "    </tr>\n",
       "    <tr>\n",
       "      <th>7</th>\n",
       "      <td>2</td>\n",
       "      <td>0</td>\n",
       "      <td>7</td>\n",
       "      <td>8</td>\n",
       "      <td>0.0</td>\n",
       "      <td>40</td>\n",
       "      <td>0.0</td>\n",
       "      <td>0.0</td>\n",
       "      <td>0.0</td>\n",
       "      <td>0.0</td>\n",
       "      <td>0.0</td>\n",
       "      <td>0.0</td>\n",
       "      <td>0.0</td>\n",
       "      <td>0.0</td>\n",
       "    </tr>\n",
       "  </tbody>\n",
       "</table>\n",
       "</div>"
      ],
      "text/plain": [
       "   shop_id  item_id  date_block_num  month  item_cnt_month  item_cat  \\\n",
       "3        2        0               3      4             0.0        40   \n",
       "4        2        0               4      5             0.0        40   \n",
       "5        2        0               5      6             0.0        40   \n",
       "6        2        0               6      7             0.0        40   \n",
       "7        2        0               7      8             0.0        40   \n",
       "\n",
       "   item_cnt_minus_1  item_cnt_minus_2  item_cnt_minus_3  \\\n",
       "3               0.0               0.0               0.0   \n",
       "4               0.0               0.0               0.0   \n",
       "5               0.0               0.0               0.0   \n",
       "6               0.0               0.0               0.0   \n",
       "7               0.0               0.0               0.0   \n",
       "\n",
       "   mnth_med_price_minus_1  mnth_med_price_minus_2  mnth_med_price_minus_3  \\\n",
       "3                     0.0                     0.0                     0.0   \n",
       "4                     0.0                     0.0                     0.0   \n",
       "5                     0.0                     0.0                     0.0   \n",
       "6                     0.0                     0.0                     0.0   \n",
       "7                     0.0                     0.0                     0.0   \n",
       "\n",
       "   item_cnt_mean  mnth_med_price_mean  \n",
       "3            0.0                  0.0  \n",
       "4            0.0                  0.0  \n",
       "5            0.0                  0.0  \n",
       "6            0.0                  0.0  \n",
       "7            0.0                  0.0  "
      ]
     },
     "execution_count": 80,
     "metadata": {},
     "output_type": "execute_result"
    }
   ],
   "source": [
    "train_master.head()"
   ]
  },
  {
   "cell_type": "code",
   "execution_count": 81,
   "metadata": {},
   "outputs": [
    {
     "data": {
      "text/html": [
       "<div>\n",
       "<style scoped>\n",
       "    .dataframe tbody tr th:only-of-type {\n",
       "        vertical-align: middle;\n",
       "    }\n",
       "\n",
       "    .dataframe tbody tr th {\n",
       "        vertical-align: top;\n",
       "    }\n",
       "\n",
       "    .dataframe thead th {\n",
       "        text-align: right;\n",
       "    }\n",
       "</style>\n",
       "<table border=\"1\" class=\"dataframe\">\n",
       "  <thead>\n",
       "    <tr style=\"text-align: right;\">\n",
       "      <th></th>\n",
       "      <th>shop_id</th>\n",
       "      <th>item_id</th>\n",
       "      <th>date_block_num</th>\n",
       "      <th>month</th>\n",
       "      <th>item_cnt_month</th>\n",
       "      <th>item_cat</th>\n",
       "      <th>item_cnt_minus_1</th>\n",
       "      <th>item_cnt_minus_2</th>\n",
       "      <th>item_cnt_minus_3</th>\n",
       "      <th>mnth_med_price_minus_1</th>\n",
       "      <th>mnth_med_price_minus_2</th>\n",
       "      <th>mnth_med_price_minus_3</th>\n",
       "      <th>item_cnt_mean</th>\n",
       "      <th>mnth_med_price_mean</th>\n",
       "    </tr>\n",
       "  </thead>\n",
       "  <tbody>\n",
       "    <tr>\n",
       "      <th>43444247</th>\n",
       "      <td>59</td>\n",
       "      <td>22169</td>\n",
       "      <td>30</td>\n",
       "      <td>7</td>\n",
       "      <td>0.0</td>\n",
       "      <td>69</td>\n",
       "      <td>0.0</td>\n",
       "      <td>0.0</td>\n",
       "      <td>0.0</td>\n",
       "      <td>0.0</td>\n",
       "      <td>0.0</td>\n",
       "      <td>0.0</td>\n",
       "      <td>0.0</td>\n",
       "      <td>0.0</td>\n",
       "    </tr>\n",
       "    <tr>\n",
       "      <th>43444248</th>\n",
       "      <td>59</td>\n",
       "      <td>22169</td>\n",
       "      <td>31</td>\n",
       "      <td>8</td>\n",
       "      <td>0.0</td>\n",
       "      <td>69</td>\n",
       "      <td>0.0</td>\n",
       "      <td>0.0</td>\n",
       "      <td>0.0</td>\n",
       "      <td>0.0</td>\n",
       "      <td>0.0</td>\n",
       "      <td>0.0</td>\n",
       "      <td>0.0</td>\n",
       "      <td>0.0</td>\n",
       "    </tr>\n",
       "    <tr>\n",
       "      <th>43444249</th>\n",
       "      <td>59</td>\n",
       "      <td>22169</td>\n",
       "      <td>32</td>\n",
       "      <td>9</td>\n",
       "      <td>0.0</td>\n",
       "      <td>69</td>\n",
       "      <td>0.0</td>\n",
       "      <td>0.0</td>\n",
       "      <td>0.0</td>\n",
       "      <td>0.0</td>\n",
       "      <td>0.0</td>\n",
       "      <td>0.0</td>\n",
       "      <td>0.0</td>\n",
       "      <td>0.0</td>\n",
       "    </tr>\n",
       "    <tr>\n",
       "      <th>43444250</th>\n",
       "      <td>59</td>\n",
       "      <td>22169</td>\n",
       "      <td>33</td>\n",
       "      <td>10</td>\n",
       "      <td>0.0</td>\n",
       "      <td>69</td>\n",
       "      <td>0.0</td>\n",
       "      <td>0.0</td>\n",
       "      <td>0.0</td>\n",
       "      <td>0.0</td>\n",
       "      <td>0.0</td>\n",
       "      <td>0.0</td>\n",
       "      <td>0.0</td>\n",
       "      <td>0.0</td>\n",
       "    </tr>\n",
       "    <tr>\n",
       "      <th>43444251</th>\n",
       "      <td>59</td>\n",
       "      <td>22169</td>\n",
       "      <td>34</td>\n",
       "      <td>11</td>\n",
       "      <td>0.0</td>\n",
       "      <td>69</td>\n",
       "      <td>0.0</td>\n",
       "      <td>0.0</td>\n",
       "      <td>0.0</td>\n",
       "      <td>0.0</td>\n",
       "      <td>0.0</td>\n",
       "      <td>0.0</td>\n",
       "      <td>0.0</td>\n",
       "      <td>0.0</td>\n",
       "    </tr>\n",
       "  </tbody>\n",
       "</table>\n",
       "</div>"
      ],
      "text/plain": [
       "          shop_id  item_id  date_block_num  month  item_cnt_month  item_cat  \\\n",
       "43444247       59    22169              30      7             0.0        69   \n",
       "43444248       59    22169              31      8             0.0        69   \n",
       "43444249       59    22169              32      9             0.0        69   \n",
       "43444250       59    22169              33     10             0.0        69   \n",
       "43444251       59    22169              34     11             0.0        69   \n",
       "\n",
       "          item_cnt_minus_1  item_cnt_minus_2  item_cnt_minus_3  \\\n",
       "43444247               0.0               0.0               0.0   \n",
       "43444248               0.0               0.0               0.0   \n",
       "43444249               0.0               0.0               0.0   \n",
       "43444250               0.0               0.0               0.0   \n",
       "43444251               0.0               0.0               0.0   \n",
       "\n",
       "          mnth_med_price_minus_1  mnth_med_price_minus_2  \\\n",
       "43444247                     0.0                     0.0   \n",
       "43444248                     0.0                     0.0   \n",
       "43444249                     0.0                     0.0   \n",
       "43444250                     0.0                     0.0   \n",
       "43444251                     0.0                     0.0   \n",
       "\n",
       "          mnth_med_price_minus_3  item_cnt_mean  mnth_med_price_mean  \n",
       "43444247                     0.0            0.0                  0.0  \n",
       "43444248                     0.0            0.0                  0.0  \n",
       "43444249                     0.0            0.0                  0.0  \n",
       "43444250                     0.0            0.0                  0.0  \n",
       "43444251                     0.0            0.0                  0.0  "
      ]
     },
     "execution_count": 81,
     "metadata": {},
     "output_type": "execute_result"
    }
   ],
   "source": [
    "train_master.tail()"
   ]
  },
  {
   "cell_type": "code",
   "execution_count": 82,
   "metadata": {},
   "outputs": [
    {
     "data": {
      "text/plain": [
       "Index(['shop_id', 'item_id', 'date_block_num', 'month', 'item_cnt_month',\n",
       "       'item_cat'],\n",
       "      dtype='object')"
      ]
     },
     "execution_count": 82,
     "metadata": {},
     "output_type": "execute_result"
    }
   ],
   "source": [
    "train_master.columns[:6]"
   ]
  },
  {
   "cell_type": "code",
   "execution_count": 83,
   "metadata": {},
   "outputs": [
    {
     "data": {
      "text/plain": [
       "Index(['item_cnt_minus_1', 'item_cnt_minus_2', 'item_cnt_minus_3',\n",
       "       'mnth_med_price_minus_1', 'mnth_med_price_minus_2',\n",
       "       'mnth_med_price_minus_3', 'item_cnt_mean', 'mnth_med_price_mean'],\n",
       "      dtype='object')"
      ]
     },
     "execution_count": 83,
     "metadata": {},
     "output_type": "execute_result"
    }
   ],
   "source": [
    "train_master.columns[6:]"
   ]
  },
  {
   "cell_type": "code",
   "execution_count": 84,
   "metadata": {},
   "outputs": [],
   "source": [
    "train_master.drop(columns=train_master.columns[6:], inplace=True)"
   ]
  },
  {
   "cell_type": "code",
   "execution_count": 85,
   "metadata": {},
   "outputs": [
    {
     "name": "stdout",
     "output_type": "stream",
     "text": [
      "<class 'pandas.core.frame.DataFrame'>\n",
      "Int64Index: 39720532 entries, 3 to 43444251\n",
      "Data columns (total 6 columns):\n",
      " #   Column          Dtype  \n",
      "---  ------          -----  \n",
      " 0   shop_id         int8   \n",
      " 1   item_id         int16  \n",
      " 2   date_block_num  int8   \n",
      " 3   month           int8   \n",
      " 4   item_cnt_month  float32\n",
      " 5   item_cat        int8   \n",
      "dtypes: float32(1), int16(1), int8(4)\n",
      "memory usage: 681.8 MB\n"
     ]
    }
   ],
   "source": [
    "train_master.info()"
   ]
  },
  {
   "cell_type": "code",
   "execution_count": 86,
   "metadata": {},
   "outputs": [
    {
     "data": {
      "text/html": [
       "<div>\n",
       "<style scoped>\n",
       "    .dataframe tbody tr th:only-of-type {\n",
       "        vertical-align: middle;\n",
       "    }\n",
       "\n",
       "    .dataframe tbody tr th {\n",
       "        vertical-align: top;\n",
       "    }\n",
       "\n",
       "    .dataframe thead th {\n",
       "        text-align: right;\n",
       "    }\n",
       "</style>\n",
       "<table border=\"1\" class=\"dataframe\">\n",
       "  <thead>\n",
       "    <tr style=\"text-align: right;\">\n",
       "      <th></th>\n",
       "      <th>shop_id</th>\n",
       "      <th>item_id</th>\n",
       "      <th>date_block_num</th>\n",
       "      <th>month</th>\n",
       "      <th>item_cnt_month</th>\n",
       "      <th>item_cat</th>\n",
       "    </tr>\n",
       "  </thead>\n",
       "  <tbody>\n",
       "    <tr>\n",
       "      <th>3</th>\n",
       "      <td>2</td>\n",
       "      <td>0</td>\n",
       "      <td>3</td>\n",
       "      <td>4</td>\n",
       "      <td>0.0</td>\n",
       "      <td>40</td>\n",
       "    </tr>\n",
       "    <tr>\n",
       "      <th>4</th>\n",
       "      <td>2</td>\n",
       "      <td>0</td>\n",
       "      <td>4</td>\n",
       "      <td>5</td>\n",
       "      <td>0.0</td>\n",
       "      <td>40</td>\n",
       "    </tr>\n",
       "    <tr>\n",
       "      <th>5</th>\n",
       "      <td>2</td>\n",
       "      <td>0</td>\n",
       "      <td>5</td>\n",
       "      <td>6</td>\n",
       "      <td>0.0</td>\n",
       "      <td>40</td>\n",
       "    </tr>\n",
       "    <tr>\n",
       "      <th>6</th>\n",
       "      <td>2</td>\n",
       "      <td>0</td>\n",
       "      <td>6</td>\n",
       "      <td>7</td>\n",
       "      <td>0.0</td>\n",
       "      <td>40</td>\n",
       "    </tr>\n",
       "    <tr>\n",
       "      <th>7</th>\n",
       "      <td>2</td>\n",
       "      <td>0</td>\n",
       "      <td>7</td>\n",
       "      <td>8</td>\n",
       "      <td>0.0</td>\n",
       "      <td>40</td>\n",
       "    </tr>\n",
       "  </tbody>\n",
       "</table>\n",
       "</div>"
      ],
      "text/plain": [
       "   shop_id  item_id  date_block_num  month  item_cnt_month  item_cat\n",
       "3        2        0               3      4             0.0        40\n",
       "4        2        0               4      5             0.0        40\n",
       "5        2        0               5      6             0.0        40\n",
       "6        2        0               6      7             0.0        40\n",
       "7        2        0               7      8             0.0        40"
      ]
     },
     "execution_count": 86,
     "metadata": {},
     "output_type": "execute_result"
    }
   ],
   "source": [
    "train_master.head()"
   ]
  },
  {
   "cell_type": "code",
   "execution_count": 87,
   "metadata": {},
   "outputs": [
    {
     "data": {
      "text/html": [
       "<div>\n",
       "<style scoped>\n",
       "    .dataframe tbody tr th:only-of-type {\n",
       "        vertical-align: middle;\n",
       "    }\n",
       "\n",
       "    .dataframe tbody tr th {\n",
       "        vertical-align: top;\n",
       "    }\n",
       "\n",
       "    .dataframe thead th {\n",
       "        text-align: right;\n",
       "    }\n",
       "</style>\n",
       "<table border=\"1\" class=\"dataframe\">\n",
       "  <thead>\n",
       "    <tr style=\"text-align: right;\">\n",
       "      <th></th>\n",
       "      <th>shop_id</th>\n",
       "      <th>item_id</th>\n",
       "      <th>date_block_num</th>\n",
       "      <th>month</th>\n",
       "      <th>item_cnt_month</th>\n",
       "      <th>item_cat</th>\n",
       "    </tr>\n",
       "  </thead>\n",
       "  <tbody>\n",
       "    <tr>\n",
       "      <th>43444247</th>\n",
       "      <td>59</td>\n",
       "      <td>22169</td>\n",
       "      <td>30</td>\n",
       "      <td>7</td>\n",
       "      <td>0.0</td>\n",
       "      <td>69</td>\n",
       "    </tr>\n",
       "    <tr>\n",
       "      <th>43444248</th>\n",
       "      <td>59</td>\n",
       "      <td>22169</td>\n",
       "      <td>31</td>\n",
       "      <td>8</td>\n",
       "      <td>0.0</td>\n",
       "      <td>69</td>\n",
       "    </tr>\n",
       "    <tr>\n",
       "      <th>43444249</th>\n",
       "      <td>59</td>\n",
       "      <td>22169</td>\n",
       "      <td>32</td>\n",
       "      <td>9</td>\n",
       "      <td>0.0</td>\n",
       "      <td>69</td>\n",
       "    </tr>\n",
       "    <tr>\n",
       "      <th>43444250</th>\n",
       "      <td>59</td>\n",
       "      <td>22169</td>\n",
       "      <td>33</td>\n",
       "      <td>10</td>\n",
       "      <td>0.0</td>\n",
       "      <td>69</td>\n",
       "    </tr>\n",
       "    <tr>\n",
       "      <th>43444251</th>\n",
       "      <td>59</td>\n",
       "      <td>22169</td>\n",
       "      <td>34</td>\n",
       "      <td>11</td>\n",
       "      <td>0.0</td>\n",
       "      <td>69</td>\n",
       "    </tr>\n",
       "  </tbody>\n",
       "</table>\n",
       "</div>"
      ],
      "text/plain": [
       "          shop_id  item_id  date_block_num  month  item_cnt_month  item_cat\n",
       "43444247       59    22169              30      7             0.0        69\n",
       "43444248       59    22169              31      8             0.0        69\n",
       "43444249       59    22169              32      9             0.0        69\n",
       "43444250       59    22169              33     10             0.0        69\n",
       "43444251       59    22169              34     11             0.0        69"
      ]
     },
     "execution_count": 87,
     "metadata": {},
     "output_type": "execute_result"
    }
   ],
   "source": [
    "train_master.tail()"
   ]
  },
  {
   "cell_type": "code",
   "execution_count": 69,
   "metadata": {},
   "outputs": [
    {
     "data": {
      "text/plain": [
       "56"
      ]
     },
     "execution_count": 69,
     "metadata": {},
     "output_type": "execute_result"
    }
   ],
   "source": [
    "train_master.shop_id.nunique()"
   ]
  },
  {
   "cell_type": "code",
   "execution_count": 99,
   "metadata": {},
   "outputs": [],
   "source": [
    "train_master.set_index([pd.Index(range(39720532))], inplace=True)"
   ]
  },
  {
   "cell_type": "code",
   "execution_count": 101,
   "metadata": {},
   "outputs": [
    {
     "data": {
      "text/html": [
       "<div>\n",
       "<style scoped>\n",
       "    .dataframe tbody tr th:only-of-type {\n",
       "        vertical-align: middle;\n",
       "    }\n",
       "\n",
       "    .dataframe tbody tr th {\n",
       "        vertical-align: top;\n",
       "    }\n",
       "\n",
       "    .dataframe thead th {\n",
       "        text-align: right;\n",
       "    }\n",
       "</style>\n",
       "<table border=\"1\" class=\"dataframe\">\n",
       "  <thead>\n",
       "    <tr style=\"text-align: right;\">\n",
       "      <th></th>\n",
       "      <th>shop_id</th>\n",
       "      <th>item_id</th>\n",
       "      <th>date_block_num</th>\n",
       "      <th>month</th>\n",
       "      <th>item_cnt_month</th>\n",
       "      <th>item_cat</th>\n",
       "    </tr>\n",
       "  </thead>\n",
       "  <tbody>\n",
       "    <tr>\n",
       "      <th>0</th>\n",
       "      <td>2</td>\n",
       "      <td>0</td>\n",
       "      <td>3</td>\n",
       "      <td>4</td>\n",
       "      <td>0.0</td>\n",
       "      <td>40</td>\n",
       "    </tr>\n",
       "    <tr>\n",
       "      <th>1</th>\n",
       "      <td>2</td>\n",
       "      <td>0</td>\n",
       "      <td>4</td>\n",
       "      <td>5</td>\n",
       "      <td>0.0</td>\n",
       "      <td>40</td>\n",
       "    </tr>\n",
       "    <tr>\n",
       "      <th>2</th>\n",
       "      <td>2</td>\n",
       "      <td>0</td>\n",
       "      <td>5</td>\n",
       "      <td>6</td>\n",
       "      <td>0.0</td>\n",
       "      <td>40</td>\n",
       "    </tr>\n",
       "    <tr>\n",
       "      <th>3</th>\n",
       "      <td>2</td>\n",
       "      <td>0</td>\n",
       "      <td>6</td>\n",
       "      <td>7</td>\n",
       "      <td>0.0</td>\n",
       "      <td>40</td>\n",
       "    </tr>\n",
       "    <tr>\n",
       "      <th>4</th>\n",
       "      <td>2</td>\n",
       "      <td>0</td>\n",
       "      <td>7</td>\n",
       "      <td>8</td>\n",
       "      <td>0.0</td>\n",
       "      <td>40</td>\n",
       "    </tr>\n",
       "    <tr>\n",
       "      <th>...</th>\n",
       "      <td>...</td>\n",
       "      <td>...</td>\n",
       "      <td>...</td>\n",
       "      <td>...</td>\n",
       "      <td>...</td>\n",
       "      <td>...</td>\n",
       "    </tr>\n",
       "    <tr>\n",
       "      <th>39720527</th>\n",
       "      <td>59</td>\n",
       "      <td>22169</td>\n",
       "      <td>30</td>\n",
       "      <td>7</td>\n",
       "      <td>0.0</td>\n",
       "      <td>69</td>\n",
       "    </tr>\n",
       "    <tr>\n",
       "      <th>39720528</th>\n",
       "      <td>59</td>\n",
       "      <td>22169</td>\n",
       "      <td>31</td>\n",
       "      <td>8</td>\n",
       "      <td>0.0</td>\n",
       "      <td>69</td>\n",
       "    </tr>\n",
       "    <tr>\n",
       "      <th>39720529</th>\n",
       "      <td>59</td>\n",
       "      <td>22169</td>\n",
       "      <td>32</td>\n",
       "      <td>9</td>\n",
       "      <td>0.0</td>\n",
       "      <td>69</td>\n",
       "    </tr>\n",
       "    <tr>\n",
       "      <th>39720530</th>\n",
       "      <td>59</td>\n",
       "      <td>22169</td>\n",
       "      <td>33</td>\n",
       "      <td>10</td>\n",
       "      <td>0.0</td>\n",
       "      <td>69</td>\n",
       "    </tr>\n",
       "    <tr>\n",
       "      <th>39720531</th>\n",
       "      <td>59</td>\n",
       "      <td>22169</td>\n",
       "      <td>34</td>\n",
       "      <td>11</td>\n",
       "      <td>0.0</td>\n",
       "      <td>69</td>\n",
       "    </tr>\n",
       "  </tbody>\n",
       "</table>\n",
       "<p>39720532 rows × 6 columns</p>\n",
       "</div>"
      ],
      "text/plain": [
       "          shop_id  item_id  date_block_num  month  item_cnt_month  item_cat\n",
       "0               2        0               3      4             0.0        40\n",
       "1               2        0               4      5             0.0        40\n",
       "2               2        0               5      6             0.0        40\n",
       "3               2        0               6      7             0.0        40\n",
       "4               2        0               7      8             0.0        40\n",
       "...           ...      ...             ...    ...             ...       ...\n",
       "39720527       59    22169              30      7             0.0        69\n",
       "39720528       59    22169              31      8             0.0        69\n",
       "39720529       59    22169              32      9             0.0        69\n",
       "39720530       59    22169              33     10             0.0        69\n",
       "39720531       59    22169              34     11             0.0        69\n",
       "\n",
       "[39720532 rows x 6 columns]"
      ]
     },
     "execution_count": 101,
     "metadata": {},
     "output_type": "execute_result"
    }
   ],
   "source": [
    "train_master"
   ]
  },
  {
   "cell_type": "markdown",
   "metadata": {},
   "source": [
    "### Drop values from date cnt mnth 34"
   ]
  },
  {
   "cell_type": "code",
   "execution_count": 102,
   "metadata": {},
   "outputs": [],
   "source": [
    "mask = train_master.date_block_num ==34"
   ]
  },
  {
   "cell_type": "code",
   "execution_count": 103,
   "metadata": {},
   "outputs": [],
   "source": [
    "indices_to_drop = np.where(mask)[0]"
   ]
  },
  {
   "cell_type": "code",
   "execution_count": 104,
   "metadata": {},
   "outputs": [
    {
     "data": {
      "text/plain": [
       "array([      31,       63,       95, ..., 39720467, 39720499, 39720531])"
      ]
     },
     "execution_count": 104,
     "metadata": {},
     "output_type": "execute_result"
    }
   ],
   "source": [
    "indices_to_drop"
   ]
  },
  {
   "cell_type": "code",
   "execution_count": 105,
   "metadata": {},
   "outputs": [],
   "source": [
    "train_master.drop(indices_to_drop, inplace=True)"
   ]
  },
  {
   "cell_type": "code",
   "execution_count": 107,
   "metadata": {},
   "outputs": [],
   "source": [
    "train_master.set_index([pd.Index(range(len(train_master)))], inplace=True)"
   ]
  },
  {
   "cell_type": "code",
   "execution_count": 108,
   "metadata": {},
   "outputs": [
    {
     "data": {
      "text/html": [
       "<div>\n",
       "<style scoped>\n",
       "    .dataframe tbody tr th:only-of-type {\n",
       "        vertical-align: middle;\n",
       "    }\n",
       "\n",
       "    .dataframe tbody tr th {\n",
       "        vertical-align: top;\n",
       "    }\n",
       "\n",
       "    .dataframe thead th {\n",
       "        text-align: right;\n",
       "    }\n",
       "</style>\n",
       "<table border=\"1\" class=\"dataframe\">\n",
       "  <thead>\n",
       "    <tr style=\"text-align: right;\">\n",
       "      <th></th>\n",
       "      <th>shop_id</th>\n",
       "      <th>item_id</th>\n",
       "      <th>date_block_num</th>\n",
       "      <th>month</th>\n",
       "      <th>item_cnt_month</th>\n",
       "      <th>item_cat</th>\n",
       "    </tr>\n",
       "  </thead>\n",
       "  <tbody>\n",
       "    <tr>\n",
       "      <th>0</th>\n",
       "      <td>2</td>\n",
       "      <td>0</td>\n",
       "      <td>3</td>\n",
       "      <td>4</td>\n",
       "      <td>0.0</td>\n",
       "      <td>40</td>\n",
       "    </tr>\n",
       "    <tr>\n",
       "      <th>1</th>\n",
       "      <td>2</td>\n",
       "      <td>0</td>\n",
       "      <td>4</td>\n",
       "      <td>5</td>\n",
       "      <td>0.0</td>\n",
       "      <td>40</td>\n",
       "    </tr>\n",
       "    <tr>\n",
       "      <th>2</th>\n",
       "      <td>2</td>\n",
       "      <td>0</td>\n",
       "      <td>5</td>\n",
       "      <td>6</td>\n",
       "      <td>0.0</td>\n",
       "      <td>40</td>\n",
       "    </tr>\n",
       "    <tr>\n",
       "      <th>3</th>\n",
       "      <td>2</td>\n",
       "      <td>0</td>\n",
       "      <td>6</td>\n",
       "      <td>7</td>\n",
       "      <td>0.0</td>\n",
       "      <td>40</td>\n",
       "    </tr>\n",
       "    <tr>\n",
       "      <th>4</th>\n",
       "      <td>2</td>\n",
       "      <td>0</td>\n",
       "      <td>7</td>\n",
       "      <td>8</td>\n",
       "      <td>0.0</td>\n",
       "      <td>40</td>\n",
       "    </tr>\n",
       "    <tr>\n",
       "      <th>...</th>\n",
       "      <td>...</td>\n",
       "      <td>...</td>\n",
       "      <td>...</td>\n",
       "      <td>...</td>\n",
       "      <td>...</td>\n",
       "      <td>...</td>\n",
       "    </tr>\n",
       "    <tr>\n",
       "      <th>38479287</th>\n",
       "      <td>59</td>\n",
       "      <td>22169</td>\n",
       "      <td>29</td>\n",
       "      <td>6</td>\n",
       "      <td>0.0</td>\n",
       "      <td>69</td>\n",
       "    </tr>\n",
       "    <tr>\n",
       "      <th>38479288</th>\n",
       "      <td>59</td>\n",
       "      <td>22169</td>\n",
       "      <td>30</td>\n",
       "      <td>7</td>\n",
       "      <td>0.0</td>\n",
       "      <td>69</td>\n",
       "    </tr>\n",
       "    <tr>\n",
       "      <th>38479289</th>\n",
       "      <td>59</td>\n",
       "      <td>22169</td>\n",
       "      <td>31</td>\n",
       "      <td>8</td>\n",
       "      <td>0.0</td>\n",
       "      <td>69</td>\n",
       "    </tr>\n",
       "    <tr>\n",
       "      <th>38479290</th>\n",
       "      <td>59</td>\n",
       "      <td>22169</td>\n",
       "      <td>32</td>\n",
       "      <td>9</td>\n",
       "      <td>0.0</td>\n",
       "      <td>69</td>\n",
       "    </tr>\n",
       "    <tr>\n",
       "      <th>38479291</th>\n",
       "      <td>59</td>\n",
       "      <td>22169</td>\n",
       "      <td>33</td>\n",
       "      <td>10</td>\n",
       "      <td>0.0</td>\n",
       "      <td>69</td>\n",
       "    </tr>\n",
       "  </tbody>\n",
       "</table>\n",
       "<p>38479292 rows × 6 columns</p>\n",
       "</div>"
      ],
      "text/plain": [
       "          shop_id  item_id  date_block_num  month  item_cnt_month  item_cat\n",
       "0               2        0               3      4             0.0        40\n",
       "1               2        0               4      5             0.0        40\n",
       "2               2        0               5      6             0.0        40\n",
       "3               2        0               6      7             0.0        40\n",
       "4               2        0               7      8             0.0        40\n",
       "...           ...      ...             ...    ...             ...       ...\n",
       "38479287       59    22169              29      6             0.0        69\n",
       "38479288       59    22169              30      7             0.0        69\n",
       "38479289       59    22169              31      8             0.0        69\n",
       "38479290       59    22169              32      9             0.0        69\n",
       "38479291       59    22169              33     10             0.0        69\n",
       "\n",
       "[38479292 rows x 6 columns]"
      ]
     },
     "execution_count": 108,
     "metadata": {},
     "output_type": "execute_result"
    }
   ],
   "source": [
    "train_master"
   ]
  },
  {
   "cell_type": "code",
   "execution_count": 109,
   "metadata": {},
   "outputs": [
    {
     "name": "stdout",
     "output_type": "stream",
     "text": [
      "<class 'pandas.core.frame.DataFrame'>\n",
      "RangeIndex: 38479292 entries, 0 to 38479291\n",
      "Data columns (total 6 columns):\n",
      " #   Column          Dtype  \n",
      "---  ------          -----  \n",
      " 0   shop_id         int8   \n",
      " 1   item_id         int16  \n",
      " 2   date_block_num  int8   \n",
      " 3   month           int8   \n",
      " 4   item_cnt_month  float32\n",
      " 5   item_cat        int8   \n",
      "dtypes: float32(1), int16(1), int8(4)\n",
      "memory usage: 367.0 MB\n"
     ]
    }
   ],
   "source": [
    "train_master.info()"
   ]
  },
  {
   "cell_type": "markdown",
   "metadata": {},
   "source": [
    "### Take mean on item_cnt_mnth for every item for a given shop in a given month"
   ]
  },
  {
   "cell_type": "markdown",
   "metadata": {},
   "source": [
    "###### For example, on the average, for an item, how many are sold from a shop in month 1, or month 2"
   ]
  },
  {
   "cell_type": "code",
   "execution_count": 120,
   "metadata": {},
   "outputs": [],
   "source": [
    "x = train_master.groupby(['shop_id', 'item_id', 'month']).mean()"
   ]
  },
  {
   "cell_type": "code",
   "execution_count": 121,
   "metadata": {},
   "outputs": [],
   "source": [
    "x.reset_index(inplace=True)"
   ]
  },
  {
   "cell_type": "code",
   "execution_count": 122,
   "metadata": {},
   "outputs": [
    {
     "data": {
      "text/html": [
       "<div>\n",
       "<style scoped>\n",
       "    .dataframe tbody tr th:only-of-type {\n",
       "        vertical-align: middle;\n",
       "    }\n",
       "\n",
       "    .dataframe tbody tr th {\n",
       "        vertical-align: top;\n",
       "    }\n",
       "\n",
       "    .dataframe thead th {\n",
       "        text-align: right;\n",
       "    }\n",
       "</style>\n",
       "<table border=\"1\" class=\"dataframe\">\n",
       "  <thead>\n",
       "    <tr style=\"text-align: right;\">\n",
       "      <th></th>\n",
       "      <th>shop_id</th>\n",
       "      <th>item_id</th>\n",
       "      <th>month</th>\n",
       "      <th>date_block_num</th>\n",
       "      <th>item_cnt_month</th>\n",
       "      <th>item_cat</th>\n",
       "    </tr>\n",
       "  </thead>\n",
       "  <tbody>\n",
       "    <tr>\n",
       "      <th>0</th>\n",
       "      <td>2</td>\n",
       "      <td>0</td>\n",
       "      <td>1</td>\n",
       "      <td>18</td>\n",
       "      <td>0.0</td>\n",
       "      <td>40</td>\n",
       "    </tr>\n",
       "    <tr>\n",
       "      <th>1</th>\n",
       "      <td>2</td>\n",
       "      <td>0</td>\n",
       "      <td>2</td>\n",
       "      <td>19</td>\n",
       "      <td>0.0</td>\n",
       "      <td>40</td>\n",
       "    </tr>\n",
       "    <tr>\n",
       "      <th>2</th>\n",
       "      <td>2</td>\n",
       "      <td>0</td>\n",
       "      <td>3</td>\n",
       "      <td>20</td>\n",
       "      <td>0.0</td>\n",
       "      <td>40</td>\n",
       "    </tr>\n",
       "    <tr>\n",
       "      <th>3</th>\n",
       "      <td>2</td>\n",
       "      <td>0</td>\n",
       "      <td>4</td>\n",
       "      <td>15</td>\n",
       "      <td>0.0</td>\n",
       "      <td>40</td>\n",
       "    </tr>\n",
       "    <tr>\n",
       "      <th>4</th>\n",
       "      <td>2</td>\n",
       "      <td>0</td>\n",
       "      <td>5</td>\n",
       "      <td>16</td>\n",
       "      <td>0.0</td>\n",
       "      <td>40</td>\n",
       "    </tr>\n",
       "    <tr>\n",
       "      <th>...</th>\n",
       "      <td>...</td>\n",
       "      <td>...</td>\n",
       "      <td>...</td>\n",
       "      <td>...</td>\n",
       "      <td>...</td>\n",
       "      <td>...</td>\n",
       "    </tr>\n",
       "    <tr>\n",
       "      <th>14894875</th>\n",
       "      <td>59</td>\n",
       "      <td>22169</td>\n",
       "      <td>8</td>\n",
       "      <td>19</td>\n",
       "      <td>0.0</td>\n",
       "      <td>69</td>\n",
       "    </tr>\n",
       "    <tr>\n",
       "      <th>14894876</th>\n",
       "      <td>59</td>\n",
       "      <td>22169</td>\n",
       "      <td>9</td>\n",
       "      <td>20</td>\n",
       "      <td>0.0</td>\n",
       "      <td>69</td>\n",
       "    </tr>\n",
       "    <tr>\n",
       "      <th>14894877</th>\n",
       "      <td>59</td>\n",
       "      <td>22169</td>\n",
       "      <td>10</td>\n",
       "      <td>21</td>\n",
       "      <td>0.0</td>\n",
       "      <td>69</td>\n",
       "    </tr>\n",
       "    <tr>\n",
       "      <th>14894878</th>\n",
       "      <td>59</td>\n",
       "      <td>22169</td>\n",
       "      <td>11</td>\n",
       "      <td>16</td>\n",
       "      <td>0.0</td>\n",
       "      <td>69</td>\n",
       "    </tr>\n",
       "    <tr>\n",
       "      <th>14894879</th>\n",
       "      <td>59</td>\n",
       "      <td>22169</td>\n",
       "      <td>12</td>\n",
       "      <td>17</td>\n",
       "      <td>0.0</td>\n",
       "      <td>69</td>\n",
       "    </tr>\n",
       "  </tbody>\n",
       "</table>\n",
       "<p>14894880 rows × 6 columns</p>\n",
       "</div>"
      ],
      "text/plain": [
       "          shop_id  item_id  month  date_block_num  item_cnt_month  item_cat\n",
       "0               2        0      1              18             0.0        40\n",
       "1               2        0      2              19             0.0        40\n",
       "2               2        0      3              20             0.0        40\n",
       "3               2        0      4              15             0.0        40\n",
       "4               2        0      5              16             0.0        40\n",
       "...           ...      ...    ...             ...             ...       ...\n",
       "14894875       59    22169      8              19             0.0        69\n",
       "14894876       59    22169      9              20             0.0        69\n",
       "14894877       59    22169     10              21             0.0        69\n",
       "14894878       59    22169     11              16             0.0        69\n",
       "14894879       59    22169     12              17             0.0        69\n",
       "\n",
       "[14894880 rows x 6 columns]"
      ]
     },
     "execution_count": 122,
     "metadata": {},
     "output_type": "execute_result"
    }
   ],
   "source": [
    "x"
   ]
  },
  {
   "cell_type": "code",
   "execution_count": 123,
   "metadata": {},
   "outputs": [
    {
     "name": "stdout",
     "output_type": "stream",
     "text": [
      "<class 'pandas.core.frame.DataFrame'>\n",
      "RangeIndex: 14894880 entries, 0 to 14894879\n",
      "Data columns (total 6 columns):\n",
      " #   Column          Dtype  \n",
      "---  ------          -----  \n",
      " 0   shop_id         int64  \n",
      " 1   item_id         int64  \n",
      " 2   month           int64  \n",
      " 3   date_block_num  int8   \n",
      " 4   item_cnt_month  float32\n",
      " 5   item_cat        int8   \n",
      "dtypes: float32(1), int64(3), int8(2)\n",
      "memory usage: 426.1 MB\n"
     ]
    }
   ],
   "source": [
    "x.info()"
   ]
  },
  {
   "cell_type": "code",
   "execution_count": 124,
   "metadata": {},
   "outputs": [
    {
     "data": {
      "text/html": [
       "<div>\n",
       "<style scoped>\n",
       "    .dataframe tbody tr th:only-of-type {\n",
       "        vertical-align: middle;\n",
       "    }\n",
       "\n",
       "    .dataframe tbody tr th {\n",
       "        vertical-align: top;\n",
       "    }\n",
       "\n",
       "    .dataframe thead th {\n",
       "        text-align: right;\n",
       "    }\n",
       "</style>\n",
       "<table border=\"1\" class=\"dataframe\">\n",
       "  <thead>\n",
       "    <tr style=\"text-align: right;\">\n",
       "      <th></th>\n",
       "      <th>shop_id</th>\n",
       "      <th>item_id</th>\n",
       "      <th>month</th>\n",
       "      <th>date_block_num</th>\n",
       "      <th>item_cnt_month</th>\n",
       "      <th>item_cat</th>\n",
       "    </tr>\n",
       "  </thead>\n",
       "  <tbody>\n",
       "    <tr>\n",
       "      <th>0</th>\n",
       "      <td>2</td>\n",
       "      <td>0</td>\n",
       "      <td>1</td>\n",
       "      <td>18</td>\n",
       "      <td>0.0</td>\n",
       "      <td>40</td>\n",
       "    </tr>\n",
       "    <tr>\n",
       "      <th>1</th>\n",
       "      <td>2</td>\n",
       "      <td>0</td>\n",
       "      <td>2</td>\n",
       "      <td>19</td>\n",
       "      <td>0.0</td>\n",
       "      <td>40</td>\n",
       "    </tr>\n",
       "    <tr>\n",
       "      <th>2</th>\n",
       "      <td>2</td>\n",
       "      <td>0</td>\n",
       "      <td>3</td>\n",
       "      <td>20</td>\n",
       "      <td>0.0</td>\n",
       "      <td>40</td>\n",
       "    </tr>\n",
       "    <tr>\n",
       "      <th>3</th>\n",
       "      <td>2</td>\n",
       "      <td>0</td>\n",
       "      <td>4</td>\n",
       "      <td>15</td>\n",
       "      <td>0.0</td>\n",
       "      <td>40</td>\n",
       "    </tr>\n",
       "    <tr>\n",
       "      <th>4</th>\n",
       "      <td>2</td>\n",
       "      <td>0</td>\n",
       "      <td>5</td>\n",
       "      <td>16</td>\n",
       "      <td>0.0</td>\n",
       "      <td>40</td>\n",
       "    </tr>\n",
       "    <tr>\n",
       "      <th>...</th>\n",
       "      <td>...</td>\n",
       "      <td>...</td>\n",
       "      <td>...</td>\n",
       "      <td>...</td>\n",
       "      <td>...</td>\n",
       "      <td>...</td>\n",
       "    </tr>\n",
       "    <tr>\n",
       "      <th>14894875</th>\n",
       "      <td>59</td>\n",
       "      <td>22169</td>\n",
       "      <td>8</td>\n",
       "      <td>19</td>\n",
       "      <td>0.0</td>\n",
       "      <td>69</td>\n",
       "    </tr>\n",
       "    <tr>\n",
       "      <th>14894876</th>\n",
       "      <td>59</td>\n",
       "      <td>22169</td>\n",
       "      <td>9</td>\n",
       "      <td>20</td>\n",
       "      <td>0.0</td>\n",
       "      <td>69</td>\n",
       "    </tr>\n",
       "    <tr>\n",
       "      <th>14894877</th>\n",
       "      <td>59</td>\n",
       "      <td>22169</td>\n",
       "      <td>10</td>\n",
       "      <td>21</td>\n",
       "      <td>0.0</td>\n",
       "      <td>69</td>\n",
       "    </tr>\n",
       "    <tr>\n",
       "      <th>14894878</th>\n",
       "      <td>59</td>\n",
       "      <td>22169</td>\n",
       "      <td>11</td>\n",
       "      <td>16</td>\n",
       "      <td>0.0</td>\n",
       "      <td>69</td>\n",
       "    </tr>\n",
       "    <tr>\n",
       "      <th>14894879</th>\n",
       "      <td>59</td>\n",
       "      <td>22169</td>\n",
       "      <td>12</td>\n",
       "      <td>17</td>\n",
       "      <td>0.0</td>\n",
       "      <td>69</td>\n",
       "    </tr>\n",
       "  </tbody>\n",
       "</table>\n",
       "<p>14894880 rows × 6 columns</p>\n",
       "</div>"
      ],
      "text/plain": [
       "          shop_id  item_id  month  date_block_num  item_cnt_month  item_cat\n",
       "0               2        0      1              18             0.0        40\n",
       "1               2        0      2              19             0.0        40\n",
       "2               2        0      3              20             0.0        40\n",
       "3               2        0      4              15             0.0        40\n",
       "4               2        0      5              16             0.0        40\n",
       "...           ...      ...    ...             ...             ...       ...\n",
       "14894875       59    22169      8              19             0.0        69\n",
       "14894876       59    22169      9              20             0.0        69\n",
       "14894877       59    22169     10              21             0.0        69\n",
       "14894878       59    22169     11              16             0.0        69\n",
       "14894879       59    22169     12              17             0.0        69\n",
       "\n",
       "[14894880 rows x 6 columns]"
      ]
     },
     "execution_count": 124,
     "metadata": {},
     "output_type": "execute_result"
    }
   ],
   "source": [
    "x"
   ]
  },
  {
   "cell_type": "code",
   "execution_count": 125,
   "metadata": {},
   "outputs": [
    {
     "data": {
      "text/plain": [
       "7698779     1257.0\n",
       "6102899     1031.5\n",
       "7698778      880.5\n",
       "7698768      821.0\n",
       "13550338     818.5\n",
       "Name: item_cnt_month, dtype: float32"
      ]
     },
     "execution_count": 125,
     "metadata": {},
     "output_type": "execute_result"
    }
   ],
   "source": [
    "x.item_cnt_month.nlargest()"
   ]
  },
  {
   "cell_type": "code",
   "execution_count": 126,
   "metadata": {},
   "outputs": [
    {
     "data": {
      "text/plain": [
       "0.000000      13649952\n",
       "0.333333        490246\n",
       "0.500000        267126\n",
       "0.666667        141812\n",
       "1.000000        139174\n",
       "                ...   \n",
       "49.333332            1\n",
       "123.666664           1\n",
       "48.500000            1\n",
       "125.000000           1\n",
       "196.000000           1\n",
       "Name: item_cnt_month, Length: 624, dtype: int64"
      ]
     },
     "execution_count": 126,
     "metadata": {},
     "output_type": "execute_result"
    }
   ],
   "source": [
    "x.item_cnt_month.value_counts()"
   ]
  },
  {
   "cell_type": "code",
   "execution_count": 130,
   "metadata": {},
   "outputs": [],
   "source": [
    "percent_0 = x.item_cnt_month.value_counts()[0] / x.shape[0]"
   ]
  },
  {
   "cell_type": "code",
   "execution_count": 131,
   "metadata": {},
   "outputs": [
    {
     "data": {
      "text/plain": [
       "0.9164190648061615"
      ]
     },
     "execution_count": 131,
     "metadata": {},
     "output_type": "execute_result"
    }
   ],
   "source": [
    "percent_0"
   ]
  },
  {
   "cell_type": "code",
   "execution_count": 136,
   "metadata": {},
   "outputs": [],
   "source": [
    "x.drop(columns=['date_block_num', 'item_cat'], inplace=True)"
   ]
  },
  {
   "cell_type": "code",
   "execution_count": 137,
   "metadata": {},
   "outputs": [
    {
     "data": {
      "text/html": [
       "<div>\n",
       "<style scoped>\n",
       "    .dataframe tbody tr th:only-of-type {\n",
       "        vertical-align: middle;\n",
       "    }\n",
       "\n",
       "    .dataframe tbody tr th {\n",
       "        vertical-align: top;\n",
       "    }\n",
       "\n",
       "    .dataframe thead th {\n",
       "        text-align: right;\n",
       "    }\n",
       "</style>\n",
       "<table border=\"1\" class=\"dataframe\">\n",
       "  <thead>\n",
       "    <tr style=\"text-align: right;\">\n",
       "      <th></th>\n",
       "      <th>shop_id</th>\n",
       "      <th>item_id</th>\n",
       "      <th>month</th>\n",
       "      <th>item_cnt_month</th>\n",
       "    </tr>\n",
       "  </thead>\n",
       "  <tbody>\n",
       "    <tr>\n",
       "      <th>0</th>\n",
       "      <td>2</td>\n",
       "      <td>0</td>\n",
       "      <td>1</td>\n",
       "      <td>0.0</td>\n",
       "    </tr>\n",
       "    <tr>\n",
       "      <th>1</th>\n",
       "      <td>2</td>\n",
       "      <td>0</td>\n",
       "      <td>2</td>\n",
       "      <td>0.0</td>\n",
       "    </tr>\n",
       "    <tr>\n",
       "      <th>2</th>\n",
       "      <td>2</td>\n",
       "      <td>0</td>\n",
       "      <td>3</td>\n",
       "      <td>0.0</td>\n",
       "    </tr>\n",
       "    <tr>\n",
       "      <th>3</th>\n",
       "      <td>2</td>\n",
       "      <td>0</td>\n",
       "      <td>4</td>\n",
       "      <td>0.0</td>\n",
       "    </tr>\n",
       "    <tr>\n",
       "      <th>4</th>\n",
       "      <td>2</td>\n",
       "      <td>0</td>\n",
       "      <td>5</td>\n",
       "      <td>0.0</td>\n",
       "    </tr>\n",
       "    <tr>\n",
       "      <th>...</th>\n",
       "      <td>...</td>\n",
       "      <td>...</td>\n",
       "      <td>...</td>\n",
       "      <td>...</td>\n",
       "    </tr>\n",
       "    <tr>\n",
       "      <th>14894875</th>\n",
       "      <td>59</td>\n",
       "      <td>22169</td>\n",
       "      <td>8</td>\n",
       "      <td>0.0</td>\n",
       "    </tr>\n",
       "    <tr>\n",
       "      <th>14894876</th>\n",
       "      <td>59</td>\n",
       "      <td>22169</td>\n",
       "      <td>9</td>\n",
       "      <td>0.0</td>\n",
       "    </tr>\n",
       "    <tr>\n",
       "      <th>14894877</th>\n",
       "      <td>59</td>\n",
       "      <td>22169</td>\n",
       "      <td>10</td>\n",
       "      <td>0.0</td>\n",
       "    </tr>\n",
       "    <tr>\n",
       "      <th>14894878</th>\n",
       "      <td>59</td>\n",
       "      <td>22169</td>\n",
       "      <td>11</td>\n",
       "      <td>0.0</td>\n",
       "    </tr>\n",
       "    <tr>\n",
       "      <th>14894879</th>\n",
       "      <td>59</td>\n",
       "      <td>22169</td>\n",
       "      <td>12</td>\n",
       "      <td>0.0</td>\n",
       "    </tr>\n",
       "  </tbody>\n",
       "</table>\n",
       "<p>14894880 rows × 4 columns</p>\n",
       "</div>"
      ],
      "text/plain": [
       "          shop_id  item_id  month  item_cnt_month\n",
       "0               2        0      1             0.0\n",
       "1               2        0      2             0.0\n",
       "2               2        0      3             0.0\n",
       "3               2        0      4             0.0\n",
       "4               2        0      5             0.0\n",
       "...           ...      ...    ...             ...\n",
       "14894875       59    22169      8             0.0\n",
       "14894876       59    22169      9             0.0\n",
       "14894877       59    22169     10             0.0\n",
       "14894878       59    22169     11             0.0\n",
       "14894879       59    22169     12             0.0\n",
       "\n",
       "[14894880 rows x 4 columns]"
      ]
     },
     "execution_count": 137,
     "metadata": {},
     "output_type": "execute_result"
    }
   ],
   "source": [
    "x"
   ]
  },
  {
   "cell_type": "code",
   "execution_count": 144,
   "metadata": {},
   "outputs": [],
   "source": [
    "x['shop_month'] = x.apply(lambda o: f'Shop-{o.shop_id}, Month-{o.month}', axis=1)"
   ]
  },
  {
   "cell_type": "code",
   "execution_count": 147,
   "metadata": {},
   "outputs": [
    {
     "data": {
      "text/plain": [
       "672"
      ]
     },
     "execution_count": 147,
     "metadata": {},
     "output_type": "execute_result"
    }
   ],
   "source": [
    "x.shop_month.nunique()"
   ]
  },
  {
   "cell_type": "code",
   "execution_count": 148,
   "metadata": {},
   "outputs": [],
   "source": [
    "from sklearn.preprocessing import LabelEncoder"
   ]
  },
  {
   "cell_type": "code",
   "execution_count": 149,
   "metadata": {},
   "outputs": [],
   "source": [
    "le = LabelEncoder()"
   ]
  },
  {
   "cell_type": "code",
   "execution_count": 150,
   "metadata": {},
   "outputs": [
    {
     "data": {
      "text/plain": [
       "LabelEncoder()"
      ]
     },
     "execution_count": 150,
     "metadata": {},
     "output_type": "execute_result"
    }
   ],
   "source": [
    "le.fit(x.shop_month)"
   ]
  },
  {
   "cell_type": "code",
   "execution_count": 157,
   "metadata": {},
   "outputs": [],
   "source": [
    "# le.classes_"
   ]
  },
  {
   "cell_type": "code",
   "execution_count": 153,
   "metadata": {},
   "outputs": [],
   "source": [
    "x.shop_month = le.transform(x.shop_month)"
   ]
  },
  {
   "cell_type": "code",
   "execution_count": 158,
   "metadata": {},
   "outputs": [],
   "source": [
    "# x.shop_month"
   ]
  },
  {
   "cell_type": "code",
   "execution_count": 156,
   "metadata": {},
   "outputs": [],
   "source": [
    "# le.inverse_transform(x.shop_month)"
   ]
  },
  {
   "cell_type": "code",
   "execution_count": 159,
   "metadata": {},
   "outputs": [],
   "source": [
    "import matplotlib.pyplot as plt\n",
    "import seaborn as sns\n",
    "sns.set(style='darkgrid')"
   ]
  },
  {
   "cell_type": "code",
   "execution_count": 162,
   "metadata": {},
   "outputs": [
    {
     "data": {
      "image/png": "[encoded data removed]",
      "text/plain": [
       "<Figure size 720x288 with 1 Axes>"
      ]
     },
     "metadata": {},
     "output_type": "display_data"
    }
   ],
   "source": [
    "plt.figure(figsize=(10,4))\n",
    "plt.xlim(-50, 1500)\n",
    "flierprops = dict(marker='o', markerfacecolor='purple', markersize=6,\n",
    "                  linestyle='none', markeredgecolor='black')\n",
    "sns.boxplot(x=x.item_cnt_month, flierprops=flierprops);"
   ]
  },
  {
   "cell_type": "code",
   "execution_count": 163,
   "metadata": {},
   "outputs": [
    {
     "data": {
      "text/plain": [
       "array([108, 112, 113, 114, 115, 116, 117, 118, 119, 109, 110, 111, 240,\n",
       "       244, 245, 246, 247, 248, 249, 250, 251, 241, 242, 243, 372, 376,\n",
       "       377, 378, 379, 380, 381, 382, 383, 373, 374, 375, 492, 496, 497,\n",
       "       498, 499, 500, 501, 502, 503, 493, 494, 495, 624, 628, 629, 630,\n",
       "       631, 632, 633, 634, 635, 625, 626, 627, 636, 640, 641, 642, 643,\n",
       "       644, 645, 646, 647, 637, 638, 639, 648, 652, 653, 654, 655, 656,\n",
       "       657, 658, 659, 649, 650, 651, 660, 664, 665, 666, 667, 668, 669,\n",
       "       670, 671, 661, 662, 663,   0,   4,   5,   6,   7,   8,   9,  10,\n",
       "        11,   1,   2,   3,  12,  16,  17,  18,  19,  20,  21,  22,  23,\n",
       "        13,  14,  15,  24,  28,  29,  30,  31,  32,  33,  34,  35,  25,\n",
       "        26,  27,  36,  40,  41,  42,  43,  44,  45,  46,  47,  37,  38,\n",
       "        39,  48,  52,  53,  54,  55,  56,  57,  58,  59,  49,  50,  51,\n",
       "        60,  64,  65,  66,  67,  68,  69,  70,  71,  61,  62,  63,  72,\n",
       "        76,  77,  78,  79,  80,  81,  82,  83,  73,  74,  75,  84,  88,\n",
       "        89,  90,  91,  92,  93,  94,  95,  85,  86,  87,  96, 100, 101,\n",
       "       102, 103, 104, 105, 106, 107,  97,  98,  99, 120, 124, 125, 126,\n",
       "       127, 128, 129, 130, 131, 121, 122, 123, 132, 136, 137, 138, 139,\n",
       "       140, 141, 142, 143, 133, 134, 135, 144, 148, 149, 150, 151, 152,\n",
       "       153, 154, 155, 145, 146, 147, 156, 160, 161, 162, 163, 164, 165,\n",
       "       166, 167, 157, 158, 159, 168, 172, 173, 174, 175, 176, 177, 178,\n",
       "       179, 169, 170, 171, 180, 184, 185, 186, 187, 188, 189, 190, 191,\n",
       "       181, 182, 183, 192, 196, 197, 198, 199, 200, 201, 202, 203, 193,\n",
       "       194, 195, 204, 208, 209, 210, 211, 212, 213, 214, 215, 205, 206,\n",
       "       207, 216, 220, 221, 222, 223, 224, 225, 226, 227, 217, 218, 219,\n",
       "       228, 232, 233, 234, 235, 236, 237, 238, 239, 229, 230, 231, 252,\n",
       "       256, 257, 258, 259, 260, 261, 262, 263, 253, 254, 255, 264, 268,\n",
       "       269, 270, 271, 272, 273, 274, 275, 265, 266, 267, 276, 280, 281,\n",
       "       282, 283, 284, 285, 286, 287, 277, 278, 279, 288, 292, 293, 294,\n",
       "       295, 296, 297, 298, 299, 289, 290, 291, 300, 304, 305, 306, 307,\n",
       "       308, 309, 310, 311, 301, 302, 303, 312, 316, 317, 318, 319, 320,\n",
       "       321, 322, 323, 313, 314, 315, 324, 328, 329, 330, 331, 332, 333,\n",
       "       334, 335, 325, 326, 327, 336, 340, 341, 342, 343, 344, 345, 346,\n",
       "       347, 337, 338, 339, 348, 352, 353, 354, 355, 356, 357, 358, 359,\n",
       "       349, 350, 351, 360, 364, 365, 366, 367, 368, 369, 370, 371, 361,\n",
       "       362, 363, 384, 388, 389, 390, 391, 392, 393, 394, 395, 385, 386,\n",
       "       387, 396, 400, 401, 402, 403, 404, 405, 406, 407, 397, 398, 399,\n",
       "       408, 412, 413, 414, 415, 416, 417, 418, 419, 409, 410, 411, 420,\n",
       "       424, 425, 426, 427, 428, 429, 430, 431, 421, 422, 423, 432, 436,\n",
       "       437, 438, 439, 440, 441, 442, 443, 433, 434, 435, 444, 448, 449,\n",
       "       450, 451, 452, 453, 454, 455, 445, 446, 447, 456, 460, 461, 462,\n",
       "       463, 464, 465, 466, 467, 457, 458, 459, 468, 472, 473, 474, 475,\n",
       "       476, 477, 478, 479, 469, 470, 471, 480, 484, 485, 486, 487, 488,\n",
       "       489, 490, 491, 481, 482, 483, 504, 508, 509, 510, 511, 512, 513,\n",
       "       514, 515, 505, 506, 507, 516, 520, 521, 522, 523, 524, 525, 526,\n",
       "       527, 517, 518, 519, 528, 532, 533, 534, 535, 536, 537, 538, 539,\n",
       "       529, 530, 531, 540, 544, 545, 546, 547, 548, 549, 550, 551, 541,\n",
       "       542, 543, 552, 556, 557, 558, 559, 560, 561, 562, 563, 553, 554,\n",
       "       555, 564, 568, 569, 570, 571, 572, 573, 574, 575, 565, 566, 567,\n",
       "       576, 580, 581, 582, 583, 584, 585, 586, 587, 577, 578, 579, 588,\n",
       "       592, 593, 594, 595, 596, 597, 598, 599, 589, 590, 591, 600, 604,\n",
       "       605, 606, 607, 608, 609, 610, 611, 601, 602, 603, 612, 616, 617,\n",
       "       618, 619, 620, 621, 622, 623, 613, 614, 615])"
      ]
     },
     "execution_count": 163,
     "metadata": {},
     "output_type": "execute_result"
    }
   ],
   "source": [
    "x.shop_month.unique()"
   ]
  },
  {
   "cell_type": "markdown",
   "metadata": {},
   "source": [
    "### Get information on shops and item_cat relationship"
   ]
  },
  {
   "cell_type": "code",
   "execution_count": 167,
   "metadata": {},
   "outputs": [],
   "source": [
    "x1 = train_master.groupby(['shop_id', 'item_id']).agg({'item_cnt_month': 'sum'})"
   ]
  },
  {
   "cell_type": "code",
   "execution_count": 169,
   "metadata": {},
   "outputs": [],
   "source": [
    "x1.reset_index(inplace=True)"
   ]
  },
  {
   "cell_type": "code",
   "execution_count": 170,
   "metadata": {},
   "outputs": [
    {
     "data": {
      "text/html": [
       "<div>\n",
       "<style scoped>\n",
       "    .dataframe tbody tr th:only-of-type {\n",
       "        vertical-align: middle;\n",
       "    }\n",
       "\n",
       "    .dataframe tbody tr th {\n",
       "        vertical-align: top;\n",
       "    }\n",
       "\n",
       "    .dataframe thead th {\n",
       "        text-align: right;\n",
       "    }\n",
       "</style>\n",
       "<table border=\"1\" class=\"dataframe\">\n",
       "  <thead>\n",
       "    <tr style=\"text-align: right;\">\n",
       "      <th></th>\n",
       "      <th>shop_id</th>\n",
       "      <th>item_id</th>\n",
       "      <th>item_cnt_month</th>\n",
       "    </tr>\n",
       "  </thead>\n",
       "  <tbody>\n",
       "    <tr>\n",
       "      <th>0</th>\n",
       "      <td>2</td>\n",
       "      <td>0</td>\n",
       "      <td>0.0</td>\n",
       "    </tr>\n",
       "    <tr>\n",
       "      <th>1</th>\n",
       "      <td>2</td>\n",
       "      <td>1</td>\n",
       "      <td>0.0</td>\n",
       "    </tr>\n",
       "    <tr>\n",
       "      <th>2</th>\n",
       "      <td>2</td>\n",
       "      <td>2</td>\n",
       "      <td>0.0</td>\n",
       "    </tr>\n",
       "    <tr>\n",
       "      <th>3</th>\n",
       "      <td>2</td>\n",
       "      <td>3</td>\n",
       "      <td>0.0</td>\n",
       "    </tr>\n",
       "    <tr>\n",
       "      <th>4</th>\n",
       "      <td>2</td>\n",
       "      <td>4</td>\n",
       "      <td>0.0</td>\n",
       "    </tr>\n",
       "    <tr>\n",
       "      <th>...</th>\n",
       "      <td>...</td>\n",
       "      <td>...</td>\n",
       "      <td>...</td>\n",
       "    </tr>\n",
       "    <tr>\n",
       "      <th>1241235</th>\n",
       "      <td>59</td>\n",
       "      <td>22165</td>\n",
       "      <td>0.0</td>\n",
       "    </tr>\n",
       "    <tr>\n",
       "      <th>1241236</th>\n",
       "      <td>59</td>\n",
       "      <td>22166</td>\n",
       "      <td>0.0</td>\n",
       "    </tr>\n",
       "    <tr>\n",
       "      <th>1241237</th>\n",
       "      <td>59</td>\n",
       "      <td>22167</td>\n",
       "      <td>4.0</td>\n",
       "    </tr>\n",
       "    <tr>\n",
       "      <th>1241238</th>\n",
       "      <td>59</td>\n",
       "      <td>22168</td>\n",
       "      <td>0.0</td>\n",
       "    </tr>\n",
       "    <tr>\n",
       "      <th>1241239</th>\n",
       "      <td>59</td>\n",
       "      <td>22169</td>\n",
       "      <td>0.0</td>\n",
       "    </tr>\n",
       "  </tbody>\n",
       "</table>\n",
       "<p>1241240 rows × 3 columns</p>\n",
       "</div>"
      ],
      "text/plain": [
       "         shop_id  item_id  item_cnt_month\n",
       "0              2        0             0.0\n",
       "1              2        1             0.0\n",
       "2              2        2             0.0\n",
       "3              2        3             0.0\n",
       "4              2        4             0.0\n",
       "...          ...      ...             ...\n",
       "1241235       59    22165             0.0\n",
       "1241236       59    22166             0.0\n",
       "1241237       59    22167             4.0\n",
       "1241238       59    22168             0.0\n",
       "1241239       59    22169             0.0\n",
       "\n",
       "[1241240 rows x 3 columns]"
      ]
     },
     "execution_count": 170,
     "metadata": {},
     "output_type": "execute_result"
    }
   ],
   "source": [
    "x1"
   ]
  },
  {
   "cell_type": "code",
   "execution_count": 174,
   "metadata": {},
   "outputs": [
    {
     "data": {
      "text/plain": [
       "LabelEncoder()"
      ]
     },
     "execution_count": 174,
     "metadata": {},
     "output_type": "execute_result"
    }
   ],
   "source": [
    "le.fit(x1.item_id)"
   ]
  },
  {
   "cell_type": "code",
   "execution_count": 175,
   "metadata": {},
   "outputs": [],
   "source": [
    "x1['item_label'] = le.transform(x1.item_id)"
   ]
  },
  {
   "cell_type": "code",
   "execution_count": 177,
   "metadata": {},
   "outputs": [
    {
     "data": {
      "text/plain": [
       "LabelEncoder()"
      ]
     },
     "execution_count": 177,
     "metadata": {},
     "output_type": "execute_result"
    }
   ],
   "source": [
    "le.fit(x1.shop_id)"
   ]
  },
  {
   "cell_type": "code",
   "execution_count": 178,
   "metadata": {},
   "outputs": [],
   "source": [
    "x1['shop_label'] = le.transform(x1.shop_id)"
   ]
  },
  {
   "cell_type": "code",
   "execution_count": 179,
   "metadata": {},
   "outputs": [
    {
     "data": {
      "text/html": [
       "<div>\n",
       "<style scoped>\n",
       "    .dataframe tbody tr th:only-of-type {\n",
       "        vertical-align: middle;\n",
       "    }\n",
       "\n",
       "    .dataframe tbody tr th {\n",
       "        vertical-align: top;\n",
       "    }\n",
       "\n",
       "    .dataframe thead th {\n",
       "        text-align: right;\n",
       "    }\n",
       "</style>\n",
       "<table border=\"1\" class=\"dataframe\">\n",
       "  <thead>\n",
       "    <tr style=\"text-align: right;\">\n",
       "      <th></th>\n",
       "      <th>shop_id</th>\n",
       "      <th>item_id</th>\n",
       "      <th>item_cnt_month</th>\n",
       "      <th>item_label</th>\n",
       "      <th>shop_label</th>\n",
       "    </tr>\n",
       "  </thead>\n",
       "  <tbody>\n",
       "    <tr>\n",
       "      <th>0</th>\n",
       "      <td>2</td>\n",
       "      <td>0</td>\n",
       "      <td>0.0</td>\n",
       "      <td>0</td>\n",
       "      <td>0</td>\n",
       "    </tr>\n",
       "    <tr>\n",
       "      <th>1</th>\n",
       "      <td>2</td>\n",
       "      <td>1</td>\n",
       "      <td>0.0</td>\n",
       "      <td>1</td>\n",
       "      <td>0</td>\n",
       "    </tr>\n",
       "    <tr>\n",
       "      <th>2</th>\n",
       "      <td>2</td>\n",
       "      <td>2</td>\n",
       "      <td>0.0</td>\n",
       "      <td>2</td>\n",
       "      <td>0</td>\n",
       "    </tr>\n",
       "    <tr>\n",
       "      <th>3</th>\n",
       "      <td>2</td>\n",
       "      <td>3</td>\n",
       "      <td>0.0</td>\n",
       "      <td>3</td>\n",
       "      <td>0</td>\n",
       "    </tr>\n",
       "    <tr>\n",
       "      <th>4</th>\n",
       "      <td>2</td>\n",
       "      <td>4</td>\n",
       "      <td>0.0</td>\n",
       "      <td>4</td>\n",
       "      <td>0</td>\n",
       "    </tr>\n",
       "    <tr>\n",
       "      <th>...</th>\n",
       "      <td>...</td>\n",
       "      <td>...</td>\n",
       "      <td>...</td>\n",
       "      <td>...</td>\n",
       "      <td>...</td>\n",
       "    </tr>\n",
       "    <tr>\n",
       "      <th>1241235</th>\n",
       "      <td>59</td>\n",
       "      <td>22165</td>\n",
       "      <td>0.0</td>\n",
       "      <td>22160</td>\n",
       "      <td>55</td>\n",
       "    </tr>\n",
       "    <tr>\n",
       "      <th>1241236</th>\n",
       "      <td>59</td>\n",
       "      <td>22166</td>\n",
       "      <td>0.0</td>\n",
       "      <td>22161</td>\n",
       "      <td>55</td>\n",
       "    </tr>\n",
       "    <tr>\n",
       "      <th>1241237</th>\n",
       "      <td>59</td>\n",
       "      <td>22167</td>\n",
       "      <td>4.0</td>\n",
       "      <td>22162</td>\n",
       "      <td>55</td>\n",
       "    </tr>\n",
       "    <tr>\n",
       "      <th>1241238</th>\n",
       "      <td>59</td>\n",
       "      <td>22168</td>\n",
       "      <td>0.0</td>\n",
       "      <td>22163</td>\n",
       "      <td>55</td>\n",
       "    </tr>\n",
       "    <tr>\n",
       "      <th>1241239</th>\n",
       "      <td>59</td>\n",
       "      <td>22169</td>\n",
       "      <td>0.0</td>\n",
       "      <td>22164</td>\n",
       "      <td>55</td>\n",
       "    </tr>\n",
       "  </tbody>\n",
       "</table>\n",
       "<p>1241240 rows × 5 columns</p>\n",
       "</div>"
      ],
      "text/plain": [
       "         shop_id  item_id  item_cnt_month  item_label  shop_label\n",
       "0              2        0             0.0           0           0\n",
       "1              2        1             0.0           1           0\n",
       "2              2        2             0.0           2           0\n",
       "3              2        3             0.0           3           0\n",
       "4              2        4             0.0           4           0\n",
       "...          ...      ...             ...         ...         ...\n",
       "1241235       59    22165             0.0       22160          55\n",
       "1241236       59    22166             0.0       22161          55\n",
       "1241237       59    22167             4.0       22162          55\n",
       "1241238       59    22168             0.0       22163          55\n",
       "1241239       59    22169             0.0       22164          55\n",
       "\n",
       "[1241240 rows x 5 columns]"
      ]
     },
     "execution_count": 179,
     "metadata": {},
     "output_type": "execute_result"
    }
   ],
   "source": [
    "x1"
   ]
  },
  {
   "cell_type": "code",
   "execution_count": null,
   "metadata": {},
   "outputs": [],
   "source": []
  },
  {
   "cell_type": "code",
   "execution_count": null,
   "metadata": {},
   "outputs": [],
   "source": []
  }
 ],
 "metadata": {
  "kernelspec": {
   "display_name": "Python 3",
   "language": "python",
   "name": "python3"
  },
  "language_info": {
   "codemirror_mode": {
    "name": "ipython",
    "version": 3
   },
   "file_extension": ".py",
   "mimetype": "text/x-python",
   "name": "python",
   "nbconvert_exporter": "python",
   "pygments_lexer": "ipython3",
   "version": "3.8.2"
  }
 },
 "nbformat": 4,
 "nbformat_minor": 4
}
