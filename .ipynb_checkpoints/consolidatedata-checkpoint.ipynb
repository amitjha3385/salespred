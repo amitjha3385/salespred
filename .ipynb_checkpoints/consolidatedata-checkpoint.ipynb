{
 "cells": [
  {
   "cell_type": "code",
   "execution_count": 20,
   "metadata": {},
   "outputs": [],
   "source": [
    "import pandas as pd\n",
    "import numpy as np\n",
    "pd.set_option('display.max_columns', 99)"
   ]
  },
  {
   "cell_type": "code",
   "execution_count": 2,
   "metadata": {},
   "outputs": [],
   "source": [
    "base = pd.read_feather('./input/basestructuredf.ftr')\n",
    "sales = pd.read_feather('./input/cleanedmonthly.ftr')\n",
    "test = pd.read_csv('./input/test.csv')\n",
    "items = pd.read_feather('./input/items_data.ftr')\n",
    "shops = pd.read_feather('./input/shops_data.ftr')"
   ]
  },
  {
   "cell_type": "code",
   "execution_count": 3,
   "metadata": {},
   "outputs": [
    {
     "name": "stdout",
     "output_type": "stream",
     "text": [
      "<class 'pandas.core.frame.DataFrame'>\n",
      "RangeIndex: 1104644 entries, 0 to 1104643\n",
      "Data columns (total 8 columns):\n",
      " #   Column                Non-Null Count    Dtype  \n",
      "---  ------                --------------    -----  \n",
      " 0   year                  1104644 non-null  int64  \n",
      " 1   month                 1104644 non-null  int64  \n",
      " 2   shop_id               1104644 non-null  int64  \n",
      " 3   item_id               1104644 non-null  int64  \n",
      " 4   date_block_num        1104644 non-null  int64  \n",
      " 5   item_cnt_month        1104644 non-null  float64\n",
      " 6   median_monthly_price  1104644 non-null  float64\n",
      " 7   mean_monthly_price    1104644 non-null  float64\n",
      "dtypes: float64(3), int64(5)\n",
      "memory usage: 67.4 MB\n"
     ]
    }
   ],
   "source": [
    "sales.info()"
   ]
  },
  {
   "cell_type": "code",
   "execution_count": 4,
   "metadata": {},
   "outputs": [
    {
     "name": "stdout",
     "output_type": "stream",
     "text": [
      "<class 'pandas.core.frame.DataFrame'>\n",
      "RangeIndex: 60 entries, 0 to 59\n",
      "Data columns (total 3 columns):\n",
      " #   Column     Non-Null Count  Dtype \n",
      "---  ------     --------------  ----- \n",
      " 0   shop_name  60 non-null     object\n",
      " 1   shop_id    60 non-null     int64 \n",
      " 2   location   60 non-null     object\n",
      "dtypes: int64(1), object(2)\n",
      "memory usage: 1.5+ KB\n"
     ]
    }
   ],
   "source": [
    "shops.info()"
   ]
  },
  {
   "cell_type": "code",
   "execution_count": 5,
   "metadata": {},
   "outputs": [
    {
     "name": "stdout",
     "output_type": "stream",
     "text": [
      "<class 'pandas.core.frame.DataFrame'>\n",
      "RangeIndex: 22170 entries, 0 to 22169\n",
      "Data columns (total 4 columns):\n",
      " #   Column            Non-Null Count  Dtype \n",
      "---  ------            --------------  ----- \n",
      " 0   item_id           22170 non-null  int64 \n",
      " 1   item_category_id  22170 non-null  int64 \n",
      " 2   cat_code          22170 non-null  object\n",
      " 3   cat_subcode       22170 non-null  object\n",
      "dtypes: int64(2), object(2)\n",
      "memory usage: 692.9+ KB\n"
     ]
    }
   ],
   "source": [
    "items.info()"
   ]
  },
  {
   "cell_type": "code",
   "execution_count": 6,
   "metadata": {},
   "outputs": [],
   "source": [
    "shops.drop(columns='shop_name', inplace=True)"
   ]
  },
  {
   "cell_type": "code",
   "execution_count": 7,
   "metadata": {},
   "outputs": [],
   "source": [
    "combined = pd.merge(base, sales, 'outer', on=['year', 'date_block_num','month','shop_id', 'item_id'])"
   ]
  },
  {
   "cell_type": "code",
   "execution_count": 8,
   "metadata": {},
   "outputs": [
    {
     "name": "stdout",
     "output_type": "stream",
     "text": [
      "<class 'pandas.core.frame.DataFrame'>\n",
      "Int64Index: 18648420 entries, 0 to 18648419\n",
      "Data columns (total 8 columns):\n",
      " #   Column                Dtype  \n",
      "---  ------                -----  \n",
      " 0   shop_id               int8   \n",
      " 1   item_id               int16  \n",
      " 2   date_block_num        int64  \n",
      " 3   month                 int64  \n",
      " 4   year                  int64  \n",
      " 5   item_cnt_month        float64\n",
      " 6   median_monthly_price  float64\n",
      " 7   mean_monthly_price    float64\n",
      "dtypes: float64(3), int16(1), int64(3), int8(1)\n",
      "memory usage: 1.0 GB\n"
     ]
    }
   ],
   "source": [
    "combined.info()"
   ]
  },
  {
   "cell_type": "code",
   "execution_count": 9,
   "metadata": {},
   "outputs": [
    {
     "data": {
      "text/plain": [
       "shop_id                        0\n",
       "item_id                        0\n",
       "date_block_num                 0\n",
       "month                          0\n",
       "year                           0\n",
       "item_cnt_month          17543776\n",
       "median_monthly_price    17543776\n",
       "mean_monthly_price      17543776\n",
       "dtype: int64"
      ]
     },
     "execution_count": 9,
     "metadata": {},
     "output_type": "execute_result"
    }
   ],
   "source": [
    "combined.isnull().sum()"
   ]
  },
  {
   "cell_type": "code",
   "execution_count": 10,
   "metadata": {},
   "outputs": [],
   "source": [
    "combined= combined.merge(shops, how='left', on='shop_id')"
   ]
  },
  {
   "cell_type": "code",
   "execution_count": 11,
   "metadata": {},
   "outputs": [],
   "source": [
    "combined = combined.merge(items, how='left', on='item_id')"
   ]
  },
  {
   "cell_type": "code",
   "execution_count": 12,
   "metadata": {},
   "outputs": [
    {
     "data": {
      "text/plain": [
       "shop_id                        0\n",
       "item_id                        0\n",
       "date_block_num                 0\n",
       "month                          0\n",
       "year                           0\n",
       "item_cnt_month          17543776\n",
       "median_monthly_price    17543776\n",
       "mean_monthly_price      17543776\n",
       "location                       0\n",
       "item_category_id               0\n",
       "cat_code                       0\n",
       "cat_subcode                    0\n",
       "dtype: int64"
      ]
     },
     "execution_count": 12,
     "metadata": {},
     "output_type": "execute_result"
    }
   ],
   "source": [
    "combined.isnull().sum()"
   ]
  },
  {
   "cell_type": "code",
   "execution_count": 14,
   "metadata": {},
   "outputs": [],
   "source": [
    "combined.sort_values(by=['shop_id', 'item_id', 'date_block_num'], inplace=True)"
   ]
  },
  {
   "cell_type": "markdown",
   "metadata": {},
   "source": [
    "### Add Nas for item_cnt_month, mean and median monthly prices - forward fill followed by zero for prices"
   ]
  },
  {
   "cell_type": "code",
   "execution_count": 15,
   "metadata": {},
   "outputs": [],
   "source": [
    "def fillnavals_price_item_cnt(df):\n",
    "    df.median_monthly_price = df.groupby(['shop_id', 'item_id']).median_monthly_price.fillna(method='ffill')\n",
    "    df.mean_monthly_price = df.groupby(['shop_id', 'item_id']).mean_monthly_price.fillna(method='ffill')\n",
    "    df.fillna(value=0, inplace=True)"
   ]
  },
  {
   "cell_type": "code",
   "execution_count": 16,
   "metadata": {},
   "outputs": [],
   "source": [
    "fillnavals_price_item_cnt(combined)"
   ]
  },
  {
   "cell_type": "code",
   "execution_count": 18,
   "metadata": {},
   "outputs": [
    {
     "data": {
      "text/plain": [
       "shop_id                 0\n",
       "item_id                 0\n",
       "date_block_num          0\n",
       "month                   0\n",
       "year                    0\n",
       "item_cnt_month          0\n",
       "median_monthly_price    0\n",
       "mean_monthly_price      0\n",
       "location                0\n",
       "item_category_id        0\n",
       "cat_code                0\n",
       "cat_subcode             0\n",
       "dtype: int64"
      ]
     },
     "execution_count": 18,
     "metadata": {},
     "output_type": "execute_result"
    }
   ],
   "source": [
    "combined.isnull().sum()"
   ]
  },
  {
   "cell_type": "code",
   "execution_count": 19,
   "metadata": {},
   "outputs": [
    {
     "name": "stdout",
     "output_type": "stream",
     "text": [
      "<class 'pandas.core.frame.DataFrame'>\n",
      "Int64Index: 18648420 entries, 0 to 18648419\n",
      "Data columns (total 12 columns):\n",
      " #   Column                Dtype  \n",
      "---  ------                -----  \n",
      " 0   shop_id               int8   \n",
      " 1   item_id               int16  \n",
      " 2   date_block_num        int64  \n",
      " 3   month                 int64  \n",
      " 4   year                  int64  \n",
      " 5   item_cnt_month        float64\n",
      " 6   median_monthly_price  float64\n",
      " 7   mean_monthly_price    float64\n",
      " 8   location              object \n",
      " 9   item_category_id      int64  \n",
      " 10  cat_code              object \n",
      " 11  cat_subcode           object \n",
      "dtypes: float64(3), int16(1), int64(4), int8(1), object(3)\n",
      "memory usage: 1.6+ GB\n"
     ]
    }
   ],
   "source": [
    "combined.info()"
   ]
  },
  {
   "cell_type": "markdown",
   "metadata": {},
   "source": [
    "### Add months since last sale - takes a lot of time!"
   ]
  },
  {
   "cell_type": "code",
   "execution_count": 20,
   "metadata": {},
   "outputs": [],
   "source": [
    "def months_since_last_sale(df):\n",
    "    df['date_block_with_sale'] = df.apply(lambda o: o.date_block_num + 1 if o.item_cnt_month > 0 else None, axis=1)\n",
    "    df['date_block_with_sale'] = df.groupby(['shop_id', 'item_id']).date_block_with_sale.fillna(method='ffill')\n",
    "    df['date_block_with_sale'] = df.groupby(['shop_id', 'item_id']).date_block_with_sale.fillna(value=0)\n",
    "    lagging_db_with_sale = df.groupby(['shop_id', 'item_id']).date_block_with_sale.shift(1)\n",
    "    df['months_since_sale'] = df.date_block_num - lagging_db_with_sale\n",
    "    df.drop(columns='date_block_with_sale', inplace=True)"
   ]
  },
  {
   "cell_type": "code",
   "execution_count": 21,
   "metadata": {},
   "outputs": [],
   "source": [
    "months_since_last_sale(combined)"
   ]
  },
  {
   "cell_type": "code",
   "execution_count": 22,
   "metadata": {},
   "outputs": [],
   "source": [
    "combined.sort_values(['shop_id', 'item_id', 'date_block_num'], inplace=True, ignore_index=True)"
   ]
  },
  {
   "cell_type": "code",
   "execution_count": 30,
   "metadata": {},
   "outputs": [],
   "source": [
    "# combined.to_feather('./input/temp/cons_stage1.ftr')"
   ]
  },
  {
   "cell_type": "code",
   "execution_count": 37,
   "metadata": {},
   "outputs": [],
   "source": [
    "combined = pd.read_feather('./input/temp/cons_stage1.ftr')"
   ]
  },
  {
   "cell_type": "code",
   "execution_count": 38,
   "metadata": {},
   "outputs": [
    {
     "name": "stdout",
     "output_type": "stream",
     "text": [
      "<class 'pandas.core.frame.DataFrame'>\n",
      "RangeIndex: 18648420 entries, 0 to 18648419\n",
      "Data columns (total 13 columns):\n",
      " #   Column                Dtype  \n",
      "---  ------                -----  \n",
      " 0   shop_id               int8   \n",
      " 1   item_id               int16  \n",
      " 2   date_block_num        int64  \n",
      " 3   month                 int64  \n",
      " 4   year                  int64  \n",
      " 5   item_cnt_month        float64\n",
      " 6   median_monthly_price  float64\n",
      " 7   mean_monthly_price    float64\n",
      " 8   location              object \n",
      " 9   item_category_id      int64  \n",
      " 10  cat_code              object \n",
      " 11  cat_subcode           object \n",
      " 12  months_since_sale     float64\n",
      "dtypes: float64(4), int16(1), int64(4), int8(1), object(3)\n",
      "memory usage: 1.6+ GB\n"
     ]
    }
   ],
   "source": [
    "combined.info()"
   ]
  },
  {
   "cell_type": "markdown",
   "metadata": {},
   "source": [
    "### Add Lagging Values for item_cnt_month, mean and median prices"
   ]
  },
  {
   "cell_type": "code",
   "execution_count": 39,
   "metadata": {},
   "outputs": [],
   "source": [
    "def add_lagging_values(df, num_months, attributes=['item_cnt_month']):\n",
    "    for att in attributes:\n",
    "        for i in range(num_months):\n",
    "            df[f'{att} - {i+1}'] =  df.groupby(['shop_id', 'item_id'])[att].shift(i+1)\n",
    "\n",
    "def add_lagging_deltas(df, num_lag_cols, attributes=['item_cnt_month']):\n",
    "    for att in attributes:\n",
    "        for i in range(1, num_lag_cols):\n",
    "            df[f'delta_{att}_{i}-{i+1}'] = df[f'{att} - {i}'] - df[f'{att} - {i+1}']\n",
    "            \n",
    "def add_lagging_deltas_squared(df, num_lag_cols, attributes=['item_cnt_month']):\n",
    "    for att in attributes:\n",
    "        for i in range(2, num_lag_cols):\n",
    "            df[f'delta_sq_{att}_{i-1}-{i+1}'] = df[f'delta_{att}_{i-1}-{i}'] - df[f'delta_{att}_{i}-{i+1}']"
   ]
  },
  {
   "cell_type": "markdown",
   "metadata": {},
   "source": [
    "#### For item count add lagging for 6 months, deltas and delta squared"
   ]
  },
  {
   "cell_type": "code",
   "execution_count": 40,
   "metadata": {},
   "outputs": [],
   "source": [
    "add_lagging_values(combined, num_months=6, attributes=['item_cnt_month'])\n",
    "add_lagging_deltas(combined, num_lag_cols=6, attributes=['item_cnt_month'])\n",
    "add_lagging_deltas_squared(combined, num_lag_cols=6, attributes=['item_cnt_month'])"
   ]
  },
  {
   "cell_type": "code",
   "execution_count": 21,
   "metadata": {},
   "outputs": [],
   "source": [
    "# combined.info()"
   ]
  },
  {
   "cell_type": "markdown",
   "metadata": {},
   "source": [
    "#### For item prices add only lagging for month, others are not important as confirmed by random forest"
   ]
  },
  {
   "cell_type": "code",
   "execution_count": 42,
   "metadata": {},
   "outputs": [],
   "source": [
    "add_lagging_values(combined, num_months=1, attributes=['mean_monthly_price', 'median_monthly_price'])"
   ]
  },
  {
   "cell_type": "code",
   "execution_count": 22,
   "metadata": {},
   "outputs": [],
   "source": [
    "# combined.info()"
   ]
  },
  {
   "cell_type": "code",
   "execution_count": 44,
   "metadata": {},
   "outputs": [],
   "source": [
    "combined.sort_values(['shop_id', 'item_id', 'date_block_num'], inplace=True, ignore_index=True)"
   ]
  },
  {
   "cell_type": "markdown",
   "metadata": {},
   "source": [
    "### Reduced data size of the frame"
   ]
  },
  {
   "cell_type": "code",
   "execution_count": 45,
   "metadata": {},
   "outputs": [],
   "source": [
    "def reduce_data_size(df):\n",
    "    cols = df.columns\n",
    "    numerics = ['int8', 'int16', 'int32', 'int64', 'float16', 'float32', 'float64']\n",
    "    data_types = df.dtypes\n",
    "    new_dtypes = {}\n",
    "    for col in cols:\n",
    "        if data_types[col] in numerics:\n",
    "            new_dtypes[col] = 'float32'\n",
    "    return df.astype(new_dtypes, copy=False)"
   ]
  },
  {
   "cell_type": "code",
   "execution_count": 46,
   "metadata": {},
   "outputs": [],
   "source": [
    "combined = reduce_data_size(combined)"
   ]
  },
  {
   "cell_type": "code",
   "execution_count": 23,
   "metadata": {},
   "outputs": [],
   "source": [
    "# combined.info()"
   ]
  },
  {
   "cell_type": "code",
   "execution_count": 95,
   "metadata": {},
   "outputs": [],
   "source": [
    "# combined.to_feather('input/temp/cons_stage2.ftr')"
   ]
  },
  {
   "cell_type": "code",
   "execution_count": 116,
   "metadata": {},
   "outputs": [],
   "source": [
    "combined = pd.read_feather('input/temp/cons_stage2.ftr')"
   ]
  },
  {
   "cell_type": "code",
   "execution_count": 24,
   "metadata": {},
   "outputs": [],
   "source": [
    "# combined.info()"
   ]
  },
  {
   "cell_type": "markdown",
   "metadata": {},
   "source": [
    "### Add Mean encoded features"
   ]
  },
  {
   "cell_type": "markdown",
   "metadata": {},
   "source": [
    "#### Add Mean of lagging item count per month for 3 months and six months\n"
   ]
  },
  {
   "cell_type": "markdown",
   "metadata": {},
   "source": [
    "#### Add delta of item count per month with these average values"
   ]
  },
  {
   "cell_type": "code",
   "execution_count": 118,
   "metadata": {},
   "outputs": [],
   "source": [
    "def add_avg_lagging(df, attributes=['item_cnt_month'], num_lagging_months=6):\n",
    "    for att in attributes:\n",
    "        for i in range(1,num_lagging_months):\n",
    "            cols = [f'{att} - {o+1}' for o in range(i+1)]\n",
    "            df[f'avg_{i+1}_{att}'] = df.loc[:,cols].mean(axis=1)\n",
    "            \n",
    "def add_avg_trend_lagging(df, attributes=['item_cnt_month'], num_lagging_months=6):\n",
    "    for att in attributes:\n",
    "            df[f'trend_{att}_avg2'] = df[f'{att} - 1'] - df[f'avg_2_{att}']\n",
    "            for i in range(2, num_lagging_months):\n",
    "                df[f'trend_avg{i}_avg{i+1}'] = df[f'avg_{i}_{att}'] - df[f'avg_{i}_{att}']"
   ]
  },
  {
   "cell_type": "code",
   "execution_count": 119,
   "metadata": {},
   "outputs": [],
   "source": [
    "add_avg_lagging(combined)"
   ]
  },
  {
   "cell_type": "code",
   "execution_count": 120,
   "metadata": {},
   "outputs": [],
   "source": [
    "# add_avg_trend_lagging(combined)"
   ]
  },
  {
   "cell_type": "code",
   "execution_count": 123,
   "metadata": {},
   "outputs": [],
   "source": [
    "# combined.to_feather('./input/temp/cons_stage3.ftr')"
   ]
  },
  {
   "cell_type": "code",
   "execution_count": 129,
   "metadata": {},
   "outputs": [],
   "source": [
    "combined = pd.read_feather('./input/temp/cons_stage3.ftr')"
   ]
  },
  {
   "cell_type": "markdown",
   "metadata": {},
   "source": [
    "### Add mean encoded features for based on categorical columns, item_id, shop_id, items_cat, cat_code, cat_sub_code"
   ]
  },
  {
   "cell_type": "code",
   "execution_count": 101,
   "metadata": {},
   "outputs": [],
   "source": [
    "groupby_first_cols = ['item_id', 'shop_id', 'location', 'item_category_id', 'cat_code', 'cat_subcode']"
   ]
  },
  {
   "cell_type": "code",
   "execution_count": 102,
   "metadata": {},
   "outputs": [],
   "source": [
    "groupby_second_cols = ['date_block_num']"
   ]
  },
  {
   "cell_type": "code",
   "execution_count": 133,
   "metadata": {},
   "outputs": [],
   "source": [
    "def add_groupby_means_lagging_1(df, first_col, second_col, mean_col):\n",
    "    for sec_col in second_col:\n",
    "        for f_col in first_col:\n",
    "            temp = df.groupby([f_col, sec_col])[mean_col].mean().reset_index()\n",
    "            temp[mean_col] = temp.groupby([f_col])[mean_col].shift(1)\n",
    "            col_name = f'lag_avg_{f_col}_{sec_col}'\n",
    "            temp.rename(columns={mean_col: col_name}, inplace=True)\n",
    "            df = df.merge(temp, 'left', on=[f_col, sec_col])\n",
    "    return df"
   ]
  },
  {
   "cell_type": "code",
   "execution_count": 134,
   "metadata": {},
   "outputs": [],
   "source": [
    "combined = add_groupby_means_lagging_1(combined, groupby_first_cols, groupby_second_cols, 'item_cnt_month')"
   ]
  },
  {
   "cell_type": "code",
   "execution_count": 135,
   "metadata": {},
   "outputs": [
    {
     "name": "stdout",
     "output_type": "stream",
     "text": [
      "<class 'pandas.core.frame.DataFrame'>\n",
      "Int64Index: 18648420 entries, 0 to 18648419\n",
      "Data columns (total 41 columns):\n",
      " #   Column                                   Dtype  \n",
      "---  ------                                   -----  \n",
      " 0   shop_id                                  float32\n",
      " 1   item_id                                  float32\n",
      " 2   date_block_num                           float32\n",
      " 3   month                                    float32\n",
      " 4   year                                     float32\n",
      " 5   item_cnt_month                           float32\n",
      " 6   median_monthly_price                     float32\n",
      " 7   mean_monthly_price                       float32\n",
      " 8   location                                 object \n",
      " 9   item_category_id                         float32\n",
      " 10  cat_code                                 object \n",
      " 11  cat_subcode                              object \n",
      " 12  months_since_sale                        float32\n",
      " 13  item_cnt_month - 1                       float32\n",
      " 14  item_cnt_month - 2                       float32\n",
      " 15  item_cnt_month - 3                       float32\n",
      " 16  item_cnt_month - 4                       float32\n",
      " 17  item_cnt_month - 5                       float32\n",
      " 18  item_cnt_month - 6                       float32\n",
      " 19  delta_item_cnt_month_1-2                 float32\n",
      " 20  delta_item_cnt_month_2-3                 float32\n",
      " 21  delta_item_cnt_month_3-4                 float32\n",
      " 22  delta_item_cnt_month_4-5                 float32\n",
      " 23  delta_item_cnt_month_5-6                 float32\n",
      " 24  delta_sq_item_cnt_month_1-3              float32\n",
      " 25  delta_sq_item_cnt_month_2-4              float32\n",
      " 26  delta_sq_item_cnt_month_3-5              float32\n",
      " 27  delta_sq_item_cnt_month_4-6              float32\n",
      " 28  mean_monthly_price - 1                   float32\n",
      " 29  median_monthly_price - 1                 float32\n",
      " 30  avg_2_item_cnt_month                     float32\n",
      " 31  avg_3_item_cnt_month                     float32\n",
      " 32  avg_4_item_cnt_month                     float32\n",
      " 33  avg_5_item_cnt_month                     float32\n",
      " 34  avg_6_item_cnt_month                     float32\n",
      " 35  lag_avg_item_id_date_block_num           float32\n",
      " 36  lag_avg_shop_id_date_block_num           float32\n",
      " 37  lag_avg_location_date_block_num          float32\n",
      " 38  lag_avg_item_category_id_date_block_num  float32\n",
      " 39  lag_avg_cat_code_date_block_num          float32\n",
      " 40  lag_avg_cat_subcode_date_block_num       float32\n",
      "dtypes: float32(38), object(3)\n",
      "memory usage: 3.2+ GB\n"
     ]
    }
   ],
   "source": [
    "combined.info()"
   ]
  },
  {
   "cell_type": "markdown",
   "metadata": {},
   "source": [
    "### Add mean encoded features based on categorical columns - items_cat, cat_code, cat_sub_code - groupedby shop_id and date_block_num"
   ]
  },
  {
   "cell_type": "code",
   "execution_count": 139,
   "metadata": {},
   "outputs": [],
   "source": [
    "def add_multiple_groupby_means_lagging_1(df, first_col, cols, mean_col):\n",
    "    for col in cols:\n",
    "            temp = df.groupby([first_col, col, 'date_block_num'])[mean_col].mean().reset_index()\n",
    "            temp[mean_col] = temp.groupby([first_col, col])[mean_col].shift(1)\n",
    "            col_name = f'lag_avg_{first_col}_{col}_date'\n",
    "            temp.rename(columns={mean_col: col_name}, inplace=True)\n",
    "            df = df.merge(temp, 'left', on=[first_col, col, 'date_block_num'])\n",
    "    return df"
   ]
  },
  {
   "cell_type": "code",
   "execution_count": 140,
   "metadata": {},
   "outputs": [],
   "source": [
    "cols = ['item_category_id', 'cat_code', 'cat_subcode']"
   ]
  },
  {
   "cell_type": "code",
   "execution_count": 141,
   "metadata": {},
   "outputs": [],
   "source": [
    "combined = add_multiple_groupby_means_lagging_1(combined, 'shop_id', cols, 'item_cnt_month')"
   ]
  },
  {
   "cell_type": "code",
   "execution_count": 143,
   "metadata": {},
   "outputs": [],
   "source": [
    "combined = add_multiple_groupby_means_lagging_1(combined, 'location', cols, 'item_cnt_month')"
   ]
  },
  {
   "cell_type": "code",
   "execution_count": 144,
   "metadata": {},
   "outputs": [
    {
     "name": "stdout",
     "output_type": "stream",
     "text": [
      "<class 'pandas.core.frame.DataFrame'>\n",
      "Int64Index: 18648420 entries, 0 to 18648419\n",
      "Data columns (total 47 columns):\n",
      " #   Column                                   Dtype  \n",
      "---  ------                                   -----  \n",
      " 0   shop_id                                  float32\n",
      " 1   item_id                                  float32\n",
      " 2   date_block_num                           float32\n",
      " 3   month                                    float32\n",
      " 4   year                                     float32\n",
      " 5   item_cnt_month                           float32\n",
      " 6   median_monthly_price                     float32\n",
      " 7   mean_monthly_price                       float32\n",
      " 8   location                                 object \n",
      " 9   item_category_id                         float32\n",
      " 10  cat_code                                 object \n",
      " 11  cat_subcode                              object \n",
      " 12  months_since_sale                        float32\n",
      " 13  item_cnt_month - 1                       float32\n",
      " 14  item_cnt_month - 2                       float32\n",
      " 15  item_cnt_month - 3                       float32\n",
      " 16  item_cnt_month - 4                       float32\n",
      " 17  item_cnt_month - 5                       float32\n",
      " 18  item_cnt_month - 6                       float32\n",
      " 19  delta_item_cnt_month_1-2                 float32\n",
      " 20  delta_item_cnt_month_2-3                 float32\n",
      " 21  delta_item_cnt_month_3-4                 float32\n",
      " 22  delta_item_cnt_month_4-5                 float32\n",
      " 23  delta_item_cnt_month_5-6                 float32\n",
      " 24  delta_sq_item_cnt_month_1-3              float32\n",
      " 25  delta_sq_item_cnt_month_2-4              float32\n",
      " 26  delta_sq_item_cnt_month_3-5              float32\n",
      " 27  delta_sq_item_cnt_month_4-6              float32\n",
      " 28  mean_monthly_price - 1                   float32\n",
      " 29  median_monthly_price - 1                 float32\n",
      " 30  avg_2_item_cnt_month                     float32\n",
      " 31  avg_3_item_cnt_month                     float32\n",
      " 32  avg_4_item_cnt_month                     float32\n",
      " 33  avg_5_item_cnt_month                     float32\n",
      " 34  avg_6_item_cnt_month                     float32\n",
      " 35  lag_avg_item_id_date_block_num           float32\n",
      " 36  lag_avg_shop_id_date_block_num           float32\n",
      " 37  lag_avg_location_date_block_num          float32\n",
      " 38  lag_avg_item_category_id_date_block_num  float32\n",
      " 39  lag_avg_cat_code_date_block_num          float32\n",
      " 40  lag_avg_cat_subcode_date_block_num       float32\n",
      " 41  lag_avg_shop_id_item_category_id_date    float32\n",
      " 42  lag_avg_shop_id_cat_code_date            float32\n",
      " 43  lag_avg_shop_id_cat_subcode_date         float32\n",
      " 44  lag_avg_location_item_category_id_date   float32\n",
      " 45  lag_avg_location_cat_code_date           float32\n",
      " 46  lag_avg_location_cat_subcode_date        float32\n",
      "dtypes: float32(44), object(3)\n",
      "memory usage: 3.6+ GB\n"
     ]
    }
   ],
   "source": [
    "combined.info()"
   ]
  },
  {
   "cell_type": "code",
   "execution_count": 146,
   "metadata": {},
   "outputs": [],
   "source": [
    "# combined.to_feather('./input/temp/cons_stage4.ftr')"
   ]
  },
  {
   "cell_type": "code",
   "execution_count": 117,
   "metadata": {},
   "outputs": [],
   "source": [
    "combined = pd.read_feather('./input/temp/cons_stage4.ftr')"
   ]
  },
  {
   "cell_type": "markdown",
   "metadata": {},
   "source": [
    "## Create Dataframe to extract embeddings from shop_id, item_id, date_block_num"
   ]
  },
  {
   "cell_type": "code",
   "execution_count": 158,
   "metadata": {},
   "outputs": [],
   "source": [
    "embeds = combined.loc[combined.date_block_num<34, ['shop_id', 'date_block_num', 'item_id', 'item_cnt_month']].copy()"
   ]
  },
  {
   "cell_type": "code",
   "execution_count": 159,
   "metadata": {},
   "outputs": [
    {
     "data": {
      "text/html": [
       "<div>\n",
       "<style scoped>\n",
       "    .dataframe tbody tr th:only-of-type {\n",
       "        vertical-align: middle;\n",
       "    }\n",
       "\n",
       "    .dataframe tbody tr th {\n",
       "        vertical-align: top;\n",
       "    }\n",
       "\n",
       "    .dataframe thead th {\n",
       "        text-align: right;\n",
       "    }\n",
       "</style>\n",
       "<table border=\"1\" class=\"dataframe\">\n",
       "  <thead>\n",
       "    <tr style=\"text-align: right;\">\n",
       "      <th></th>\n",
       "      <th>shop_id</th>\n",
       "      <th>date_block_num</th>\n",
       "      <th>item_id</th>\n",
       "      <th>item_cnt_month</th>\n",
       "    </tr>\n",
       "  </thead>\n",
       "  <tbody>\n",
       "    <tr>\n",
       "      <th>0</th>\n",
       "      <td>2.0</td>\n",
       "      <td>0.0</td>\n",
       "      <td>1.0</td>\n",
       "      <td>0.0</td>\n",
       "    </tr>\n",
       "    <tr>\n",
       "      <th>1</th>\n",
       "      <td>2.0</td>\n",
       "      <td>1.0</td>\n",
       "      <td>1.0</td>\n",
       "      <td>0.0</td>\n",
       "    </tr>\n",
       "    <tr>\n",
       "      <th>2</th>\n",
       "      <td>2.0</td>\n",
       "      <td>2.0</td>\n",
       "      <td>1.0</td>\n",
       "      <td>0.0</td>\n",
       "    </tr>\n",
       "    <tr>\n",
       "      <th>3</th>\n",
       "      <td>2.0</td>\n",
       "      <td>3.0</td>\n",
       "      <td>1.0</td>\n",
       "      <td>0.0</td>\n",
       "    </tr>\n",
       "    <tr>\n",
       "      <th>4</th>\n",
       "      <td>2.0</td>\n",
       "      <td>4.0</td>\n",
       "      <td>1.0</td>\n",
       "      <td>0.0</td>\n",
       "    </tr>\n",
       "    <tr>\n",
       "      <th>...</th>\n",
       "      <td>...</td>\n",
       "      <td>...</td>\n",
       "      <td>...</td>\n",
       "      <td>...</td>\n",
       "    </tr>\n",
       "    <tr>\n",
       "      <th>18648414</th>\n",
       "      <td>59.0</td>\n",
       "      <td>29.0</td>\n",
       "      <td>22167.0</td>\n",
       "      <td>0.0</td>\n",
       "    </tr>\n",
       "    <tr>\n",
       "      <th>18648415</th>\n",
       "      <td>59.0</td>\n",
       "      <td>30.0</td>\n",
       "      <td>22167.0</td>\n",
       "      <td>0.0</td>\n",
       "    </tr>\n",
       "    <tr>\n",
       "      <th>18648416</th>\n",
       "      <td>59.0</td>\n",
       "      <td>31.0</td>\n",
       "      <td>22167.0</td>\n",
       "      <td>0.0</td>\n",
       "    </tr>\n",
       "    <tr>\n",
       "      <th>18648417</th>\n",
       "      <td>59.0</td>\n",
       "      <td>32.0</td>\n",
       "      <td>22167.0</td>\n",
       "      <td>0.0</td>\n",
       "    </tr>\n",
       "    <tr>\n",
       "      <th>18648418</th>\n",
       "      <td>59.0</td>\n",
       "      <td>33.0</td>\n",
       "      <td>22167.0</td>\n",
       "      <td>0.0</td>\n",
       "    </tr>\n",
       "  </tbody>\n",
       "</table>\n",
       "<p>18115608 rows × 4 columns</p>\n",
       "</div>"
      ],
      "text/plain": [
       "          shop_id  date_block_num  item_id  item_cnt_month\n",
       "0             2.0             0.0      1.0             0.0\n",
       "1             2.0             1.0      1.0             0.0\n",
       "2             2.0             2.0      1.0             0.0\n",
       "3             2.0             3.0      1.0             0.0\n",
       "4             2.0             4.0      1.0             0.0\n",
       "...           ...             ...      ...             ...\n",
       "18648414     59.0            29.0  22167.0             0.0\n",
       "18648415     59.0            30.0  22167.0             0.0\n",
       "18648416     59.0            31.0  22167.0             0.0\n",
       "18648417     59.0            32.0  22167.0             0.0\n",
       "18648418     59.0            33.0  22167.0             0.0\n",
       "\n",
       "[18115608 rows x 4 columns]"
      ]
     },
     "execution_count": 159,
     "metadata": {},
     "output_type": "execute_result"
    }
   ],
   "source": [
    "embeds"
   ]
  },
  {
   "cell_type": "code",
   "execution_count": null,
   "metadata": {},
   "outputs": [],
   "source": []
  },
  {
   "cell_type": "markdown",
   "metadata": {},
   "source": [
    "### Save Training data"
   ]
  },
  {
   "cell_type": "code",
   "execution_count": 147,
   "metadata": {},
   "outputs": [],
   "source": [
    "train_data = combined.loc[combined.date_block_num>5].copy()"
   ]
  },
  {
   "cell_type": "code",
   "execution_count": 148,
   "metadata": {},
   "outputs": [
    {
     "data": {
      "text/plain": [
       "shop_id                                    0\n",
       "item_id                                    0\n",
       "date_block_num                             0\n",
       "month                                      0\n",
       "year                                       0\n",
       "item_cnt_month                             0\n",
       "median_monthly_price                       0\n",
       "mean_monthly_price                         0\n",
       "location                                   0\n",
       "item_category_id                           0\n",
       "cat_code                                   0\n",
       "cat_subcode                                0\n",
       "months_since_sale                          0\n",
       "item_cnt_month - 1                         0\n",
       "item_cnt_month - 2                         0\n",
       "item_cnt_month - 3                         0\n",
       "item_cnt_month - 4                         0\n",
       "item_cnt_month - 5                         0\n",
       "item_cnt_month - 6                         0\n",
       "delta_item_cnt_month_1-2                   0\n",
       "delta_item_cnt_month_2-3                   0\n",
       "delta_item_cnt_month_3-4                   0\n",
       "delta_item_cnt_month_4-5                   0\n",
       "delta_item_cnt_month_5-6                   0\n",
       "delta_sq_item_cnt_month_1-3                0\n",
       "delta_sq_item_cnt_month_2-4                0\n",
       "delta_sq_item_cnt_month_3-5                0\n",
       "delta_sq_item_cnt_month_4-6                0\n",
       "mean_monthly_price - 1                     0\n",
       "median_monthly_price - 1                   0\n",
       "avg_2_item_cnt_month                       0\n",
       "avg_3_item_cnt_month                       0\n",
       "avg_4_item_cnt_month                       0\n",
       "avg_5_item_cnt_month                       0\n",
       "avg_6_item_cnt_month                       0\n",
       "lag_avg_item_id_date_block_num             0\n",
       "lag_avg_shop_id_date_block_num             0\n",
       "lag_avg_location_date_block_num            0\n",
       "lag_avg_item_category_id_date_block_num    0\n",
       "lag_avg_cat_code_date_block_num            0\n",
       "lag_avg_cat_subcode_date_block_num         0\n",
       "lag_avg_shop_id_item_category_id_date      0\n",
       "lag_avg_shop_id_cat_code_date              0\n",
       "lag_avg_shop_id_cat_subcode_date           0\n",
       "lag_avg_location_item_category_id_date     0\n",
       "lag_avg_location_cat_code_date             0\n",
       "lag_avg_location_cat_subcode_date          0\n",
       "dtype: int64"
      ]
     },
     "execution_count": 148,
     "metadata": {},
     "output_type": "execute_result"
    }
   ],
   "source": [
    "train_data.isnull().sum()"
   ]
  },
  {
   "cell_type": "code",
   "execution_count": 149,
   "metadata": {},
   "outputs": [],
   "source": [
    "train_data.sort_values(['shop_id', 'item_id', 'date_block_num'], inplace=True, ignore_index=True)"
   ]
  },
  {
   "cell_type": "code",
   "execution_count": 150,
   "metadata": {},
   "outputs": [],
   "source": [
    "train_data.drop(columns=['median_monthly_price', 'mean_monthly_price'], inplace=True)"
   ]
  },
  {
   "cell_type": "code",
   "execution_count": 151,
   "metadata": {},
   "outputs": [],
   "source": [
    "train_data.to_feather('./input/train_data.ftr')"
   ]
  },
  {
   "cell_type": "code",
   "execution_count": 152,
   "metadata": {},
   "outputs": [
    {
     "data": {
      "text/plain": [
       "45"
      ]
     },
     "execution_count": 152,
     "metadata": {},
     "output_type": "execute_result"
    }
   ],
   "source": [
    "len(train_data.columns)"
   ]
  },
  {
   "cell_type": "code",
   "execution_count": null,
   "metadata": {},
   "outputs": [],
   "source": []
  }
 ],
 "metadata": {
  "kernelspec": {
   "display_name": "Python 3",
   "language": "python",
   "name": "python3"
  },
  "language_info": {
   "codemirror_mode": {
    "name": "ipython",
    "version": 3
   },
   "file_extension": ".py",
   "mimetype": "text/x-python",
   "name": "python",
   "nbconvert_exporter": "python",
   "pygments_lexer": "ipython3",
   "version": "3.8.3"
  }
 },
 "nbformat": 4,
 "nbformat_minor": 4
}
