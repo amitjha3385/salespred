{
 "cells": [
  {
   "cell_type": "code",
   "execution_count": 1,
   "metadata": {},
   "outputs": [],
   "source": [
    "import pandas as pd\n",
    "import numpy as np\n",
    "import re"
   ]
  },
  {
   "cell_type": "code",
   "execution_count": 2,
   "metadata": {},
   "outputs": [],
   "source": [
    "from googletrans import Translator"
   ]
  },
  {
   "cell_type": "code",
   "execution_count": 3,
   "metadata": {},
   "outputs": [],
   "source": [
    "translator = Translator()"
   ]
  },
  {
   "cell_type": "code",
   "execution_count": 4,
   "metadata": {},
   "outputs": [],
   "source": [
    "shops = pd.read_csv('./input/shops.csv')\n",
    "items = pd.read_csv('./input/items.csv')\n",
    "items_cat = pd.read_csv('./input/item_categories.csv')"
   ]
  },
  {
   "cell_type": "markdown",
   "metadata": {},
   "source": [
    "## Items analysis"
   ]
  },
  {
   "cell_type": "code",
   "execution_count": 5,
   "metadata": {},
   "outputs": [],
   "source": [
    "items_cat['name_eng'] = items_cat['item_category_name'].apply(lambda x: translator.translate(x).text)"
   ]
  },
  {
   "cell_type": "code",
   "execution_count": 6,
   "metadata": {},
   "outputs": [],
   "source": [
    "p_c = re.compile(r'\\s\\(([^\\)]+)\\)')\n",
    "p_sc = re.compile(r'\\(([^)]+)\\)')\n",
    "\n",
    "def get_code(x, reg_pattern):\n",
    "    codes = x.split(' - ')\n",
    "    return re.sub(reg_pattern, '', codes[0]).lower()\n",
    "\n",
    "def get_subcode(x, reg_pattern):\n",
    "    codes = x.split(' - ')\n",
    "    if len(codes) > 1:\n",
    "        return codes[1].lower()\n",
    "    else:\n",
    "        if len(codes) == 1:\n",
    "            cat_code = codes[0]\n",
    "            sub_code = re.findall(reg_pattern, cat_code)\n",
    "            return sub_code[0].lower() if len(sub_code)>0 else 'none'"
   ]
  },
  {
   "cell_type": "code",
   "execution_count": 7,
   "metadata": {},
   "outputs": [],
   "source": [
    "items_cat['cat_code'] = items_cat['name_eng'].apply(lambda x: get_code(x, p_c))\n",
    "items_cat['cat_subcode'] = items_cat['name_eng'].apply(lambda x: get_subcode(x, p_sc))"
   ]
  },
  {
   "cell_type": "code",
   "execution_count": 8,
   "metadata": {},
   "outputs": [
    {
     "data": {
      "text/plain": [
       "20"
      ]
     },
     "execution_count": 8,
     "metadata": {},
     "output_type": "execute_result"
    }
   ],
   "source": [
    "items_cat.cat_code.nunique()"
   ]
  },
  {
   "cell_type": "code",
   "execution_count": 9,
   "metadata": {},
   "outputs": [
    {
     "data": {
      "text/plain": [
       "64"
      ]
     },
     "execution_count": 9,
     "metadata": {},
     "output_type": "execute_result"
    }
   ],
   "source": [
    "items_cat.cat_subcode.nunique()"
   ]
  },
  {
   "cell_type": "code",
   "execution_count": 10,
   "metadata": {},
   "outputs": [],
   "source": [
    "items_data = pd.merge(left=items, right=items_cat, how='left', left_on='item_category_id', right_on='item_category_id')"
   ]
  },
  {
   "cell_type": "code",
   "execution_count": 11,
   "metadata": {},
   "outputs": [
    {
     "data": {
      "text/html": [
       "<div>\n",
       "<style scoped>\n",
       "    .dataframe tbody tr th:only-of-type {\n",
       "        vertical-align: middle;\n",
       "    }\n",
       "\n",
       "    .dataframe tbody tr th {\n",
       "        vertical-align: top;\n",
       "    }\n",
       "\n",
       "    .dataframe thead th {\n",
       "        text-align: right;\n",
       "    }\n",
       "</style>\n",
       "<table border=\"1\" class=\"dataframe\">\n",
       "  <thead>\n",
       "    <tr style=\"text-align: right;\">\n",
       "      <th></th>\n",
       "      <th>item_name</th>\n",
       "      <th>item_id</th>\n",
       "      <th>item_category_id</th>\n",
       "      <th>item_category_name</th>\n",
       "      <th>name_eng</th>\n",
       "      <th>cat_code</th>\n",
       "      <th>cat_subcode</th>\n",
       "    </tr>\n",
       "  </thead>\n",
       "  <tbody>\n",
       "    <tr>\n",
       "      <th>0</th>\n",
       "      <td>! ВО ВЛАСТИ НАВАЖДЕНИЯ (ПЛАСТ.)         D</td>\n",
       "      <td>0</td>\n",
       "      <td>40</td>\n",
       "      <td>Кино - DVD</td>\n",
       "      <td>Movie - DVD</td>\n",
       "      <td>movie</td>\n",
       "      <td>dvd</td>\n",
       "    </tr>\n",
       "    <tr>\n",
       "      <th>1</th>\n",
       "      <td>!ABBYY FineReader 12 Professional Edition Full...</td>\n",
       "      <td>1</td>\n",
       "      <td>76</td>\n",
       "      <td>Программы - Для дома и офиса (Цифра)</td>\n",
       "      <td>Programs - For Home and Office (Digital)</td>\n",
       "      <td>programs</td>\n",
       "      <td>for home and office (digital)</td>\n",
       "    </tr>\n",
       "    <tr>\n",
       "      <th>2</th>\n",
       "      <td>***В ЛУЧАХ СЛАВЫ   (UNV)                    D</td>\n",
       "      <td>2</td>\n",
       "      <td>40</td>\n",
       "      <td>Кино - DVD</td>\n",
       "      <td>Movie - DVD</td>\n",
       "      <td>movie</td>\n",
       "      <td>dvd</td>\n",
       "    </tr>\n",
       "    <tr>\n",
       "      <th>3</th>\n",
       "      <td>***ГОЛУБАЯ ВОЛНА  (Univ)                      D</td>\n",
       "      <td>3</td>\n",
       "      <td>40</td>\n",
       "      <td>Кино - DVD</td>\n",
       "      <td>Movie - DVD</td>\n",
       "      <td>movie</td>\n",
       "      <td>dvd</td>\n",
       "    </tr>\n",
       "    <tr>\n",
       "      <th>4</th>\n",
       "      <td>***КОРОБКА (СТЕКЛО)                       D</td>\n",
       "      <td>4</td>\n",
       "      <td>40</td>\n",
       "      <td>Кино - DVD</td>\n",
       "      <td>Movie - DVD</td>\n",
       "      <td>movie</td>\n",
       "      <td>dvd</td>\n",
       "    </tr>\n",
       "    <tr>\n",
       "      <th>...</th>\n",
       "      <td>...</td>\n",
       "      <td>...</td>\n",
       "      <td>...</td>\n",
       "      <td>...</td>\n",
       "      <td>...</td>\n",
       "      <td>...</td>\n",
       "      <td>...</td>\n",
       "    </tr>\n",
       "    <tr>\n",
       "      <th>22165</th>\n",
       "      <td>Ядерный титбит 2 [PC, Цифровая версия]</td>\n",
       "      <td>22165</td>\n",
       "      <td>31</td>\n",
       "      <td>Игры PC - Цифра</td>\n",
       "      <td>PC Games - Number</td>\n",
       "      <td>pc games</td>\n",
       "      <td>number</td>\n",
       "    </tr>\n",
       "    <tr>\n",
       "      <th>22166</th>\n",
       "      <td>Язык запросов 1С:Предприятия  [Цифровая версия]</td>\n",
       "      <td>22166</td>\n",
       "      <td>54</td>\n",
       "      <td>Книги - Цифра</td>\n",
       "      <td>Books - Number</td>\n",
       "      <td>books</td>\n",
       "      <td>number</td>\n",
       "    </tr>\n",
       "    <tr>\n",
       "      <th>22167</th>\n",
       "      <td>Язык запросов 1С:Предприятия 8 (+CD). Хрустале...</td>\n",
       "      <td>22167</td>\n",
       "      <td>49</td>\n",
       "      <td>Книги - Методические материалы 1С</td>\n",
       "      <td>Books - Methodical materials 1C</td>\n",
       "      <td>books</td>\n",
       "      <td>methodical materials 1c</td>\n",
       "    </tr>\n",
       "    <tr>\n",
       "      <th>22168</th>\n",
       "      <td>Яйцо для Little Inu</td>\n",
       "      <td>22168</td>\n",
       "      <td>62</td>\n",
       "      <td>Подарки - Гаджеты, роботы, спорт</td>\n",
       "      <td>Gifts - Gadgets, Robots, Sports</td>\n",
       "      <td>gifts</td>\n",
       "      <td>gadgets, robots, sports</td>\n",
       "    </tr>\n",
       "    <tr>\n",
       "      <th>22169</th>\n",
       "      <td>Яйцо дракона (Игра престолов)</td>\n",
       "      <td>22169</td>\n",
       "      <td>69</td>\n",
       "      <td>Подарки - Сувениры</td>\n",
       "      <td>Gifts - Souvenirs</td>\n",
       "      <td>gifts</td>\n",
       "      <td>souvenirs</td>\n",
       "    </tr>\n",
       "  </tbody>\n",
       "</table>\n",
       "<p>22170 rows × 7 columns</p>\n",
       "</div>"
      ],
      "text/plain": [
       "                                               item_name  item_id  \\\n",
       "0              ! ВО ВЛАСТИ НАВАЖДЕНИЯ (ПЛАСТ.)         D        0   \n",
       "1      !ABBYY FineReader 12 Professional Edition Full...        1   \n",
       "2          ***В ЛУЧАХ СЛАВЫ   (UNV)                    D        2   \n",
       "3        ***ГОЛУБАЯ ВОЛНА  (Univ)                      D        3   \n",
       "4            ***КОРОБКА (СТЕКЛО)                       D        4   \n",
       "...                                                  ...      ...   \n",
       "22165             Ядерный титбит 2 [PC, Цифровая версия]    22165   \n",
       "22166    Язык запросов 1С:Предприятия  [Цифровая версия]    22166   \n",
       "22167  Язык запросов 1С:Предприятия 8 (+CD). Хрустале...    22167   \n",
       "22168                                Яйцо для Little Inu    22168   \n",
       "22169                      Яйцо дракона (Игра престолов)    22169   \n",
       "\n",
       "       item_category_id                    item_category_name  \\\n",
       "0                    40                            Кино - DVD   \n",
       "1                    76  Программы - Для дома и офиса (Цифра)   \n",
       "2                    40                            Кино - DVD   \n",
       "3                    40                            Кино - DVD   \n",
       "4                    40                            Кино - DVD   \n",
       "...                 ...                                   ...   \n",
       "22165                31                       Игры PC - Цифра   \n",
       "22166                54                         Книги - Цифра   \n",
       "22167                49     Книги - Методические материалы 1С   \n",
       "22168                62      Подарки - Гаджеты, роботы, спорт   \n",
       "22169                69                    Подарки - Сувениры   \n",
       "\n",
       "                                       name_eng  cat_code  \\\n",
       "0                                   Movie - DVD     movie   \n",
       "1      Programs - For Home and Office (Digital)  programs   \n",
       "2                                   Movie - DVD     movie   \n",
       "3                                   Movie - DVD     movie   \n",
       "4                                   Movie - DVD     movie   \n",
       "...                                         ...       ...   \n",
       "22165                         PC Games - Number  pc games   \n",
       "22166                            Books - Number     books   \n",
       "22167           Books - Methodical materials 1C     books   \n",
       "22168           Gifts - Gadgets, Robots, Sports     gifts   \n",
       "22169                         Gifts - Souvenirs     gifts   \n",
       "\n",
       "                         cat_subcode  \n",
       "0                                dvd  \n",
       "1      for home and office (digital)  \n",
       "2                                dvd  \n",
       "3                                dvd  \n",
       "4                                dvd  \n",
       "...                              ...  \n",
       "22165                         number  \n",
       "22166                         number  \n",
       "22167        methodical materials 1c  \n",
       "22168        gadgets, robots, sports  \n",
       "22169                      souvenirs  \n",
       "\n",
       "[22170 rows x 7 columns]"
      ]
     },
     "execution_count": 11,
     "metadata": {},
     "output_type": "execute_result"
    }
   ],
   "source": [
    "items_data"
   ]
  },
  {
   "cell_type": "code",
   "execution_count": 12,
   "metadata": {},
   "outputs": [],
   "source": [
    "items_data.drop(columns=['item_name', 'item_category_name', 'name_eng'], inplace=True)"
   ]
  },
  {
   "cell_type": "code",
   "execution_count": 13,
   "metadata": {
    "scrolled": false
   },
   "outputs": [
    {
     "name": "stdout",
     "output_type": "stream",
     "text": [
      "<class 'pandas.core.frame.DataFrame'>\n",
      "Int64Index: 22170 entries, 0 to 22169\n",
      "Data columns (total 4 columns):\n",
      " #   Column            Non-Null Count  Dtype \n",
      "---  ------            --------------  ----- \n",
      " 0   item_id           22170 non-null  int64 \n",
      " 1   item_category_id  22170 non-null  int64 \n",
      " 2   cat_code          22170 non-null  object\n",
      " 3   cat_subcode       22170 non-null  object\n",
      "dtypes: int64(2), object(2)\n",
      "memory usage: 866.0+ KB\n"
     ]
    }
   ],
   "source": [
    "items_data.info()"
   ]
  },
  {
   "cell_type": "code",
   "execution_count": 14,
   "metadata": {},
   "outputs": [],
   "source": [
    "items_data.to_feather('./input/items_data.ftr')"
   ]
  },
  {
   "cell_type": "markdown",
   "metadata": {},
   "source": [
    "## Shops Analysis"
   ]
  },
  {
   "cell_type": "code",
   "execution_count": 15,
   "metadata": {},
   "outputs": [],
   "source": [
    "shops['shop_name'] = shops['shop_name'].apply(lambda x: translator.translate(x).text.lower())"
   ]
  },
  {
   "cell_type": "code",
   "execution_count": 16,
   "metadata": {},
   "outputs": [
    {
     "data": {
      "text/html": [
       "<div>\n",
       "<style scoped>\n",
       "    .dataframe tbody tr th:only-of-type {\n",
       "        vertical-align: middle;\n",
       "    }\n",
       "\n",
       "    .dataframe tbody tr th {\n",
       "        vertical-align: top;\n",
       "    }\n",
       "\n",
       "    .dataframe thead th {\n",
       "        text-align: right;\n",
       "    }\n",
       "</style>\n",
       "<table border=\"1\" class=\"dataframe\">\n",
       "  <thead>\n",
       "    <tr style=\"text-align: right;\">\n",
       "      <th></th>\n",
       "      <th>shop_name</th>\n",
       "      <th>shop_id</th>\n",
       "    </tr>\n",
       "  </thead>\n",
       "  <tbody>\n",
       "    <tr>\n",
       "      <th>52</th>\n",
       "      <td>ufa tc \"central\"</td>\n",
       "      <td>52</td>\n",
       "    </tr>\n",
       "    <tr>\n",
       "      <th>56</th>\n",
       "      <td>chekhov sec \"carnival\"</td>\n",
       "      <td>56</td>\n",
       "    </tr>\n",
       "    <tr>\n",
       "      <th>2</th>\n",
       "      <td>adygea shopping center \"mega\"</td>\n",
       "      <td>2</td>\n",
       "    </tr>\n",
       "    <tr>\n",
       "      <th>42</th>\n",
       "      <td>spb tc \"nevsky center\"</td>\n",
       "      <td>42</td>\n",
       "    </tr>\n",
       "    <tr>\n",
       "      <th>16</th>\n",
       "      <td>kolomna tc \"rio\"</td>\n",
       "      <td>16</td>\n",
       "    </tr>\n",
       "    <tr>\n",
       "      <th>59</th>\n",
       "      <td>yaroslavl tc \"altair\"</td>\n",
       "      <td>59</td>\n",
       "    </tr>\n",
       "    <tr>\n",
       "      <th>29</th>\n",
       "      <td>moscow tc \"new age\" (novokosino)</td>\n",
       "      <td>29</td>\n",
       "    </tr>\n",
       "    <tr>\n",
       "      <th>50</th>\n",
       "      <td>tyumen tc \"goodwin\"</td>\n",
       "      <td>50</td>\n",
       "    </tr>\n",
       "    <tr>\n",
       "      <th>7</th>\n",
       "      <td>voronezh trc \"maksimir\"</td>\n",
       "      <td>7</td>\n",
       "    </tr>\n",
       "    <tr>\n",
       "      <th>5</th>\n",
       "      <td>vologda sec \"marmelad\"</td>\n",
       "      <td>5</td>\n",
       "    </tr>\n",
       "  </tbody>\n",
       "</table>\n",
       "</div>"
      ],
      "text/plain": [
       "                           shop_name  shop_id\n",
       "52                  ufa tc \"central\"       52\n",
       "56            chekhov sec \"carnival\"       56\n",
       "2      adygea shopping center \"mega\"        2\n",
       "42            spb tc \"nevsky center\"       42\n",
       "16                  kolomna tc \"rio\"       16\n",
       "59             yaroslavl tc \"altair\"       59\n",
       "29  moscow tc \"new age\" (novokosino)       29\n",
       "50               tyumen tc \"goodwin\"       50\n",
       "7            voronezh trc \"maksimir\"        7\n",
       "5             vologda sec \"marmelad\"        5"
      ]
     },
     "execution_count": 16,
     "metadata": {},
     "output_type": "execute_result"
    }
   ],
   "source": [
    "shops.sample(10)"
   ]
  },
  {
   "cell_type": "code",
   "execution_count": 17,
   "metadata": {},
   "outputs": [],
   "source": [
    "p_rem_special= re.compile(r'[\\!*()\\[\\],.]')"
   ]
  },
  {
   "cell_type": "code",
   "execution_count": 18,
   "metadata": {},
   "outputs": [],
   "source": [
    "shops['shop_name'] = shops['shop_name'].apply(lambda x: re.sub(p_rem_special,'', x))"
   ]
  },
  {
   "cell_type": "code",
   "execution_count": 19,
   "metadata": {},
   "outputs": [],
   "source": [
    "patternlocation = re.compile(r'[\\w\\-]+')"
   ]
  },
  {
   "cell_type": "code",
   "execution_count": 20,
   "metadata": {},
   "outputs": [],
   "source": [
    "shops['location'] = shops['shop_name'].apply(lambda x: re.findall(patternlocation, x)[0])"
   ]
  },
  {
   "cell_type": "code",
   "execution_count": 21,
   "metadata": {},
   "outputs": [
    {
     "data": {
      "text/html": [
       "<div>\n",
       "<style scoped>\n",
       "    .dataframe tbody tr th:only-of-type {\n",
       "        vertical-align: middle;\n",
       "    }\n",
       "\n",
       "    .dataframe tbody tr th {\n",
       "        vertical-align: top;\n",
       "    }\n",
       "\n",
       "    .dataframe thead th {\n",
       "        text-align: right;\n",
       "    }\n",
       "</style>\n",
       "<table border=\"1\" class=\"dataframe\">\n",
       "  <thead>\n",
       "    <tr style=\"text-align: right;\">\n",
       "      <th></th>\n",
       "      <th>shop_name</th>\n",
       "      <th>shop_id</th>\n",
       "      <th>location</th>\n",
       "    </tr>\n",
       "  </thead>\n",
       "  <tbody>\n",
       "    <tr>\n",
       "      <th>38</th>\n",
       "      <td>omsk tc \"mega\"</td>\n",
       "      <td>38</td>\n",
       "      <td>omsk</td>\n",
       "    </tr>\n",
       "    <tr>\n",
       "      <th>11</th>\n",
       "      <td>zhukovsky st chkalov 39m²</td>\n",
       "      <td>11</td>\n",
       "      <td>zhukovsky</td>\n",
       "    </tr>\n",
       "    <tr>\n",
       "      <th>37</th>\n",
       "      <td>novosibirsk tc \"mega\"</td>\n",
       "      <td>37</td>\n",
       "      <td>novosibirsk</td>\n",
       "    </tr>\n",
       "    <tr>\n",
       "      <th>31</th>\n",
       "      <td>moscow tc \"semenovsky\"</td>\n",
       "      <td>31</td>\n",
       "      <td>moscow</td>\n",
       "    </tr>\n",
       "    <tr>\n",
       "      <th>30</th>\n",
       "      <td>moscow perlovsky shopping center</td>\n",
       "      <td>30</td>\n",
       "      <td>moscow</td>\n",
       "    </tr>\n",
       "    <tr>\n",
       "      <th>19</th>\n",
       "      <td>kursk tc \"pushkinsky\"</td>\n",
       "      <td>19</td>\n",
       "      <td>kursk</td>\n",
       "    </tr>\n",
       "    <tr>\n",
       "      <th>2</th>\n",
       "      <td>adygea shopping center \"mega\"</td>\n",
       "      <td>2</td>\n",
       "      <td>adygea</td>\n",
       "    </tr>\n",
       "    <tr>\n",
       "      <th>54</th>\n",
       "      <td>khimki tc \"mega\"</td>\n",
       "      <td>54</td>\n",
       "      <td>khimki</td>\n",
       "    </tr>\n",
       "    <tr>\n",
       "      <th>22</th>\n",
       "      <td>moscow shop c21</td>\n",
       "      <td>22</td>\n",
       "      <td>moscow</td>\n",
       "    </tr>\n",
       "    <tr>\n",
       "      <th>49</th>\n",
       "      <td>tyumen sec \"crystal\"</td>\n",
       "      <td>49</td>\n",
       "      <td>tyumen</td>\n",
       "    </tr>\n",
       "  </tbody>\n",
       "</table>\n",
       "</div>"
      ],
      "text/plain": [
       "                           shop_name  shop_id     location\n",
       "38                    omsk tc \"mega\"       38         omsk\n",
       "11         zhukovsky st chkalov 39m²       11    zhukovsky\n",
       "37             novosibirsk tc \"mega\"       37  novosibirsk\n",
       "31            moscow tc \"semenovsky\"       31       moscow\n",
       "30  moscow perlovsky shopping center       30       moscow\n",
       "19             kursk tc \"pushkinsky\"       19        kursk\n",
       "2      adygea shopping center \"mega\"        2       adygea\n",
       "54                  khimki tc \"mega\"       54       khimki\n",
       "22                   moscow shop c21       22       moscow\n",
       "49              tyumen sec \"crystal\"       49       tyumen"
      ]
     },
     "execution_count": 21,
     "metadata": {},
     "output_type": "execute_result"
    }
   ],
   "source": [
    "shops.sample(10)"
   ]
  },
  {
   "cell_type": "code",
   "execution_count": 22,
   "metadata": {},
   "outputs": [],
   "source": [
    "p_shop_identifier = re.compile(r'\\\"([\\w]+)\\\"')\n",
    "def shop_identifier(x, pat):\n",
    "    identifier = re.findall(p_shop_identifier, x)\n",
    "    if len(identifier)==1: return identifier[0]\n",
    "    else: return 'none'"
   ]
  },
  {
   "cell_type": "code",
   "execution_count": 23,
   "metadata": {},
   "outputs": [],
   "source": [
    "shops['identifier'] = shops['shop_name'].apply(lambda x: shop_identifier(x, p_shop_identifier))"
   ]
  },
  {
   "cell_type": "code",
   "execution_count": 24,
   "metadata": {},
   "outputs": [
    {
     "data": {
      "text/plain": [
       "none           28\n",
       "mega            5\n",
       "central         3\n",
       "budenovskiy     2\n",
       "rio             2\n",
       "behetle         1\n",
       "parkhouse       1\n",
       "semenovsky      1\n",
       "city            1\n",
       "carnival        1\n",
       "maksimir        1\n",
       "areal           1\n",
       "goodwin         1\n",
       "altair          1\n",
       "pushkinsky      1\n",
       "melody          1\n",
       "sale            1\n",
       "parkhaus        1\n",
       "fantasy         1\n",
       "marmelad        1\n",
       "june            1\n",
       "family          1\n",
       "atrium          1\n",
       "sennaya         1\n",
       "crystal         1\n",
       "Name: identifier, dtype: int64"
      ]
     },
     "execution_count": 24,
     "metadata": {},
     "output_type": "execute_result"
    }
   ],
   "source": [
    "shops.identifier.value_counts()"
   ]
  },
  {
   "cell_type": "code",
   "execution_count": 25,
   "metadata": {},
   "outputs": [
    {
     "data": {
      "text/plain": [
       "moscow           13\n",
       "yakutsk           4\n",
       "tyumen            3\n",
       "voronezh          3\n",
       "krasnoyarsk       2\n",
       "nnovgorod         2\n",
       "zhukovsky         2\n",
       "samara            2\n",
       "novosibirsk       2\n",
       "spb               2\n",
       "kazan             2\n",
       "ufa               2\n",
       "khimki            1\n",
       "rostov            1\n",
       "balashikha        1\n",
       "chekhov           1\n",
       "adygea            1\n",
       "vologda           1\n",
       "rostov-on-don     1\n",
       "mytischi          1\n",
       "omsk              1\n",
       "rostovnadonu      1\n",
       "surgut            1\n",
       "emergency         1\n",
       "offsite           1\n",
       "kaluga            1\n",
       "digital           1\n",
       "sergiev           1\n",
       "kolomna           1\n",
       "volzhsky          1\n",
       "kursk             1\n",
       "tomsk             1\n",
       "yaroslavl         1\n",
       "Name: location, dtype: int64"
      ]
     },
     "execution_count": 25,
     "metadata": {},
     "output_type": "execute_result"
    }
   ],
   "source": [
    "shops.location.value_counts()"
   ]
  },
  {
   "cell_type": "code",
   "execution_count": 26,
   "metadata": {},
   "outputs": [],
   "source": [
    "shops.loc[shops.location == 'rostovnadonu', 'location'] = 'rostov-on-don'"
   ]
  },
  {
   "cell_type": "code",
   "execution_count": 27,
   "metadata": {},
   "outputs": [
    {
     "data": {
      "text/plain": [
       "moscow           13\n",
       "yakutsk           4\n",
       "voronezh          3\n",
       "tyumen            3\n",
       "krasnoyarsk       2\n",
       "nnovgorod         2\n",
       "rostov-on-don     2\n",
       "zhukovsky         2\n",
       "samara            2\n",
       "novosibirsk       2\n",
       "kazan             2\n",
       "ufa               2\n",
       "spb               2\n",
       "balashikha        1\n",
       "rostov            1\n",
       "adygea            1\n",
       "khimki            1\n",
       "vologda           1\n",
       "mytischi          1\n",
       "omsk              1\n",
       "chekhov           1\n",
       "surgut            1\n",
       "emergency         1\n",
       "offsite           1\n",
       "kaluga            1\n",
       "digital           1\n",
       "sergiev           1\n",
       "kolomna           1\n",
       "volzhsky          1\n",
       "kursk             1\n",
       "tomsk             1\n",
       "yaroslavl         1\n",
       "Name: location, dtype: int64"
      ]
     },
     "execution_count": 27,
     "metadata": {},
     "output_type": "execute_result"
    }
   ],
   "source": [
    "shops.location.value_counts()"
   ]
  },
  {
   "cell_type": "code",
   "execution_count": 28,
   "metadata": {},
   "outputs": [],
   "source": [
    "shops.drop(columns='identifier', inplace=True)"
   ]
  },
  {
   "cell_type": "code",
   "execution_count": 29,
   "metadata": {},
   "outputs": [],
   "source": [
    "shops.to_feather('./input/shops_data.ftr')"
   ]
  },
  {
   "cell_type": "code",
   "execution_count": null,
   "metadata": {},
   "outputs": [],
   "source": []
  }
 ],
 "metadata": {
  "kernelspec": {
   "display_name": "Python 3",
   "language": "python",
   "name": "python3"
  },
  "language_info": {
   "codemirror_mode": {
    "name": "ipython",
    "version": 3
   },
   "file_extension": ".py",
   "mimetype": "text/x-python",
   "name": "python",
   "nbconvert_exporter": "python",
   "pygments_lexer": "ipython3",
   "version": "3.8.3"
  }
 },
 "nbformat": 4,
 "nbformat_minor": 4
}
